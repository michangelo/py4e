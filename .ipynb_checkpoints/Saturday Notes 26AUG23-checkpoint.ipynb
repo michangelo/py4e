{
 "cells": [
  {
   "cell_type": "markdown",
   "id": "b0c5cc4c",
   "metadata": {},
   "source": [
    "# Saturday Notes "
   ]
  },
  {
   "cell_type": "markdown",
   "id": "15e980a8",
   "metadata": {},
   "source": [
    "Juan - cython website I'll have to check out"
   ]
  },
  {
   "cell_type": "markdown",
   "id": "77afe492",
   "metadata": {},
   "source": [
    "New course is a collection of coursera courses "
   ]
  },
  {
   "cell_type": "markdown",
   "id": "51e6320c",
   "metadata": {},
   "source": [
    "1230 break time \n",
    "                                                          "
   ]
  },
  {
   "cell_type": "markdown",
   "id": "8a9e473d",
   "metadata": {},
   "source": [
    "Dictionaries, aka Map O(1) - generally must faster - no matter how big the dictionary it will perform the same. \n",
    "\n",
    "{}\n",
    "\n",
    "\n",
    "Linear Search O(n)  - a little slower and sorting a little slower\n",
    "\n",
    "macCount = None\n",
    "maxEmail = None\n",
    "\n",
    "for key,value in histogram:\n",
    "    # record maximum \n",
    "\n",
    "topics earlier:\n",
    "sorting \n",
    "binary search\n",
    "built-in objects like dictionaries and lists \n",
    "\n",
    "tree set - container of objects thats always sorted. when you create items called a tree set they have methods that automatically ...\n",
    "    "
   ]
  },
  {
   "cell_type": "code",
   "execution_count": 5,
   "id": "2fdce86f",
   "metadata": {},
   "outputs": [
    {
     "name": "stdout",
     "output_type": "stream",
     "text": [
      "[1, 2, 3, 4, 5, 6, 7, 8, 9, 10, 11, 12, 13, 14, 15, 16, 17, 18, 19, 20, 21, 22, 23, 24, 25, 26, 27, 28, 29, 30, 31, 32, 33, 34, 35, 36, 37, 38, 39, 40, 41, 42, 43, 44, 45, 46, 47, 48, 49, 50, 51, 52, 53, 54, 55, 56, 57, 58, 59, 60, 61, 62, 63, 64, 65, 66, 67, 68, 69, 70, 71, 72, 73, 74, 75, 76, 77, 78, 79, 80, 81, 82, 83, 84, 85, 86, 87, 88, 89, 90, 91, 92, 93, 94, 95, 96, 97, 98, 99, 100]\n",
      "True\n"
     ]
    }
   ],
   "source": [
    "# ordered_list.py BONUS \n",
    "class OrderedList():\n",
    "    \n",
    "    items = []\n",
    "    \n",
    "    def add(self, item):\n",
    "        self.items.append(item)\n",
    "        # Adaptive sorts run faster on almost sorted \n",
    "        self.items.sort()\n",
    "    \n",
    "    def find(self, item): # O(n/2)\n",
    "        middle = len(self.items)//2 # double slash for integer instead of float\n",
    "        if item == self.items[middle]:\n",
    "            return True \n",
    "        elif item < self.items[middle]:\n",
    "            return item in self.items[:middle]\n",
    "        else:\n",
    "            return item in self.items[middle+1:]\n",
    "        #return item in items # O(n)\n",
    "\n",
    "myOrderedList = OrderedList()\n",
    "for i in range(100, 0, -1):\n",
    "    myOrderedList.add(i)\n",
    "print(myOrderedList.items)\n",
    "print(myOrderedList.find(4))"
   ]
  },
  {
   "cell_type": "code",
   "execution_count": 20,
   "id": "9e7ea5ad",
   "metadata": {},
   "outputs": [
    {
     "name": "stdout",
     "output_type": "stream",
     "text": [
      "[1, 2, 3, 4, 5, 6, 7, 8, 9, 10, 11, 12, 13, 14, 15, 16, 17, 18, 19, 20, 21, 22, 23, 24, 25, 26, 27, 28, 29, 30, 31, 32, 33, 34, 35, 36, 37, 38, 39, 40, 41, 42, 43, 44, 45, 46, 47, 48, 49, 50, 51, 52, 53, 54, 55, 56, 57, 58, 59, 60, 61, 62, 63, 64, 65, 66, 67, 68, 69, 70, 71, 72, 73, 74, 75, 76, 77, 78, 79, 80, 81, 82, 83, 84, 85, 86, 87, 88, 89, 90, 91, 92, 93, 94, 95, 96, 97, 98, 99, 100, 101, 102, 103, 104, 105, 106, 107, 108, 109, 110, 111, 112, 113, 114, 115, 116, 117, 118, 119, 120, 121, 122, 123, 124, 125, 126, 127, 128, 129, 130, 131, 132, 133, 134, 135, 136, 137, 138, 139, 140, 141, 142, 143, 144, 145, 146, 147, 148, 149, 150, 151, 152, 153, 154, 155, 156, 157, 158, 159, 160, 161, 162, 163, 164, 165, 166, 167, 168, 169, 170, 171, 172, 173, 174, 175, 176, 177, 178, 179, 180, 181, 182, 183, 184, 185, 186, 187, 188, 189, 190, 191, 192, 193, 194, 195, 196, 197, 198, 199, 200, 201, 202, 203, 204, 205, 206, 207, 208, 209, 210, 211, 212, 213, 214, 215, 216, 217, 218, 219, 220, 221, 222, 223, 224, 225, 226, 227, 228, 229, 230, 231, 232, 233, 234, 235, 236, 237, 238, 239, 240, 241, 242, 243, 244, 245, 246, 247, 248, 249, 250, 251, 252, 253, 254, 255, 256, 257, 258, 259, 260, 261, 262, 263, 264, 265, 266, 267, 268, 269, 270, 271, 272, 273, 274, 275, 276, 277, 278, 279, 280, 281, 282, 283, 284, 285, 286, 287, 288, 289, 290, 291, 292, 293, 294, 295, 296, 297, 298, 299, 300, 301, 302, 303, 304, 305, 306, 307, 308, 309, 310, 311, 312, 313, 314, 315, 316, 317, 318, 319, 320, 321, 322, 323, 324, 325, 326, 327, 328, 329, 330, 331, 332, 333, 334, 335, 336, 337, 338, 339, 340, 341, 342, 343, 344, 345, 346, 347, 348, 349, 350, 351, 352, 353, 354, 355, 356, 357, 358, 359, 360, 361, 362, 363, 364, 365, 366, 367, 368, 369, 370, 371, 372, 373, 374, 375, 376, 377, 378, 379, 380, 381, 382, 383, 384, 385, 386, 387, 388, 389, 390, 391, 392, 393, 394, 395, 396, 397, 398, 399, 400, 401, 402, 403, 404, 405, 406, 407, 408, 409, 410, 411, 412, 413, 414, 415, 416, 417, 418, 419, 420, 421, 422, 423, 424, 425, 426, 427, 428, 429, 430, 431, 432, 433, 434, 435, 436, 437, 438, 439, 440, 441, 442, 443, 444, 445, 446, 447, 448, 449, 450, 451, 452, 453, 454, 455, 456, 457, 458, 459, 460, 461, 462, 463, 464, 465, 466, 467, 468, 469, 470, 471, 472, 473, 474, 475, 476, 477, 478, 479, 480, 481, 482, 483, 484, 485, 486, 487, 488, 489, 490, 491, 492, 493, 494, 495, 496, 497, 498, 499, 500]\n"
     ]
    },
    {
     "ename": "NameError",
     "evalue": "name 'numCalls' is not defined",
     "output_type": "error",
     "traceback": [
      "\u001b[1;31m---------------------------------------------------------------------------\u001b[0m",
      "\u001b[1;31mNameError\u001b[0m                                 Traceback (most recent call last)",
      "Cell \u001b[1;32mIn[20], line 35\u001b[0m\n\u001b[0;32m     33\u001b[0m \u001b[38;5;28mprint\u001b[39m(myOrderedList\u001b[38;5;241m.\u001b[39mitems)\n\u001b[0;32m     34\u001b[0m \u001b[38;5;66;03m#print(myOrderedList.find(4))\u001b[39;00m\n\u001b[1;32m---> 35\u001b[0m \u001b[38;5;28mprint\u001b[39m(\u001b[38;5;124m'\u001b[39m\u001b[38;5;124mFunction calls:\u001b[39m\u001b[38;5;124m'\u001b[39m, \u001b[43mnumCalls\u001b[49m)\n",
      "\u001b[1;31mNameError\u001b[0m: name 'numCalls' is not defined"
     ]
    }
   ],
   "source": [
    "# Recursion \n",
    "class OrderedList():\n",
    "    \n",
    "    items = []\n",
    "    \n",
    "    def __init__(self, list = []):\n",
    "        self.items = list \n",
    "        \n",
    "    \n",
    "    def add(self, item):  # Adaptive sorts run faster on almost sorted \n",
    "        self.items.append(item)\n",
    "        self.items.sort()\n",
    "    \n",
    "    def find(self, item, numCalls=1): # O(n/2)\n",
    "        print('NumCalls:', numCalls)  \n",
    "        if (len(self.items) == 0):\n",
    "            return False\n",
    "        \n",
    "        middle = len(self.items) // 2 # double slash for integer instead of float\n",
    "        if item == self.items[middle]:\n",
    "            return True \n",
    "        elif item < self.items[middle]:\n",
    "            lowerhalf = OrderedList(self.items[:middle])\n",
    "            return OrderedList.find(lowerhalf, item, numCalls + 1)\n",
    "        else:\n",
    "            upperhalf = OrderedList(self.items[middle+1:])\n",
    "            return OrderedList.find(upperhalf, item, numCalls + 1)\n",
    "        #return item in items # O(n)     \n",
    "        \n",
    "myOrderedList = OrderedList()\n",
    "for i in range(500, 0, -1):\n",
    "    myOrderedList.add(i)\n",
    "print(myOrderedList.items)\n",
    "#print(myOrderedList.find(4))\n",
    "print('Function calls:', numCalls)"
   ]
  }
 ],
 "metadata": {
  "kernelspec": {
   "display_name": "Python 3 (ipykernel)",
   "language": "python",
   "name": "python3"
  },
  "language_info": {
   "codemirror_mode": {
    "name": "ipython",
    "version": 3
   },
   "file_extension": ".py",
   "mimetype": "text/x-python",
   "name": "python",
   "nbconvert_exporter": "python",
   "pygments_lexer": "ipython3",
   "version": "3.9.17"
  }
 },
 "nbformat": 4,
 "nbformat_minor": 5
}
