{
 "cells": [
  {
   "cell_type": "markdown",
   "id": "7ff5d4b7",
   "metadata": {},
   "source": [
    "# Lesson 6: Strings \n",
    "\n",
    "We look at how Python stores and manipulates textual data using string variables and functions.\n"
   ]
  },
  {
   "cell_type": "markdown",
   "id": "bbb94049",
   "metadata": {},
   "source": [
    "## A String is a Sequence\n",
    "\n",
    "### [Video: Strings - Part 1](<https://www.youtube.com/watch?v=dr98iM4app8>)\n",
    "\n",
    "A string is a **sequence** of characters. You can access the characters one at a time with the bracket operator.\n",
    "\n",
    "\n",
    "```py\n",
    "fruit = 'banana'\n",
    "letter = fruit[1]\n",
    "```\n",
    "\n",
    "The expression in brackets is called an *index*. The index indicates which character in the sequence you want (hence the name).\n",
    "\n",
    "But you might not get what you expect:\n",
    "\n",
    "```py\n",
    ">>> print(letter)\n",
    "a\n",
    "```\n",
    "\n",
    "For most people, the first letter of \"banana\" is \"b\", not \"a\". But in Python, the index is an offset from the beginning of the string, and the offset of the first letter is zero.\n",
    "\n",
    "```py\n",
    ">>> letter = fruit[0]\n",
    ">>> print(letter)\n",
    "b\n",
    "```\n",
    "\n",
    "So \"b\" is the 0th letter (\"zero-th\") of banana, \"a\" is the 1th letter (\"one-th\"), and \"n\" is the 2th (\"two-th\") letter. \n",
    "\n",
    "![Alt text](17100e28-string.png)\n",
    "String Indexes \n",
    "\n",
    "You can use any expression, including variables and operators, as an index, but the value of the index has to be an integer. Otherwise you get:\n",
    "\n",
    "```py\n",
    ">>> letter = fruit[1.5]\n",
    "TypeError: string indices must be integers\n",
    "```\n"
   ]
  },
  {
   "cell_type": "code",
   "execution_count": 2,
   "id": "545dfc74",
   "metadata": {},
   "outputs": [
    {
     "data": {
      "text/plain": [
       "'a'"
      ]
     },
     "execution_count": 2,
     "metadata": {},
     "output_type": "execute_result"
    }
   ],
   "source": [
    "fruit = 'banana'\n",
    "letter = fruit[1]\n",
    "letter"
   ]
  },
  {
   "cell_type": "markdown",
   "id": "091aed35",
   "metadata": {},
   "source": [
    "## Getting the Length of a String using `len`\n",
    "\n",
    "`len` is a built-in function that returns the number of characters in a string: \n",
    "\n",
    "```py\n",
    ">>> fruit = 'banana'\n",
    ">>> len(fruit)\n",
    "6\n",
    "```\n",
    "\n",
    "To get the last letter of a string, you might be tempted to try something like this: \n",
    "\n",
    "```py\n",
    ">>> length = len(fruit)\n",
    ">>> last = fruit[length]\n",
    "IndexError: string index out of range\n",
    "```\n",
    "\n",
    "The reason for the `IndexError` is that there is no letter in 'banana' with the index of 6. Since we started counting at zero, the six letters are numbers 0 to 5. To get the last character, you have to subtract 1 from `length`: \n",
    "\n",
    "```py\n",
    ">>> last = fruit[length-1]\n",
    ">>> print(last)\n",
    "a\n",
    "```\n",
    "\n",
    "Alternatively, you can use negative indices, which count backward from the end of the string. The expression `fruit[-1]` yields the last letter, `fruit[-2]` yields the second to last, and so on."
   ]
  },
  {
   "cell_type": "code",
   "execution_count": 2,
   "id": "e6b7fcba",
   "metadata": {},
   "outputs": [
    {
     "data": {
      "text/plain": [
       "6"
      ]
     },
     "execution_count": 2,
     "metadata": {},
     "output_type": "execute_result"
    }
   ],
   "source": [
    "len(fruit)"
   ]
  },
  {
   "cell_type": "code",
   "execution_count": 15,
   "id": "5dbe27c2",
   "metadata": {},
   "outputs": [
    {
     "data": {
      "text/plain": [
       "'a'"
      ]
     },
     "execution_count": 15,
     "metadata": {},
     "output_type": "execute_result"
    }
   ],
   "source": [
    "length = len(fruit)\n",
    "last = fruit[length-1]\n",
    "last "
   ]
  },
  {
   "cell_type": "markdown",
   "id": "1292b9a1",
   "metadata": {},
   "source": [
    "## Traversal through a String with a Loop \n",
    "\n",
    "A lot of computations involve processing a string one character at a time. Often they start at the beginning, select each character in turn, do something to it, and continue until the end. This pattern of processing is called a **traversal**. One way to wrtie a traversal is with a `while` loop:\n",
    "\n",
    "```py\n",
    ">>> index = 0 \n",
    ">>> while index < len(fruit):\n",
    "        letter = fruit[index]\n",
    "        print(letter)\n",
    "        index = index + 1 \n",
    "```\n",
    "\n",
    "This loop traverses the string and displays each letter on a line by itself. The loop condition is `index < len(fruit)`, so when `index` is equal to the length of the string, the condition is false, and the body of the loop is not executed. The last character accessed is the one with the index `len(fruit)-1`, which is the last character in the string."
   ]
  },
  {
   "cell_type": "code",
   "execution_count": 15,
   "id": "9bdaac92",
   "metadata": {},
   "outputs": [
    {
     "name": "stdout",
     "output_type": "stream",
     "text": [
      "a\n",
      "n\n",
      "a\n",
      "n\n",
      "a\n",
      "b\n"
     ]
    }
   ],
   "source": [
    "### work on this \n",
    "fruit = 'banana'\n",
    "index = 1 \n",
    "length = len(fruit)\n",
    "while index <= length:\n",
    "    letter = fruit[-index]\n",
    "    print(letter)\n",
    "    index += 1 \n",
    "    #print(index)"
   ]
  },
  {
   "cell_type": "code",
   "execution_count": 9,
   "id": "0316aecb",
   "metadata": {},
   "outputs": [
    {
     "name": "stdout",
     "output_type": "stream",
     "text": [
      "b\n",
      "a\n",
      "n\n",
      "a\n",
      "n\n",
      "a\n"
     ]
    }
   ],
   "source": [
    "for char in fruit:\n",
    "    print(char)"
   ]
  },
  {
   "cell_type": "markdown",
   "id": "591ee95e",
   "metadata": {},
   "source": [
    "### Exercise 1 \n",
    "\n",
    "Write a `while` loop that starts at the last character in the string and works its way backwards to the first character in the string, printing each letter on a separate line, except backwards. \n",
    "\n",
    "Another way to write a traversal is with a `for` loop:\n",
    "\n",
    "```py\n",
    "for char in fruit:\n",
    "    print(char)\n",
    "```\n",
    "\n",
    "Each time through the loop, the next character in the string is assigned to the variable `char`. The loop continues until no characters are left. \n"
   ]
  },
  {
   "cell_type": "code",
   "execution_count": 18,
   "id": "f4fd2028",
   "metadata": {},
   "outputs": [
    {
     "name": "stdout",
     "output_type": "stream",
     "text": [
      "a\n",
      "n\n",
      "a\n",
      "n\n",
      "a\n",
      "b\n"
     ]
    }
   ],
   "source": [
    "fruit = 'banana'\n",
    "for letter in fruit[::-1]:\n",
    "    print(letter) \n",
    "\n",
    "    "
   ]
  },
  {
   "cell_type": "code",
   "execution_count": 19,
   "id": "9185ac00",
   "metadata": {},
   "outputs": [
    {
     "name": "stdout",
     "output_type": "stream",
     "text": [
      "a\n",
      "n\n",
      "a\n",
      "n\n",
      "a\n",
      "b\n"
     ]
    }
   ],
   "source": [
    "index = 1 \n",
    "while index <= len(fruit):\n",
    "    letter = fruit[-index]\n",
    "    print(letter)\n",
    "    index += 1 "
   ]
  },
  {
   "cell_type": "code",
   "execution_count": 21,
   "id": "59cea173",
   "metadata": {},
   "outputs": [
    {
     "name": "stdout",
     "output_type": "stream",
     "text": [
      "a\n",
      "n\n",
      "a\n",
      "n\n",
      "a\n",
      "b\n"
     ]
    }
   ],
   "source": [
    "for letter in reversed(fruit):\n",
    "    print(letter)"
   ]
  },
  {
   "cell_type": "markdown",
   "id": "a4f4d22a",
   "metadata": {},
   "source": [
    "## String Slices\n",
    "\n",
    "### [Video: Strings - Part 2](<https://www.youtube.com/watch?v=bIFpJ-qZ3Cc>)\n",
    "\n",
    "A segment of a string is called a **slice**. Selecting a slice is similiar to selecting a character:\n",
    "\n",
    "```py\n",
    ">>> s = \"Monty Python\"\n",
    ">>> print(s[0:5])\n",
    "Monty\n",
    ">>> print(s[6:12])\n",
    "Python\n",
    "```\n",
    "\n",
    "The operator [n:m] returns the part of the string from the \"n-th\" character to the \"m-th\" character, including the first but excluding the last.\n",
    "\n",
    "If you omit the first index (before the colon), the slice starts at the beginning of the string. If you omit the second index, the slice goes to the end of the string. \n",
    "\n",
    "```py\n",
    ">>> fruit = 'banana'\n",
    ">>> fruit[:3]\n",
    "'ban'\n",
    ">>> fruit[3:]\n",
    "'ana'\n",
    "```\n",
    "\n",
    "If the first index is greater than or equal to the second the result is an *empty string*, represented by two quotation marks: \n",
    "\n",
    "```py\n",
    ">>> fruit = 'banana'\n",
    ">>> fruit[3:3]\n",
    "''\n",
    "```\n",
    "\n",
    "An empty string contains no characters and has length 0, but other that that, it is the same as any other string. \n"
   ]
  },
  {
   "cell_type": "code",
   "execution_count": 8,
   "id": "a4be8ae8",
   "metadata": {},
   "outputs": [
    {
     "name": "stdout",
     "output_type": "stream",
     "text": [
      "e\n",
      "l\n",
      "p\n",
      "p\n",
      "a\n"
     ]
    }
   ],
   "source": [
    "fruit = 'apple'\n",
    "for fr in reversed(fruit):\n",
    "    print(fr)"
   ]
  },
  {
   "cell_type": "markdown",
   "id": "73191589",
   "metadata": {},
   "source": [
    "### Exercise 2\n",
    "\n",
    "Given that `fruit` is a string, what does `fruit[:]` mean? \n",
    "\n",
    "- This will start from the beginning and go all the way to the end of the string."
   ]
  },
  {
   "cell_type": "markdown",
   "id": "69de6cfa",
   "metadata": {},
   "source": [
    "## Strings are Immutable\n",
    "\n",
    "It is tempting to use the operator on the left side of an assignment, with the intention of changing a character in a string. For example: \n",
    "\n",
    "```py\n",
    ">>> greeting = \"Hello world!\"\n",
    ">>> greeting[0] = 'J'\n",
    "TypeError: 'str' object does not support item assignment\n",
    "```\n",
    "\n",
    "The 'object' in this case is the string and the 'item' is the character you tried to assign. For now, and *object* is the same thing as a value, but we will refine that definition later. An *item* is one of the values in a sequence. \n",
    "\n",
    "The reason for the error is that strings are *immutable*, which means you can't change an existing string. The best you can do is create a new string that is a variation on the original. \n",
    "\n",
    "```py\n",
    ">>> greeting = 'Hello, world!'\n",
    ">>> new_greeting = 'J' + greeting[1:]\n",
    ">>> print(new_greeting)\n",
    "Jello, world!\n",
    "```\n",
    "\n",
    "This example concatenates a new first letter onto a slice of `greeting`. It has no effect on the original string. \n",
    "\n",
    "## Looping and Counting\n",
    "\n",
    "The following program counts the number of times the letter 'a' appears in a string:\n",
    "\n",
    "```py\n",
    "word = 'banana'\n",
    "count = 0\n",
    "for letter in word:\n",
    "    if letter == 'a':\n",
    "        count = count + 1 \n",
    "print(count)\n",
    "```\n",
    "\n",
    "This program demonstrates another pattern of computation called a *counter*. The variable `count` is initialized to 0 and then incremented each time an 'a' is found. When the loop exits, `count` contains the result: the total number of a's.\n",
    "\n"
   ]
  },
  {
   "cell_type": "code",
   "execution_count": 6,
   "id": "31397caa",
   "metadata": {},
   "outputs": [
    {
     "name": "stdout",
     "output_type": "stream",
     "text": [
      "Jello, world!\n"
     ]
    }
   ],
   "source": [
    "greeting = 'Hello, world!'\n",
    "new_greeting = 'J' + greeting[1:]\n",
    "print(new_greeting)"
   ]
  },
  {
   "cell_type": "code",
   "execution_count": 7,
   "id": "f9ab206b",
   "metadata": {},
   "outputs": [
    {
     "name": "stdout",
     "output_type": "stream",
     "text": [
      "3\n"
     ]
    }
   ],
   "source": [
    "word = 'banana'\n",
    "count = 0\n",
    "for letter in word:\n",
    "    if letter == 'a':\n",
    "        count = count + 1 \n",
    "print(count)"
   ]
  },
  {
   "cell_type": "markdown",
   "id": "bb92a5cd",
   "metadata": {},
   "source": [
    "### Exercise 3\n",
    "\n",
    "Encapsulate this code in a function named `count`, and generalize it so that it accepts the string and the letter arguments."
   ]
  },
  {
   "cell_type": "code",
   "execution_count": 15,
   "id": "ec04f5e4",
   "metadata": {},
   "outputs": [
    {
     "name": "stdout",
     "output_type": "stream",
     "text": [
      "2\n"
     ]
    }
   ],
   "source": [
    "def countLetters(zap, zing):\n",
    "    count = 0 \n",
    "    for letter in zap:\n",
    "        if letter == zing:\n",
    "            count += 1 \n",
    "    print(count)\n",
    "\n",
    "countLetters('mississippi', 'p')"
   ]
  },
  {
   "cell_type": "markdown",
   "id": "bbdfa720",
   "metadata": {},
   "source": [
    "## The `in` Operator\n",
    "\n",
    "The word `in` is a boolean operator that makes two strings and returns `True` if the first appears as a substring in the second. \n",
    "\n",
    "```py\n",
    ">>> 'a' in 'banana'\n",
    "True\n",
    ">>> 'seed' in 'banana'\n",
    "False\n",
    "```"
   ]
  },
  {
   "cell_type": "code",
   "execution_count": 16,
   "id": "60375c48",
   "metadata": {},
   "outputs": [
    {
     "data": {
      "text/plain": [
       "True"
      ]
     },
     "execution_count": 16,
     "metadata": {},
     "output_type": "execute_result"
    }
   ],
   "source": [
    "'a' in 'banana'"
   ]
  },
  {
   "cell_type": "code",
   "execution_count": 17,
   "id": "49079654",
   "metadata": {},
   "outputs": [
    {
     "data": {
      "text/plain": [
       "False"
      ]
     },
     "execution_count": 17,
     "metadata": {},
     "output_type": "execute_result"
    }
   ],
   "source": [
    "'seed' in 'banana'"
   ]
  },
  {
   "cell_type": "markdown",
   "id": "03e47813",
   "metadata": {},
   "source": [
    "## String Comparison\n",
    "\n",
    "The comparison operators work on strings. To see if two strings are equal:\n",
    "\n",
    "```py\n",
    "if word == 'banana':\n",
    "    print('All right, bananas.')\n",
    "```\n",
    "\n",
    "Other comparison operations are useful for putting words in alphabetical order: \n",
    "\n",
    "```py\n",
    "if word < 'banana':\n",
    "    print('Your word,' + word + ', comes before banana.')\n",
    "elif word > 'banana':\n",
    "    print('Your word,' + word + ', comes after banana.')\n",
    "else:\n",
    "    print('All right, bananas.')\n",
    "```\n",
    "\n",
    "Python does not handle uppercase and lowercase letters the same way that people do. All the uppercase letters come before all the lowercase letters, so:\n",
    "\n",
    "```py\n",
    "Your word, Pineapple, comes before banana.\n",
    "```\n",
    "\n",
    "A common way to address this problem is to convert strings to a standard format, such as all lowercase, before performing the comparison. Keep that in mind in case you have to defend yourself against a man armed with a Pineapple.\n"
   ]
  },
  {
   "cell_type": "markdown",
   "id": "ebf7b765",
   "metadata": {},
   "source": [
    "## String Methods\n",
    "\n",
    "Strings are an example of Python **objects**. An object contains both data (the actual string itself) and **methods**, which are effectively functions that are built into the object and are available to any **instance** of the object. \n",
    "\n",
    "Python has a function called `dir` which lists the methods available for an object. The `type` function shows the type of an object and the `dir` function shows the available methods.\n",
    "\n",
    "```py\n",
    ">>> stuff = 'Hello world'\n",
    ">>> type(stuff)\n",
    "<class 'str'>\n",
    ">>> dir(stuff)\n",
    "['capitalize', 'casefold', 'center', 'count', 'encode',\n",
    "'endswith', 'expandtabs', 'find', 'format', 'format_map',\n",
    "'index', 'isalnum', 'isalpha', 'isdecimal', 'isdigit',\n",
    "'isidentifier', 'islower', 'isnumeric', 'isprintable',\n",
    "'isspace', 'istitle', 'isupper', 'join', 'ljust', 'lower',\n",
    "'lstrip', 'maketrans', 'partition', 'replace', 'rfind',\n",
    "'rindex', 'rjust', 'rpartition', 'rsplit', 'rstrip',\n",
    "'split', 'splitlines', 'startswith', 'strip', 'swapcase',\n",
    "'title', 'translate', 'upper', 'zfill']\n",
    ">>> help(str.capitalize)\n",
    "Help on method_descriptor:\n",
    "\n",
    "capitalize(...)\n",
    "    S.capitalize() -> str\n",
    "\n",
    "    Return a capitalized version of S, i.e. make the first character\n",
    "    have upper case and the rest lower case.\n",
    ">>>\n",
    "```\n"
   ]
  },
  {
   "cell_type": "code",
   "execution_count": 21,
   "id": "3294ebea",
   "metadata": {},
   "outputs": [
    {
     "name": "stdout",
     "output_type": "stream",
     "text": [
      "Help on method_descriptor:\n",
      "\n",
      "capitalize(self, /)\n",
      "    Return a capitalized version of the string.\n",
      "    \n",
      "    More specifically, make the first character have upper case and the rest lower\n",
      "    case.\n",
      "\n"
     ]
    }
   ],
   "source": [
    "stuff = 'Hello world'\n",
    "dir(stuff)\n",
    "help(str.capitalize)"
   ]
  },
  {
   "cell_type": "markdown",
   "id": "a08b4d40",
   "metadata": {},
   "source": [
    "While the `dir` function lists the methods, and you can use `help` to get some simple documentation on a method, a better source of documentation for string methods would be <https://docs.python.org/library/stdtypes.html#string-methods>\n",
    "\n",
    "Calling a *method* is similar to calling a function (it takes arguments and returns a value) but the syntax is different. We call a method by appending the method name to the variable name using the period as a delimiter.\n",
    "\n",
    "For example, the method `upper` takes a string and returns a new string with all uppercase letters:\n",
    "\n",
    "Instead of the function syntax `upper(word)`, it uses the method syntax `word.upper()`"
   ]
  },
  {
   "cell_type": "code",
   "execution_count": 22,
   "id": "3fbf4e46",
   "metadata": {},
   "outputs": [
    {
     "name": "stdout",
     "output_type": "stream",
     "text": [
      "WOWZERS\n"
     ]
    }
   ],
   "source": [
    "word = 'wowzers'\n",
    "newword = word.upper()\n",
    "print(newword)"
   ]
  },
  {
   "cell_type": "markdown",
   "id": "77f6efb2",
   "metadata": {},
   "source": [
    "This form of dot notation specifies the name of the method, `upper`, and the name of the string to apply the method to, `word`. The empty parentheses indicate that this method takes no argument. \n",
    "\n",
    "A method call is called an **invocation**, in this case, we would say that we are invoking `upper` on the `word`. \n",
    "\n",
    "For example, there is a string method named `find` that searches for the position of one string within another. \n"
   ]
  },
  {
   "cell_type": "code",
   "execution_count": 27,
   "id": "ef784b93",
   "metadata": {},
   "outputs": [
    {
     "name": "stdout",
     "output_type": "stream",
     "text": [
      "1\n"
     ]
    }
   ],
   "source": [
    "index = word.find('o')\n",
    "print(index)"
   ]
  },
  {
   "cell_type": "markdown",
   "id": "6fb4c4b9",
   "metadata": {},
   "source": [
    "In this example, we invoke `find` on `word` and pass the letter we are looking for as a parameter.\n",
    "\n",
    "The `find` method can find substrings as well as characters. \n"
   ]
  },
  {
   "cell_type": "code",
   "execution_count": 34,
   "id": "00816736",
   "metadata": {},
   "outputs": [
    {
     "data": {
      "text/plain": [
       "0"
      ]
     },
     "execution_count": 34,
     "metadata": {},
     "output_type": "execute_result"
    }
   ],
   "source": [
    "word.find('wow')"
   ]
  },
  {
   "cell_type": "code",
   "execution_count": 30,
   "id": "38e10d94",
   "metadata": {},
   "outputs": [
    {
     "data": {
      "text/plain": [
       "1"
      ]
     },
     "execution_count": 30,
     "metadata": {},
     "output_type": "execute_result"
    }
   ],
   "source": [
    "word.find('o')"
   ]
  },
  {
   "cell_type": "markdown",
   "id": "fe606fdf",
   "metadata": {},
   "source": [
    "It can take as a second argument the index where it should start:"
   ]
  },
  {
   "cell_type": "code",
   "execution_count": 35,
   "id": "73103dac",
   "metadata": {},
   "outputs": [
    {
     "data": {
      "text/plain": [
       "-1"
      ]
     },
     "execution_count": 35,
     "metadata": {},
     "output_type": "execute_result"
    }
   ],
   "source": [
    "word.find('wo', 3)"
   ]
  },
  {
   "cell_type": "markdown",
   "id": "7a1da0a9",
   "metadata": {},
   "source": [
    "One common task is to remove white space (spaces, tabs, or newlines) from the beginning and end of a string using the `strip` method:"
   ]
  },
  {
   "cell_type": "code",
   "execution_count": 41,
   "id": "8a14201a",
   "metadata": {},
   "outputs": [
    {
     "data": {
      "text/plain": [
       "str"
      ]
     },
     "execution_count": 41,
     "metadata": {},
     "output_type": "execute_result"
    }
   ],
   "source": [
    "line = '   here we go    '\n",
    "line.strip()\n",
    "type(line.strip())"
   ]
  },
  {
   "cell_type": "markdown",
   "id": "c2be9d0b",
   "metadata": {},
   "source": [
    "Some methods such as startswith() return boolean values. \n"
   ]
  },
  {
   "cell_type": "code",
   "execution_count": 42,
   "id": "2a1f76c6",
   "metadata": {},
   "outputs": [
    {
     "data": {
      "text/plain": [
       "False"
      ]
     },
     "execution_count": 42,
     "metadata": {},
     "output_type": "execute_result"
    }
   ],
   "source": [
    "line = 'have a nice day'\n",
    "line.startswith('Have')"
   ]
  },
  {
   "cell_type": "code",
   "execution_count": 43,
   "id": "aaf6caf6",
   "metadata": {},
   "outputs": [
    {
     "data": {
      "text/plain": [
       "True"
      ]
     },
     "execution_count": 43,
     "metadata": {},
     "output_type": "execute_result"
    }
   ],
   "source": [
    "line.startswith('have')"
   ]
  },
  {
   "cell_type": "markdown",
   "id": "6f233ccf",
   "metadata": {},
   "source": [
    "You will note that `startswith` requires case to match, so sometimes we take a line and map it all to lowercase before we do any checking using the `lower` method. "
   ]
  },
  {
   "cell_type": "code",
   "execution_count": 45,
   "id": "46a896ff",
   "metadata": {},
   "outputs": [
    {
     "data": {
      "text/plain": [
       "True"
      ]
     },
     "execution_count": 45,
     "metadata": {},
     "output_type": "execute_result"
    }
   ],
   "source": [
    "line.lower()\n",
    "line.lower().startswith('h')"
   ]
  },
  {
   "cell_type": "markdown",
   "id": "5c2b6b0e",
   "metadata": {},
   "source": [
    "In the last example, the method `lower` is called and then we use `startswith` to see if the resulting lowercase string starts with the letter 'h'. As long as we are careful with the order, we can make multiple method calls in a single expression. "
   ]
  },
  {
   "cell_type": "markdown",
   "id": "84333a75",
   "metadata": {},
   "source": [
    "### Exercise 4\n",
    "\n",
    "There is a string method called `count` that is similar to the function in the previous exercise. Read the documentation of this method at:\n",
    "\n",
    "<https://docs.python.org/library/stdtypes.html#string-methods>\n",
    "\n",
    "Write an invocation that counts the number of times the letter a occurs in 'banana'. \n",
    "\n",
    "```py\n",
    "word = 'banana'\n",
    "print(word.count('a'))\n",
    "3\n",
    "```"
   ]
  },
  {
   "cell_type": "code",
   "execution_count": 46,
   "id": "36dd8196",
   "metadata": {},
   "outputs": [
    {
     "name": "stdout",
     "output_type": "stream",
     "text": [
      "3\n"
     ]
    }
   ],
   "source": [
    "word = 'banana'\n",
    "print(word.count('a'))"
   ]
  },
  {
   "cell_type": "markdown",
   "id": "0227561d",
   "metadata": {},
   "source": [
    "## Parsing Strings\n",
    "\n",
    "Often, we want to look into a string and find a substring. For example if we were presented a series of lines formatted as follows:\n",
    "\n",
    "`From stephen.marquard@ uct.ac.za Sat Jan  5 09:14:16 2008`\n",
    "\n",
    "and we wanted to pull out only the second half of the address (i.e., `uct.ac.za`) from each line, we can do this by using the `find` method and string slicing.\n",
    "\n",
    "First, we will find the position of the at-sign in the string. Then we will find the position of the first space after the at-sign. And then we will use string slicing to extract the portion of the string which we are looking for."
   ]
  },
  {
   "cell_type": "code",
   "execution_count": 2,
   "id": "a30215e4",
   "metadata": {},
   "outputs": [
    {
     "name": "stdout",
     "output_type": "stream",
     "text": [
      "21\n",
      "31\n",
      "uct.ac.za\n"
     ]
    }
   ],
   "source": [
    "data = 'From stephen.marquard@uct.ac.za Sat Jan  5 09:14:16 2008'\n",
    "atpos = data.find('@')\n",
    "print(atpos)\n",
    "\n",
    "sppos = data.find(' ', atpos)\n",
    "print(sppos)\n",
    "\n",
    "host = data[atpos+1:sppos]\n",
    "print(host)"
   ]
  },
  {
   "cell_type": "markdown",
   "id": "dd258360",
   "metadata": {},
   "source": [
    "We use a version of the `find` method which allows us to specify a position in the string where we want `find` to start looking. When we slice, we extract the characters from \"one beyond the at-sign through *up to but not including the space character*\".\n",
    "\n",
    "The documentation for the find method is available at\n",
    "\n",
    "<https://docs.python.org/library/stdtypes.html#string-methods.>"
   ]
  },
  {
   "cell_type": "markdown",
   "id": "c9a94616",
   "metadata": {},
   "source": [
    "## Format Operator\n",
    "\n",
    "The format operator, `%` allows us to construct strings, replacing parts of the strings with the data stored in variables. When applied to integers, % is the modulus operator. But when the first operand is a string, % is the format operator.\n",
    "\n",
    "The first operand is the *format string*, which contains one or more format sequences that specify how the second operand is formatted. The result is a string.\n",
    "\n",
    "For example, the format sequence `%d` means that the second operand should be formatted as an integer (\"d\" stands for \"decimal\"):"
   ]
  },
  {
   "cell_type": "code",
   "execution_count": 3,
   "id": "34bc5fde",
   "metadata": {},
   "outputs": [
    {
     "data": {
      "text/plain": [
       "'42'"
      ]
     },
     "execution_count": 3,
     "metadata": {},
     "output_type": "execute_result"
    }
   ],
   "source": [
    "camels = 42\n",
    "'%d' % camels"
   ]
  },
  {
   "cell_type": "markdown",
   "id": "e79e9586",
   "metadata": {},
   "source": [
    "The result is the string '42', which is not to be confused with the integer value 42.\n",
    "\n",
    "A format sequence can appear anywhere in the string, so you can embed a value in a sentence:"
   ]
  },
  {
   "cell_type": "code",
   "execution_count": 5,
   "id": "e1a6a0a5",
   "metadata": {},
   "outputs": [
    {
     "data": {
      "text/plain": [
       "'I have spotted 45 camels.'"
      ]
     },
     "execution_count": 5,
     "metadata": {},
     "output_type": "execute_result"
    }
   ],
   "source": [
    "camels = 45\n",
    "'I have spotted %d camels.' % camels"
   ]
  },
  {
   "cell_type": "markdown",
   "id": "be988570",
   "metadata": {},
   "source": [
    "If there is more than one format sequence in the string, the second argument has to be a tuple^[A tuple is a sequence of comma-separated values inside a pair of parenthesis. We will cover tuples in Chapter 10]. Each format sequence is matched with an element of the tuple, in order.\n",
    "\n",
    "The following example uses %d to format an integer, %g to format a floating-point number (don't ask why), and %s to format a string:"
   ]
  },
  {
   "cell_type": "code",
   "execution_count": 6,
   "id": "977900c8",
   "metadata": {},
   "outputs": [
    {
     "data": {
      "text/plain": [
       "'In 3 years i have spotted 0.1 camels.'"
      ]
     },
     "execution_count": 6,
     "metadata": {},
     "output_type": "execute_result"
    }
   ],
   "source": [
    "\"In %d years i have spotted %g %s.\" % (3,0.1,'camels')"
   ]
  },
  {
   "cell_type": "markdown",
   "id": "f3cafc6d",
   "metadata": {},
   "source": [
    "The number of elements in the tuple must match the number of format sequences in the string. The types of the elements also must match the format sequences:\n",
    "\n",
    "```py\n",
    ">>> '%d %d %d' % (1,2)\n",
    "TypeError: not enough arguments for format string\n",
    ">>> '%d' % 'dollars'\n",
    "TypeError: %d format: a number is required, not str\n",
    "```\n",
    "\n",
    "In the first example, there aren't enough elements; in the second, the element is the wrong type.\n",
    "\n",
    "The format operator is powerful, but it can be difficult to use. You can read more about it at\n",
    "\n",
    "<https://docs.python.org/library/stdtypes.html#printf-style-string-formatting.>\n"
   ]
  },
  {
   "cell_type": "markdown",
   "id": "c6f069f5",
   "metadata": {},
   "source": [
    "## Debugging\n",
    "\n",
    "A skill that you should cultivate as you program is always asking youself, \"What could go wrong here? or alternatively, \"What crazy thing might our user do to crash our (seemingly) perfect program?\"\n",
    "\n",
    "For example, look at the program which we used to demonstrate the `while` loop in the chapter on interation:"
   ]
  },
  {
   "cell_type": "code",
   "execution_count": 7,
   "id": "42da935e",
   "metadata": {},
   "outputs": [
    {
     "ename": "IndexError",
     "evalue": "string index out of range",
     "output_type": "error",
     "traceback": [
      "\u001b[1;31m---------------------------------------------------------------------------\u001b[0m",
      "\u001b[1;31mIndexError\u001b[0m                                Traceback (most recent call last)",
      "Cell \u001b[1;32mIn[7], line 3\u001b[0m\n\u001b[0;32m      1\u001b[0m \u001b[39mwhile\u001b[39;00m \u001b[39mTrue\u001b[39;00m:\n\u001b[0;32m      2\u001b[0m     line \u001b[39m=\u001b[39m \u001b[39minput\u001b[39m(\u001b[39m'\u001b[39m\u001b[39m> \u001b[39m\u001b[39m'\u001b[39m)\n\u001b[1;32m----> 3\u001b[0m     \u001b[39mif\u001b[39;00m line[\u001b[39m0\u001b[39;49m] \u001b[39m==\u001b[39m \u001b[39m'\u001b[39m\u001b[39m#\u001b[39m\u001b[39m'\u001b[39m:\n\u001b[0;32m      4\u001b[0m         \u001b[39mcontinue\u001b[39;00m\n\u001b[0;32m      5\u001b[0m     \u001b[39mif\u001b[39;00m line \u001b[39m==\u001b[39m \u001b[39m'\u001b[39m\u001b[39mdone\u001b[39m\u001b[39m'\u001b[39m:\n",
      "\u001b[1;31mIndexError\u001b[0m: string index out of range"
     ]
    }
   ],
   "source": [
    "while True:\n",
    "    line = input('> ')\n",
    "    if line[0] == '#':\n",
    "        continue\n",
    "    if line == 'done':\n",
    "        break\n",
    "    print(line)\n",
    "print('Done!')"
   ]
  },
  {
   "cell_type": "markdown",
   "id": "6257aa6b",
   "metadata": {},
   "source": [
    "The code works fine until it is presented an empty line. Then there is no zero-th character, so we get a traceback. There are two solutions to this to make line three \"safe\" even if the line is empty.\n",
    "\n",
    "One possibility is to simply use the `startswith` method which returns `False` if the string is empty."
   ]
  },
  {
   "cell_type": "code",
   "execution_count": 8,
   "id": "d6045f04",
   "metadata": {},
   "outputs": [
    {
     "ename": "SyntaxError",
     "evalue": "incomplete input (882595269.py, line 1)",
     "output_type": "error",
     "traceback": [
      "\u001b[1;36m  Cell \u001b[1;32mIn[8], line 1\u001b[1;36m\u001b[0m\n\u001b[1;33m    if line.startswith('#'):\u001b[0m\n\u001b[1;37m                            ^\u001b[0m\n\u001b[1;31mSyntaxError\u001b[0m\u001b[1;31m:\u001b[0m incomplete input\n"
     ]
    }
   ],
   "source": [
    "if line.startswith('#'):"
   ]
  },
  {
   "cell_type": "markdown",
   "id": "bd88b897",
   "metadata": {},
   "source": [
    "Another way is to safely write the `if` statement using the *guardian* pattern and make sure the second logical expression is evaluated only where there is at least one character in the string:\n",
    "\n",
    "```py\n",
    "if len(line) > 0 and line[0] == '#':\n",
    "```\n"
   ]
  },
  {
   "cell_type": "markdown",
   "id": "e41a5a5e",
   "metadata": {},
   "source": [
    "## Glossary\n",
    "\n",
    "**counter**: A variable used to count something, usually initialized to zero and then incremented.\n",
    "\n",
    "**empty string**: A string with no characters and length 0, represented by two quotation marks.\n",
    "\n",
    "**format operator**: An operator, %, that takes a format string and a tuple and generates a string that includes the elements of the tuple formatted as specified by the format string.\n",
    "\n",
    "**format sequence**: A sequence of characters in a format string, like %d, that specifies how a value should be formatted.\n",
    "\n",
    "**format string**: A string, used with the format operator, that contains format sequences.\n",
    "\n",
    "**flag**: A boolean variable used to indicate whether a condition is true or false.\n",
    "\n",
    "**invocation**: A statement that calls a method.\n",
    "\n",
    "**immutable**: The property of a sequence whose items cannot be assigned.\n",
    "\n",
    "**index**: An integer value used to select an item in a sequence, such as a character in a string.\n",
    "\n",
    "**item**: One of the values in a sequence.\n",
    "\n",
    "**method**: A function that is associated with an object and called using dot notation.\n",
    "\n",
    "**object**: Something a variable can refer to. For now, you can use \"object\" and \"value\" interchangeably.\n",
    "\n",
    "**search**: A pattern of traversal that stops when it finds what it is looking for.\n",
    "\n",
    "**sequence**: An ordered set; that is, a set of values where each value is identified by an integer index.\n",
    "\n",
    "**slice**: A part of a string specified by a range of indices.\n",
    "\n",
    "**traverse**: To iterate through the items in a sequence, performing a similar operation on each."
   ]
  },
  {
   "cell_type": "markdown",
   "id": "147a5689",
   "metadata": {},
   "source": [
    "## [Graded Assignment] Exercise 5\n",
    "\n",
    "Accept and complete the assignment in the Github Classroom. Take the following Python code that stores a string:\n",
    "\n",
    "`str = 'X-DSPAM-Confidence: 0.8475'`\n",
    "\n",
    "Use `find` and string slicing to extract the portion of the string after the colon character and then use the `float` function to convert the extracted string into a floating point number.\n",
    "\n",
    "### <https://www.youtube.com/watch?v=BGTxwsDI9KY>\n"
   ]
  },
  {
   "cell_type": "code",
   "execution_count": 19,
   "id": "bde0d626",
   "metadata": {},
   "outputs": [
    {
     "name": "stdout",
     "output_type": "stream",
     "text": [
      "0.8475\n"
     ]
    }
   ],
   "source": [
    "strgg = 'X-DSPAM-Confidence:    0.8475'\n",
    "beg = strgg.find(': ')\n",
    "endpos = strgg[beg+1:].strip()\n",
    "fltt = float(endpos)\n",
    "print(fltt)\n"
   ]
  },
  {
   "cell_type": "markdown",
   "id": "abd4ac68",
   "metadata": {},
   "source": [
    "## Exercise 6\n",
    "\n",
    "Read the documentation of the string methods at <https://docs.python.org/library/stdtypes.html#string-methods> You might want to experiment with some of them to make sure you understand how they work. strip and replace are particularly useful.\n",
    "\n",
    "The documentation uses a syntax that might be confusing. For example, in find(sub[, start[, end]]), the brackets indicate optional arguments. So sub is required, but start is optional, and if you include start, then end is optional."
   ]
  }
 ],
 "metadata": {
  "kernelspec": {
   "display_name": "Python 3 (ipykernel)",
   "language": "python",
   "name": "python3"
  },
  "language_info": {
   "codemirror_mode": {
    "name": "ipython",
    "version": 3
   },
   "file_extension": ".py",
   "mimetype": "text/x-python",
   "name": "python",
   "nbconvert_exporter": "python",
   "pygments_lexer": "ipython3",
   "version": "3.11.4"
  }
 },
 "nbformat": 4,
 "nbformat_minor": 5
}
