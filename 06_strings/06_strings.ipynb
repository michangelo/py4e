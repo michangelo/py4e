{
 "cells": [
  {
   "cell_type": "markdown",
   "id": "7ff5d4b7",
   "metadata": {},
   "source": [
    "# Lesson 6: Strings \n",
    "\n",
    "We look at how Python stores and manipulates textual data using string variables and functions.\n"
   ]
  },
  {
   "cell_type": "markdown",
   "id": "bbb94049",
   "metadata": {},
   "source": [
    "## A String is a Sequence\n",
    "\n",
    "### [Video: Strings - Part 1](<https://www.youtube.com/watch?v=dr98iM4app8>)\n",
    "\n",
    "A string is a **sequence** of characters. You can access the characters one at a time with the bracket operator.\n",
    "\n",
    "\n",
    "```py\n",
    "fruit = 'banana'\n",
    "letter = fruit[1]\n",
    "```\n",
    "\n",
    "The expression in brackets is called an *index*. The index indicates which character in the sequence you want (hence the name).\n",
    "\n",
    "But you might not get what you expect:\n",
    "\n",
    "```py\n",
    ">>> print(letter)\n",
    "a\n",
    "```\n",
    "\n",
    "For most people, the first letter of \"banana\" is \"b\", not \"a\". But in Python, the index is an offset from the beginning of the string, and the offset of the first letter is zero.\n",
    "\n",
    "```py\n",
    ">>> letter = fruit[0]\n",
    ">>> print(letter)\n",
    "b\n",
    "```\n",
    "\n",
    "So \"b\" is the 0th letter (\"zero-th\") of banana, \"a\" is the 1th letter (\"one-th\"), and \"n\" is the 2th (\"two-th\") letter. \n",
    "\n",
    "![Alt text](17100e28-string.png)\n",
    "String Indexes \n",
    "\n",
    "You can use any expression, including variables and operators, as an index, but the value of the index has to be an integer. Otherwise you get:\n",
    "\n",
    "```py\n",
    ">>> letter = fruit[1.5]\n",
    "TypeError: string indices must be integers\n",
    "```\n"
   ]
  },
  {
   "cell_type": "code",
   "execution_count": 2,
   "id": "545dfc74",
   "metadata": {},
   "outputs": [
    {
     "data": {
      "text/plain": [
       "'a'"
      ]
     },
     "execution_count": 2,
     "metadata": {},
     "output_type": "execute_result"
    }
   ],
   "source": [
    "fruit = 'banana'\n",
    "letter = fruit[1]\n",
    "letter"
   ]
  },
  {
   "cell_type": "markdown",
   "id": "091aed35",
   "metadata": {},
   "source": [
    "## Getting the Length of a String using `len`\n",
    "\n",
    "`len` is a built-in function that returns the number of characters in a string: \n",
    "\n",
    "```py\n",
    ">>> fruit = 'banana'\n",
    ">>> len(fruit)\n",
    "6\n",
    "```\n",
    "\n",
    "To get the last letter of a string, you might be tempted to try something like this: \n",
    "\n",
    "```py\n",
    ">>> length = len(fruit)\n",
    ">>> last = fruit[length]\n",
    "IndexError: string index out of range\n",
    "```\n",
    "\n",
    "The reason for the `IndexError` is that there is no letter in 'banana' with the index of 6. Since we started counting at zero, the six letters are numbers 0 to 5. To get the last character, you have to subtract 1 from `length`: \n",
    "\n",
    "```py\n",
    ">>> last = fruit[length-1]\n",
    ">>> print(last)\n",
    "a\n",
    "```\n",
    "\n",
    "Alternatively, you can use negative indices, which count backward from the end of the string. The expression `fruit[-1]` yields the last letter, `fruit[-2]` yields the second to last, and so on."
   ]
  },
  {
   "cell_type": "code",
   "execution_count": 2,
   "id": "e6b7fcba",
   "metadata": {},
   "outputs": [
    {
     "data": {
      "text/plain": [
       "6"
      ]
     },
     "execution_count": 2,
     "metadata": {},
     "output_type": "execute_result"
    }
   ],
   "source": [
    "len(fruit)"
   ]
  },
  {
   "cell_type": "code",
   "execution_count": 15,
   "id": "5dbe27c2",
   "metadata": {},
   "outputs": [
    {
     "data": {
      "text/plain": [
       "'a'"
      ]
     },
     "execution_count": 15,
     "metadata": {},
     "output_type": "execute_result"
    }
   ],
   "source": [
    "length = len(fruit)\n",
    "last = fruit[length-1]\n",
    "last "
   ]
  },
  {
   "cell_type": "markdown",
   "id": "1292b9a1",
   "metadata": {},
   "source": [
    "## Traversal through a String with a Loop \n",
    "\n",
    "A lot of computations involve processing a string one character at a time. Often they start at the beginning, select each character in turn, do something to it, and continue until the end. This pattern of processing is called a **traversal**. One way to wrtie a traversal is with a `while` loop:\n",
    "\n",
    "```py\n",
    ">>> index = 0 \n",
    ">>> while index < len(fruit):\n",
    "        letter = fruit[index]\n",
    "        print(letter)\n",
    "        index = index + 1 \n",
    "```\n",
    "\n",
    "This loop traverses the string and displays each letter on a line by itself. The loop condition is `index < len(fruit)`, so when `index` is equal to the length of the string, the condition is false, and the body of the loop is not executed. The last character accessed is the one with the index `len(fruit)-1`, which is the last character in the string."
   ]
  },
  {
   "cell_type": "code",
   "execution_count": 15,
   "id": "9bdaac92",
   "metadata": {},
   "outputs": [
    {
     "name": "stdout",
     "output_type": "stream",
     "text": [
      "a\n",
      "n\n",
      "a\n",
      "n\n",
      "a\n",
      "b\n"
     ]
    }
   ],
   "source": [
    "### work on this \n",
    "fruit = 'banana'\n",
    "index = 1 \n",
    "length = len(fruit)\n",
    "while index <= length:\n",
    "    letter = fruit[-index]\n",
    "    print(letter)\n",
    "    index += 1 \n",
    "    #print(index)"
   ]
  },
  {
   "cell_type": "code",
   "execution_count": 9,
   "id": "0316aecb",
   "metadata": {},
   "outputs": [
    {
     "name": "stdout",
     "output_type": "stream",
     "text": [
      "b\n",
      "a\n",
      "n\n",
      "a\n",
      "n\n",
      "a\n"
     ]
    }
   ],
   "source": [
    "for char in fruit:\n",
    "    print(char)"
   ]
  },
  {
   "cell_type": "markdown",
   "id": "591ee95e",
   "metadata": {},
   "source": [
    "### Exercise 1 \n",
    "\n",
    "Write a `while` loop that starts at the last character in the string and works its way backwards to the first character in the string, printing each letter on a separate line, except backwards. \n",
    "\n",
    "Another way to write a traversal is with a `for` loop:\n",
    "\n",
    "```py\n",
    "for char in fruit:\n",
    "    print(char)\n",
    "```\n",
    "\n",
    "Each time through the loop, the next character in the string is assigned to the variable `char`. The loop continues until no characters are left. \n"
   ]
  },
  {
   "cell_type": "code",
   "execution_count": 18,
   "id": "f4fd2028",
   "metadata": {},
   "outputs": [
    {
     "name": "stdout",
     "output_type": "stream",
     "text": [
      "a\n",
      "n\n",
      "a\n",
      "n\n",
      "a\n",
      "b\n"
     ]
    }
   ],
   "source": [
    "fruit = 'banana'\n",
    "for letter in fruit[::-1]:\n",
    "    print(letter) \n",
    "\n",
    "    "
   ]
  },
  {
   "cell_type": "code",
   "execution_count": 19,
   "id": "9185ac00",
   "metadata": {},
   "outputs": [
    {
     "name": "stdout",
     "output_type": "stream",
     "text": [
      "a\n",
      "n\n",
      "a\n",
      "n\n",
      "a\n",
      "b\n"
     ]
    }
   ],
   "source": [
    "index = 1 \n",
    "while index <= len(fruit):\n",
    "    letter = fruit[-index]\n",
    "    print(letter)\n",
    "    index += 1 "
   ]
  },
  {
   "cell_type": "code",
   "execution_count": 21,
   "id": "59cea173",
   "metadata": {},
   "outputs": [
    {
     "name": "stdout",
     "output_type": "stream",
     "text": [
      "a\n",
      "n\n",
      "a\n",
      "n\n",
      "a\n",
      "b\n"
     ]
    }
   ],
   "source": [
    "for letter in reversed(fruit):\n",
    "    print(letter)"
   ]
  },
  {
   "cell_type": "markdown",
   "id": "a4f4d22a",
   "metadata": {},
   "source": [
    "## String Slices\n",
    "\n",
    "### [Video: Strings - Part 2](<https://www.youtube.com/watch?v=bIFpJ-qZ3Cc>)\n",
    "\n",
    "A segment of a string is called a **slice**. Selecting a slice is similiar to selecting a character:\n",
    "\n",
    "```py\n",
    ">>> s = \"Monty Python\"\n",
    ">>> print(s[0:5])\n",
    "Monty\n",
    ">>> print(s[6:12])\n",
    "Python\n",
    "```\n",
    "\n",
    "The operator [n:m] returns the part of the string from the \"n-th\" character to the \"m-th\" character, including the first but excluding the last.\n",
    "\n",
    "If you omit the first index (before the colon), the slice starts at the beginning of the string. If you omit the second index, the slice goes to the end of the string. \n",
    "\n",
    "```py\n",
    ">>> fruit = 'banana'\n",
    ">>> fruit[:3]\n",
    "'ban'\n",
    ">>> fruit[3:]\n",
    "'ana'\n",
    "```\n",
    "\n",
    "If the first index is greater than or equal to the second the result is an *empty string*, represented by two quotation marks: \n",
    "\n",
    "```py\n",
    ">>> fruit = 'banana'\n",
    ">>> fruit[3:3]\n",
    "''\n",
    "```\n",
    "\n",
    "An empty string contains no characters and has length 0, but other that that, it is the same as any other string. \n"
   ]
  },
  {
   "cell_type": "code",
   "execution_count": 8,
   "id": "a4be8ae8",
   "metadata": {},
   "outputs": [
    {
     "name": "stdout",
     "output_type": "stream",
     "text": [
      "e\n",
      "l\n",
      "p\n",
      "p\n",
      "a\n"
     ]
    }
   ],
   "source": [
    "fruit = 'apple'\n",
    "for fr in reversed(fruit):\n",
    "    print(fr)"
   ]
  },
  {
   "cell_type": "markdown",
   "id": "73191589",
   "metadata": {},
   "source": [
    "### Exercise 2\n",
    "\n",
    "Given that `fruit` is a string, what does `fruit[:]` mean? \n",
    "\n",
    "- This will start from the beginning and go all the way to the end of the string."
   ]
  },
  {
   "cell_type": "code",
   "execution_count": null,
   "id": "69de6cfa",
   "metadata": {},
   "outputs": [],
   "source": [
    "\n"
   ]
  }
 ],
 "metadata": {
  "kernelspec": {
   "display_name": "Python 3 (ipykernel)",
   "language": "python",
   "name": "python3"
  },
  "language_info": {
   "codemirror_mode": {
    "name": "ipython",
    "version": 3
   },
   "file_extension": ".py",
   "mimetype": "text/x-python",
   "name": "python",
   "nbconvert_exporter": "python",
   "pygments_lexer": "ipython3",
   "version": "3.11.4"
  }
 },
 "nbformat": 4,
 "nbformat_minor": 5
}
