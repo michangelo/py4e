{
 "cells": [
  {
   "cell_type": "markdown",
   "id": "128134fd",
   "metadata": {},
   "source": [
    "# Lesson 4: Functions \n",
    "\n",
    "Take a brief look at how Python implements the 'store and use later' programming pattern.\n"
   ]
  },
  {
   "cell_type": "markdown",
   "id": "ac5a21d3",
   "metadata": {},
   "source": [
    "### Function Calls\n",
    "\n",
    "### [Video: Functions - Part 1](<https://www.youtube.com/watch?v=5Kzw-0-DQAk>)\n",
    "\n",
    "Copyright Creative Commons Attribution 3.0 - Charles R. Severance\n",
    "\n",
    "In the context of programming, a **function** is a named sequence of statements that performs a computation. When you define a function, you specify the name and the sequence of statements. Later, you can \"call\" the function by name. We have already seen one example of a *function* call:\n",
    "\n",
    "```py\n",
    ">>> type(32)\n",
    "<class 'int'>\n",
    "```\n",
    "\n",
    "The name of the function is `type`. The expression in parentheses is called the **argument** of the function. The argument is a value or variable that we are passing into the function as input to the function. The result, for the `type` function, is the type of the argument.\n",
    "\n",
    "It is common to say that a function \"takes\" an argument and \"returns\" a result. The result is called the **return** value.\n"
   ]
  },
  {
   "cell_type": "markdown",
   "id": "f22303d4",
   "metadata": {},
   "source": [
    "## Built-in Functions\n",
    "\n",
    "Python provides a number of important built-in functions that we can use without needing to provide the function definition. The creators of Python wrote a set of functions to solve common problems and included them in Python for us to use.\n",
    "\n",
    "The `max` and `min` functions give us the largest and smallest values in a list, respectively:\n",
    "\n",
    "```py\n",
    ">>> max('Hello world')\n",
    "'w'\n",
    ">>> min('Hello world')\n",
    "' '\n",
    ">>>\n",
    "```\n",
    "\n",
    "The `max` function tells us the \"largest character\" in the string (which turns out to be the letter \"w\") and the `min` function shows us the smallest character (which turns out to be a space).\n",
    "\n",
    "Another very common built-in function is the `len` function which tells us how many items are in its argument. If the argument to `len` is a string, it returns the number of characters in the string.\n",
    "\n",
    "```py\n",
    ">>> len('Hello world')\n",
    "11\n",
    ">>>\n",
    "```\n",
    "\n",
    "These functions are not limited to looking at strings. They can operate on any set of values, as we will see in later chapters.\n",
    "\n",
    "You should treat the names of built-in functions as reserved words (i.e., avoid using \"max\" as a variable n\n",
    "ame)."
   ]
  },
  {
   "cell_type": "markdown",
   "id": "3a092f2d",
   "metadata": {},
   "source": [
    "## Type Conversion Functions\n",
    "\n",
    "Python also provides built-in functions that convert from one type to another. The `int` function thakes any value and converts it to an integer, if it can, or complain otherwise:\n",
    "\n",
    "```py\n",
    ">>> int('32')\n",
    "32\n",
    ">>> int('Hello')\n",
    "ValueError: invalid literal for int() with base 10: 'Hello'\n",
    "```\n",
    "\n",
    "`int` can convert floating-point values to integers, but it doesn't round off; it chops off the fraction part:\n",
    "\n",
    "```py\n",
    ">>> int(3.99999)\n",
    "3\n",
    ">>> int(-2.3)\n",
    "-2\n",
    "```\n",
    "\n",
    "`float` converts integers and strings to floating-point numbers:\n",
    "\n",
    "```py\n",
    ">>> float(32)\n",
    "32.0\n",
    ">>> float('3.14159')\n",
    "3.14159\n",
    "```\n",
    "\n",
    "Finally, `str` converts its argument to a string:\n",
    "\n",
    "```py\n",
    ">>> str(32)\n",
    "'32'\n",
    ">>> str(3.14159)\n",
    "'3.14159'\n",
    "```"
   ]
  },
  {
   "cell_type": "markdown",
   "id": "f74718e6",
   "metadata": {},
   "source": [
    "## Math Functions\n",
    "\n",
    "Python has a math module that provides most of the familiar mathematical functions. Before we can use the module, we have to import it:\n",
    "\n",
    "```py\n",
    ">>> import math\n",
    "```\n",
    "\n",
    "This statement creates a *module object* names math. If you print the module object, you get some information about it. \n",
    "\n",
    "```py\n",
    ">>> print(math)\n",
    "<module 'math' (built-in)>\n",
    "```\n",
    "\n",
    "The module object contains the functions and variables defined in the module. To access one of the functions, you have to specify the name of the module and the name of the function, separated by a dot (also known as a period). This format is called *dot notation*.\n",
    "\n",
    "```py\n",
    ">>> ratio = signal_power / noise_power\n",
    ">>> decibels = 10 * math.log10(ratio)\n",
    "\n",
    ">>> radians = 0.7\n",
    ">>> height = math.sin(radians)\n",
    "```\n",
    "\n",
    "The first example computes the logarithm base 10 of the signal-to-noise ratio. The math module also provides a function called `log` that computes logarithms base e.\n",
    "\n",
    "The second example finds the sine of `radians`. The name of the variable is a hint that `sin` and the other trigonometric functions (`cos`, `tan`, etc.) take arguments in radians. To convert from degrees to radians, divide by 360 and multiply by $2 \\pi$:\n",
    "\n",
    "```py\n",
    ">>> degrees = 45\n",
    ">>> radians = degrees / 360.0 * 2 * math.pi\n",
    ">>> math.sin(radians)\n",
    "0.7071067811865476\n",
    "```\n",
    "\n",
    "The expression `math.pi` gets the variable pi from the math module. The value of this variable is an approximation of $\\pi$, accurate to about 15 digits.\n",
    "\n",
    "If you know your trigonometry, you can check the previous result by comparing it to the square root of two divided by two:\n",
    "\n",
    "```py\n",
    ">>> math.sqrt(2) / 2.0\n",
    "0.7071067811865476\n",
    "```"
   ]
  },
  {
   "cell_type": "code",
   "execution_count": 4,
   "id": "42d80942",
   "metadata": {},
   "outputs": [
    {
     "name": "stdout",
     "output_type": "stream",
     "text": [
      "<module 'math' (built-in)>\n"
     ]
    }
   ],
   "source": [
    "import math \n",
    "print(math)"
   ]
  },
  {
   "cell_type": "markdown",
   "id": "ee684789",
   "metadata": {},
   "source": [
    "## Random Numbers\n",
    "\n",
    "Given the same inputs, most computer programs generate the same outputs every time, so they are said to be **deterministic**. Determinism is usually a good thing, since we expect the same calculation to yield the same result. For some applications, though, we want the computer to be unpredictable. Games are an obvious example, but there are more.\n",
    "\n",
    "Making a program truly **nondeterministic** turns out to be not so easy, but there are ways to make it at least seem *nondeterministic*. One of them is to use **algorithms** that generate **pseudorandom** numbers. Pseudorandom numbers are not truly random because they are generated by a deterministic computation, but just by looking at the numbers it is all but impossible to distinguish them from random.\n",
    "\n",
    "The `random` module provides functions that generate pseudorandom numbers (which I will simply call \"random\" from here on).\n",
    "\n",
    "The function `random` returns a random float between 0.0 and 1.0 (including 0.0 but not 1.0). Each time you call `random`, you get the next number in a long series. To see a sample, run this loop:\n",
    "\n",
    "```py\n",
    "import random\n",
    "\n",
    "for i in range(10):\n",
    "    x = random.random()\n",
    "    print(x)\n",
    "```\n",
    "\n",
    "This program produces the following list of 10 random numbers between 0.0 and up to but not including 1.0.\n",
    "\n",
    "```py\n",
    "0.11132867921152356\n",
    "0.5950949227890241\n",
    "0.04820265884996877\n",
    "0.841003109276478\n",
    "0.997914947094958\n",
    "0.04842330803368111\n",
    "0.7416295948208405\n",
    "0.510535245390327\n",
    "0.27447040171978143\n",
    "0.028511805472785867\n",
    "```\n"
   ]
  },
  {
   "cell_type": "code",
   "execution_count": 7,
   "id": "036e179b",
   "metadata": {},
   "outputs": [
    {
     "name": "stdout",
     "output_type": "stream",
     "text": [
      "0.24760671391010702\n",
      "0.2228734961742198\n",
      "0.8985249240294616\n",
      "0.2432134118539484\n",
      "0.06549501736119989\n",
      "0.2861922226740473\n",
      "0.535564770275784\n",
      "0.49896405184177284\n",
      "0.8435640335124849\n",
      "0.6402470223946737\n"
     ]
    }
   ],
   "source": [
    "import random\n",
    "\n",
    "for i in range(10):\n",
    "    x = random.random()\n",
    "    print(x)"
   ]
  },
  {
   "cell_type": "markdown",
   "id": "8eaf3a2f",
   "metadata": {},
   "source": [
    "### Exercise 1\n",
    "\n",
    "Run the program on your system and see what numbers you get. Run the program more than once and see what numbers you get.\n",
    "\n",
    "The `random` function is only one of many functions that handle random numbers. The function `randint` takes the parameters `low` and `high`, and returns an integer between `low` and `high` (including both).\n",
    "\n",
    "```py\n",
    ">>> random.randint(5, 10)\n",
    "5\n",
    ">>> random.randint(5, 10)\n",
    "9\n",
    "```\n",
    "\n",
    "To choose an element from a sequence at random, you can use choice:\n",
    "\n",
    "```py\n",
    ">>> t = [1, 2, 3]\n",
    ">>> random.choice(t)\n",
    "2\n",
    ">>> random.choice(t)\n",
    "3\n",
    "```\n",
    "\n",
    "The `random` module also provides functions to generate random values from continuous distributions including Gaussian, exponential, gamma, and a few more."
   ]
  },
  {
   "cell_type": "code",
   "execution_count": 14,
   "id": "e8b74a2f",
   "metadata": {},
   "outputs": [
    {
     "data": {
      "text/plain": [
       "8"
      ]
     },
     "execution_count": 14,
     "metadata": {},
     "output_type": "execute_result"
    }
   ],
   "source": [
    "random.randint(5,10)"
   ]
  },
  {
   "cell_type": "code",
   "execution_count": 15,
   "id": "98fdf191",
   "metadata": {},
   "outputs": [
    {
     "data": {
      "text/plain": [
       "9"
      ]
     },
     "execution_count": 15,
     "metadata": {},
     "output_type": "execute_result"
    }
   ],
   "source": [
    "random.randint(5,10)"
   ]
  },
  {
   "cell_type": "code",
   "execution_count": 2,
   "id": "ba6ad35f",
   "metadata": {},
   "outputs": [
    {
     "data": {
      "text/plain": [
       "1"
      ]
     },
     "execution_count": 2,
     "metadata": {},
     "output_type": "execute_result"
    }
   ],
   "source": [
    "import random\n",
    "\n",
    "t = [1,2,3]\n",
    "random.choice(t)"
   ]
  },
  {
   "cell_type": "code",
   "execution_count": 3,
   "id": "3e539299",
   "metadata": {},
   "outputs": [
    {
     "data": {
      "text/plain": [
       "1"
      ]
     },
     "execution_count": 3,
     "metadata": {},
     "output_type": "execute_result"
    }
   ],
   "source": [
    "random.choice(t)"
   ]
  },
  {
   "cell_type": "markdown",
   "id": "495580fe",
   "metadata": {},
   "source": [
    "## Adding new functions\n",
    "\n",
    "### [Video: Functions - Part 2](<https://www.youtube.com/watch?v=AJVNYRqn8kM>)\n",
    "\n",
    "So far, we have only been using the functions that come with Python, but it is also possible to add new functions. A **function definition** specifies the name of a new function and the sequence of statements that execute when the function is called. Once we define a function, we can reuse the function over and over throughout our program.\n",
    "\n",
    "Here is an example:\n",
    "\n",
    "```py\n",
    "def print_lyrics():\n",
    "    print(\"I'm a lumberjack, and I'm okay.\")\n",
    "    print('I sleep all night and I work all day.')\n",
    "```\n",
    "\n",
    "`def` is a keyword that indicates that this is a function definition. The name of the function is `print_lyrics`. The rules for function names are the same as for variable names: letters, numbers and some punctuation marks are legal, but the first character can't be a number. You can't use a keyword as the name of a function, and you should avoid having a variable and a function with the same name.\n",
    "\n",
    "The empty parentheses after the name indicate that this function doesn't take any arguments. Later we will build functions that take arguments as their inputs.\n",
    "\n",
    "The first line of the function definition is called the *header*; the rest is called the *body*. The header has to end with a colon and the body has to be indented. By convention, the indentation is always four spaces. The body can contain any number of statements.\n",
    "\n",
    "If you type a function definition in interactive mode, the interpreter prints ellipses (...) to let you know that the definition isn't complete\n",
    "\n",
    "```py\n",
    ">>> def print_lyrics():\n",
    "...     print(\"I'm a lumberjack, and I'm okay.\")\n",
    "...     print('I sleep all night and I work all day.')\n",
    "...\n",
    "```\n",
    "\n",
    "To end the function, you have to enter an empty line (this is not necessary in a script).\n",
    "\n",
    "Defining a function creates a variable with the same name.\n",
    "\n",
    "```py\n",
    ">>> print(print_lyrics)\n",
    "<function print_lyrics at 0xb7e99e9c>\n",
    ">>> print(type(print_lyrics))\n",
    "<class 'function'>\n",
    "```\n",
    "\n",
    "The value of `print_lyrics` is a function object, which has type \"function\".\n",
    "\n",
    "The syntax for calling the new function is the same as for built-in functions:\n",
    "\n",
    "```py\n",
    ">>> print_lyrics()\n",
    "I'm a lumberjack, and I'm okay.\n",
    "I sleep all night and I work all day.\n",
    "```\n",
    "\n",
    "Once you have defined a function, you can use it inside another function. For example, to repeat the previous refrain, we could write a function called `repeat_lyrics`:\n",
    "\n",
    "```py\n",
    "def repeat_lyrics():\n",
    "    print_lyrics()\n",
    "    print_lyrics()\n",
    "```\n",
    "\n",
    "And then call repeat_lyrics:\n",
    "\n",
    "```py\n",
    ">>> repeat_lyrics()\n",
    "I'm a lumberjack, and I'm okay.\n",
    "I sleep all night and I work all day.\n",
    "I'm a lumberjack, and I'm okay.\n",
    "I sleep all night and I work all day.\n",
    "```\n",
    "\n",
    "But that's not really how the song goes.\n"
   ]
  },
  {
   "cell_type": "markdown",
   "id": "460ad3bf",
   "metadata": {},
   "source": [
    "## Definitions and Uses\n",
    "\n",
    "Pulling together the code fragments from the previous section, the whole program looks like this:\n",
    "\n",
    "```py\n",
    "def print_lyrics():\n",
    "    print(\"I'm a lumberjack, and I'm okay.\")\n",
    "    print('I sleep all night and I work all day.')\n",
    "\n",
    "\n",
    "def repeat_lyrics():\n",
    "    print_lyrics()\n",
    "    print_lyrics()\n",
    "\n",
    "repeat_lyrics()\n",
    "```\n",
    "\n",
    "This program contains two function definitions: `print_lyrics` and `repeat_lyrics`. Function definitions get executed just like other statements, but the effect is to create function objects. The statements inside the function do not get executed until the function is called, and the function definition generates no output.\n",
    "\n",
    "As you might expect, you have to create a function before you can execute it. In other words, the function definition has to be executed before the first time it is called."
   ]
  },
  {
   "cell_type": "code",
   "execution_count": 7,
   "id": "517e3912",
   "metadata": {},
   "outputs": [],
   "source": [
    "def print_lyrics():\n",
    "    print(\"I'm a lumberjack, and I'm okay.\")\n",
    "    print('I sleep all night and I work all day.')\n",
    "\n",
    "def repeat_lyrics():\n",
    "    print_lyrics()\n",
    "    print_lyrics()"
   ]
  },
  {
   "cell_type": "markdown",
   "id": "c193d32d",
   "metadata": {},
   "source": [
    "###  Exercise 2\n",
    "\n",
    "Move the last line of this program to the top, so the function call appears before the definitions. Run the program and see what error message you get.\n",
    "\n",
    "```py\n",
    "repeat_lyrics()\n",
    "\n",
    "def print_lyrics():\n",
    "    print(\"I'm a lumberjack, and I'm okay.\")\n",
    "    print('I sleep all night and I work all day.')\n",
    "\n",
    "\n",
    "def repeat_lyrics():\n",
    "    print_lyrics()\n",
    "    print_lyrics()\n",
    "```\n"
   ]
  },
  {
   "cell_type": "code",
   "execution_count": 9,
   "id": "2f3eaa8f",
   "metadata": {},
   "outputs": [
    {
     "name": "stdout",
     "output_type": "stream",
     "text": [
      "I'm a lumberjack, and I'm okay.\n",
      "I sleep all night and I work all day.\n",
      "I'm a lumberjack, and I'm okay.\n",
      "I sleep all night and I work all day.\n"
     ]
    }
   ],
   "source": [
    "repeat_lyrics()\n",
    "\n",
    "def print_lyrics():\n",
    "    print(\"I'm a lumberjack, and I'm okay.\")\n",
    "    print('I sleep all night and I work all day.')\n",
    "\n",
    "\n",
    "def repeat_lyrics():\n",
    "    print_lyrics()\n",
    "    print_lyrics()"
   ]
  },
  {
   "cell_type": "markdown",
   "id": "0653783e",
   "metadata": {},
   "source": [
    "### Exercise 3\n",
    "Move the function call back to the bottom and move the definition of print_lyrics after the definition of repeat_lyrics. What happens when you run this program?\n",
    "\n",
    "```py\n",
    "def repeat_lyrics():\n",
    "    print_lyrics()\n",
    "    print_lyrics()\n",
    "\n",
    "def print_lyrics():\n",
    "    print(\"I'm a lumberjack, and I'm okay.\")\n",
    "    print('I sleep all night and I work all day.')\n",
    "\n",
    "    repeat_lyrics()\n",
    "```"
   ]
  },
  {
   "cell_type": "code",
   "execution_count": 10,
   "id": "944dbcdb",
   "metadata": {},
   "outputs": [
    {
     "name": "stdout",
     "output_type": "stream",
     "text": [
      "I'm a lumberjack, and I'm okay.\n",
      "I sleep all night and I work all day.\n",
      "I'm a lumberjack, and I'm okay.\n",
      "I sleep all night and I work all day.\n"
     ]
    }
   ],
   "source": [
    "def print_lyrics():\n",
    "    print(\"I'm a lumberjack, and I'm okay.\")\n",
    "    print('I sleep all night and I work all day.')\n",
    "\n",
    "\n",
    "def repeat_lyrics():\n",
    "    print_lyrics()\n",
    "    print_lyrics()\n",
    "    \n",
    "repeat_lyrics()"
   ]
  },
  {
   "cell_type": "markdown",
   "id": "dba28d5f",
   "metadata": {},
   "source": [
    "## Flow of Execution\n",
    "\n",
    "In order to ensure that a function is defined before its first use, you have to know the order in which statements are executed, which is called the flow of *execution*.\n",
    "\n",
    "Execution always begins at the first statement of the program. Statements are executed one at a time, in order from top to bottom.\n",
    "\n",
    "Function *definitions* do not alter the flow of execution of the program, but remember that statements inside the function are not executed until the function is called.\n",
    "\n",
    "A function call is like a detour in the flow of execution. Instead of going to the next statement, the flow jumps to the body of the function, executes all the statements there, and then comes back to pick up where it left off.\n",
    "\n",
    "That sounds simple enough, until you remember that one function can call another. While in the middle of one function, the program might have to execute the statements in another function. But while executing that new function, the program might have to execute yet another function!\n",
    "\n",
    "Fortunately, Python is good at keeping track of where it is, so each time a function completes, the program picks up where it left off in the function that called it. When it gets to the end of the program, it terminates.\n",
    "\n",
    "What's the moral of this sordid tale? When you read a program, you don't always want to read from top to bottom. Sometimes it makes more sense if you follow the flow of execution."
   ]
  },
  {
   "cell_type": "markdown",
   "id": "1a1fe690",
   "metadata": {},
   "source": [
    "## Parameters and Arguments\n",
    "\n",
    "Some of the built-in functions we have seen require arguments. For example, when you call `math.sin` you pass a number as an argument. Some functions take more than one argument:` math.pow` takes two, the base and the exponent.\n",
    "\n",
    "Inside the function, the arguments are assigned to variables called *parameters*. Here is an example of a user-defined function that takes an argument:\n",
    "\n",
    "```py\n",
    "def print_twice(bruce):\n",
    "    print(bruce)\n",
    "    print(bruce)\n",
    "```\n",
    "\n",
    "This function assigns the argument to a parameter named `bruce`. When the function is called, it prints the value of the parameter (whatever it is) twice.\n",
    "\n",
    "This function works with any value that can be printed.\n",
    "\n",
    "```py\n",
    ">>> print_twice('Spam')\n",
    "Spam\n",
    "Spam\n",
    ">>> print_twice(17)\n",
    "17\n",
    "17\n",
    ">>> import math\n",
    ">>> print_twice(math.pi)\n",
    "3.141592653589793\n",
    "3.141592653589793\n",
    "```\n",
    "\n",
    "The same rules of composition that apply to built-in functions also apply to user-defined functions, so we can use any kind of expression as an argument for `print_twice`:\n",
    "\n",
    "```py\n",
    ">>> print_twice('Spam '*4)\n",
    "Spam Spam Spam Spam\n",
    "Spam Spam Spam Spam\n",
    ">>> print_twice(math.cos(math.pi))\n",
    "-1.0\n",
    "-1.0\n",
    "```\n",
    "\n",
    "The argument is evaluated before the function is called, so in the examples the expressions `'Spam '*4` and `math.cos(math.pi)` are only evaluated once.\n",
    "\n",
    "You can also use a variable as an argument:\n",
    "\n",
    "```py\n",
    ">>> michael = 'Eric, the half a bee.'\n",
    ">>> print_twice(michael)\n",
    "Eric, the half a bee.\n",
    "Eric, the half a bee.\n",
    "```\n",
    "\n",
    "The name of the variable we pass as an argument (`michael`) has nothing to do with the name of the parameter (`bruce`). It doesn't matter what the value was called back home (in the caller); here in `print_twice`, we call everybody `bruce`."
   ]
  },
  {
   "cell_type": "code",
   "execution_count": 11,
   "id": "bf151f55",
   "metadata": {},
   "outputs": [
    {
     "name": "stdout",
     "output_type": "stream",
     "text": [
      "wow\n",
      "wow\n"
     ]
    }
   ],
   "source": [
    "def print_twice(bruce):\n",
    "    print(bruce)\n",
    "    print(bruce)\n",
    "\n",
    "print_twice('wow')"
   ]
  },
  {
   "cell_type": "code",
   "execution_count": 13,
   "id": "a46a676b",
   "metadata": {},
   "outputs": [
    {
     "name": "stdout",
     "output_type": "stream",
     "text": [
      "3.141592653589793\n",
      "3.141592653589793\n"
     ]
    }
   ],
   "source": [
    "import math \n",
    "print_twice(math.pi)"
   ]
  },
  {
   "cell_type": "markdown",
   "id": "120c6c29",
   "metadata": {},
   "source": [
    "## Fruitful Functions and Void Functions\n",
    "\n",
    "Some of the functions we are using, such as the math functions, yield results; for lack of a better name, I call them **fruitful** functions. Other functions, like `print_twice`, perform an action but don't return a value. They are called **void** functions.\n",
    "\n",
    "When you call a fruitful function, you almost always want to do something with the result; for example, you might assign it to a variable or use it as part of an expression:\n",
    "\n",
    "```py\n",
    "x = math.cos(radians)\n",
    "golden = (math.sqrt(5) + 1) / 2\n",
    "```\n",
    "\n",
    "When you call a function in interactive mode, Python displays the result:\n",
    "\n",
    "```py\n",
    ">>> math.sqrt(5)\n",
    "2.23606797749979\n",
    "```\n",
    "\n",
    "But in a script, if you call a fruitful function and do not store the result of the function in a variable, the return value vanishes into the mist!\n",
    "\n",
    "```py\n",
    "math.sqrt(5)\n",
    "```\n",
    "\n",
    "This script computes the square root of 5, but since it doesn't store the result in a variable or display the result, it is not very useful.\n",
    "\n",
    "Void functions might display something on the screen or have some other effect, but they don't have a return value. If you try to assign the result to a variable, you get a special value called `None`.\n",
    "\n",
    "```py\n",
    ">>> result = print_twice('Bing')\n",
    "Bing\n",
    "Bing\n",
    ">>> print(result)\n",
    "None\n",
    "```\n",
    "\n",
    "The value None is not the same as the string \"None\". It is a special value that has its own type:\n",
    "\n",
    "```py\n",
    ">>> print(type(None))\n",
    "<class 'NoneType'>\n",
    "```\n",
    "\n",
    "To return a result from a function, we use the `return` statement in our function. For example, we could make a very simple function called `addtwo` that adds two numbers together and returns a result.\n",
    "\n",
    "```py\n",
    "def addtwo(a, b):\n",
    "    added = a + b\n",
    "    return added\n",
    "\n",
    "x = addtwo(3, 5)\n",
    "print(x)\n",
    "```\n",
    "\n",
    "When this script executes, the `print` statement will print out \"8\" because the `addtwo` function was called with 3 and 5 as arguments. Within the function, the parameters `a` and `b` were 3 and 5 respectively. The function computed the sum of the two numbers and placed it in the local function variable named `added`. Then it used the `return` statement to send the computed value back to the calling code as the function result, which was assigned to the variable x and printed out.\n"
   ]
  },
  {
   "cell_type": "markdown",
   "id": "9dec6339",
   "metadata": {},
   "source": [
    "## Why Functions?\n",
    "\n",
    "It may not be clear why it is worth the trouble to divide a program into functions. There are several reasons:\n",
    "\n",
    "- Creating a new function gives you an opportunity to name a group of statements, which makes your program easier to read, understand, and debug.\n",
    "\n",
    "- Functions can make a program smaller by eliminating repetitive code. Later, if you make a change, you only have to make it in one place.\n",
    "\n",
    "- Dividing a long program into functions allows you to debug the parts one at a time and then assemble them into a working whole.\n",
    "\n",
    "- Well-designed functions are often useful for many programs. Once you write and debug one, you can reuse it.\n",
    "\n",
    "Throughout the rest of the book, often we will use a function definition to explain a concept. Part of the skill of creating and using functions is to have a function properly capture an idea such as \"find the smallest value in a list of values\". Later we will show you code that finds the smallest in a list of values and we will present it to you as a function named `min` which takes a list of values as its argument and returns the smallest value in the list."
   ]
  },
  {
   "cell_type": "markdown",
   "id": "7b439819",
   "metadata": {},
   "source": [
    "## Debugging\n",
    "\n",
    "If you are using a text editor to write your scripts, you might run into problems with spaces and tabs. The best way to avoid these problems is to use spaces exclusively (no tabs). Most text editors that know about Python do this by default, but some don't.\n",
    "\n",
    "Tabs and spaces are usually invisible, which makes them hard to debug, so try to find an editor that manages indentation for you.\n",
    "\n",
    "Also, don't forget to save your program before you run it. Some development environments do this automatically, but some don't. In that case, the program you are looking at in the text editor is not the same as the program you are running.\n",
    "\n",
    "Debugging can take a long time if you keep running the same incorrect program over and over!\n",
    "\n",
    "Make sure that the code you are looking at is the code you are running. If you're not sure, put something like `print(\"hello\")` at the beginning of the program and run it again. If you don't see `hello`, you're not running the right program!\n"
   ]
  },
  {
   "cell_type": "markdown",
   "id": "7ea1b6b7",
   "metadata": {},
   "source": [
    "## Glossary\n",
    "\n",
    "**algorithm**: A general process for solving a category of problems.\n",
    "\n",
    "**argument**: A value provided to a function when the function is called. This value is assigned to the corresponding parameter in the function.\n",
    "\n",
    "**body**: The sequence of statements inside a function definition.\n",
    "\n",
    "**composition**: Using an expression as part of a larger expression, or a statement as part of a larger statement.\n",
    "\n",
    "**deterministic**: Pertaining to a program that does the same thing each time it runs, given the same inputs.\n",
    "\n",
    "**dot notation**: The syntax for calling a function in another module by specifying the module name followed by a dot (period) and the function name.\n",
    "\n",
    "**flow of execution**: The order in which statements are executed during a program run.\n",
    "\n",
    "**fruitful function**: A function that returns a value.\n",
    "\n",
    "**function**: A named sequence of statements that performs some useful operation. Functions may or may not take arguments and may or may not produce a result.\n",
    "\n",
    "**function call**: A statement that executes a function. It consists of the function name followed by an argument list.\n",
    "\n",
    "**function definition**: A statement that creates a new function, specifying its name, parameters, and the statements it executes.\n",
    "\n",
    "**function object**: A value created by a function definition. The name of the function is a variable that refers to a function object.\n",
    "\n",
    "**header**: The first line of a function definition.\n",
    "\n",
    "**import statement**: A statement that reads a module file and creates a module object.\n",
    "\n",
    "**module object**: A value created by an import statement that provides access to the data and code defined in a module.\n",
    "\n",
    "**parameter**: A name used inside a function to refer to the value passed as an argument.\n",
    "\n",
    "**pseudorandom**: Pertaining to a sequence of numbers that appear to be random, but are generated by a deterministic program.\n",
    "\n",
    "**return value**: The result of a function. If a function call is used as an expression, the return value is the value of the expression.\n",
    "\n",
    "**void function**: A function that does not return a value.\n"
   ]
  },
  {
   "cell_type": "markdown",
   "id": "1968553a",
   "metadata": {},
   "source": [
    "### Exercise 4 \n",
    "\n",
    "What is the purpose of the \"def\" keyword in Python?\n",
    "\n",
    "a) It is slang that means \"the following code is really cool\"  \n",
    "b) It indicates the start of a function  \n",
    "c) It indicates that the following indented section of code is to be stored for later  \n",
    "**d) b and c are both true**  \n",
    "e) None of the above\n"
   ]
  },
  {
   "cell_type": "markdown",
   "id": "0a303e31",
   "metadata": {},
   "source": [
    "## Exercise 5\n",
    "\n",
    "What will the following Python program print out?\n",
    "\n",
    "```py\n",
    "def fred():\n",
    "   print(\"Zap\")\n",
    "\n",
    "def jane():\n",
    "   print(\"ABC\")\n",
    "\n",
    "jane()\n",
    "fred()\n",
    "jane()\n",
    "```\n",
    "\n",
    "a) Zap ABC jane fred jane  \n",
    "b) Zap ABC Zap  \n",
    "c) ABC Zap jane  \n",
    "**d) ABC Zap ABC**  \n",
    "e) Zap Zap Zap  \n"
   ]
  },
  {
   "cell_type": "markdown",
   "id": "dca8d6e3",
   "metadata": {},
   "source": [
    "### [Graded Assignment] Exercise 6\n",
    "\n",
    "Accept and complete the assignment in the Github Classroom. Rewrite your pay computation with time-and-a-half for overtime and create a function called computepay which takes two parameters (hours and rate).\n",
    "\n",
    "```py\n",
    "Enter Hours: 45\n",
    "Enter Rate: 10\n",
    "Pay: 475.0\n",
    "```\n",
    "\n",
    "### [Video: 4.6](<https://www.youtube.com/watch?v=l93PhBUJ_S0>)"
   ]
  },
  {
   "cell_type": "code",
   "execution_count": 16,
   "id": "fd428ad2",
   "metadata": {},
   "outputs": [
    {
     "data": {
      "text/plain": [
       "25.0"
      ]
     },
     "execution_count": 16,
     "metadata": {},
     "output_type": "execute_result"
    }
   ],
   "source": [
    "def exercise_4_6():\n",
    "    def computepay(h, r):     \n",
    "        try:\n",
    "            h = float(h)\n",
    "            r = float(r)\n",
    "            p = computepay(h,r)\n",
    "            if h > 40:\n",
    "                return r*40 + (h-40)*r*1.5\n",
    "            else:\n",
    "                return (\"Pay:\" + h*r)\n",
    "        except:\n",
    "            return \"Bad\"\n",
    "            exit()\n",
    "            \n",
    "computepay(5, 5)"
   ]
  },
  {
   "cell_type": "code",
   "execution_count": 21,
   "id": "063adb58",
   "metadata": {},
   "outputs": [
    {
     "data": {
      "text/plain": [
       "30.0"
      ]
     },
     "execution_count": 21,
     "metadata": {},
     "output_type": "execute_result"
    }
   ],
   "source": [
    "def computepay(hours, rate):\n",
    "    try:\n",
    "        hours = float(hours)\n",
    "        rate = float(rate)\n",
    "        if hours > 40:\n",
    "            return rate * 40 + (hours - 40) * rate * 1.5\n",
    "        else:\n",
    "            return hours * rate\n",
    "    except:\n",
    "        return 'Error, please enter numeric input' \n",
    "        exit()\n",
    "\n",
    "computepay(5, 6)"
   ]
  },
  {
   "cell_type": "markdown",
   "id": "b6911860",
   "metadata": {},
   "source": [
    "## Exercise 7\n",
    "\n",
    "Rewrite the grade program from the previous chapter using a function called `computegrade` that takes a score as its parameter and returns a grade as a string.\n",
    "\n",
    "```py\n",
    " Score   Grade\n",
    ">= 0.9     A\n",
    ">= 0.8     B\n",
    ">= 0.7     C\n",
    ">= 0.6     D\n",
    " < 0.6     F\n",
    "```\n",
    "\n",
    "```py\n",
    "Enter score: 0.95\n",
    "A\n",
    "```\n",
    "\n",
    "```py\n",
    "Enter score: perfect\n",
    "Bad score\n",
    "```\n",
    "\n",
    "```py\n",
    "Enter score: 10.0\n",
    "Bad score\n",
    "```\n",
    "\n",
    "```py\n",
    "Enter score: 0.75\n",
    "C\n",
    "```\n",
    "\n",
    "```py\n",
    "Enter score: 0.5\n",
    "F\n",
    "```\n",
    "\n",
    "Run the program repeatedly to test the various different values for input."
   ]
  },
  {
   "cell_type": "code",
   "execution_count": 1,
   "id": "d5e55c29",
   "metadata": {},
   "outputs": [
    {
     "data": {
      "text/plain": [
       "'Bad score'"
      ]
     },
     "execution_count": 1,
     "metadata": {},
     "output_type": "execute_result"
    }
   ],
   "source": [
    "def computegrade(score):\n",
    "    \n",
    "    # prompt score\n",
    "    #score = input('Enter score:')\n",
    "    \n",
    "    try:\n",
    "        score = float(score)\n",
    "        #score >= 0.0 or score <= 1.0\n",
    "\n",
    "        # assign grade letters \n",
    "        if score >= 0.9:\n",
    "            return \"A\"\n",
    "        elif score >= 0.8:\n",
    "            return \"B\"\n",
    "        elif score >= 0.7:\n",
    "            return \"C\"\n",
    "        elif score >= 0.6:\n",
    "            return \"D\"\n",
    "        elif score < 0.6:\n",
    "            return \"F\" \n",
    "    except:\n",
    "        return 'Bad score'\n",
    "        exit()\n",
    "\n",
    "computegrade('perfect')"
   ]
  }
 ],
 "metadata": {
  "kernelspec": {
   "display_name": "Python 3 (ipykernel)",
   "language": "python",
   "name": "python3"
  },
  "language_info": {
   "codemirror_mode": {
    "name": "ipython",
    "version": 3
   },
   "file_extension": ".py",
   "mimetype": "text/x-python",
   "name": "python",
   "nbconvert_exporter": "python",
   "pygments_lexer": "ipython3",
   "version": "3.9.17"
  }
 },
 "nbformat": 4,
 "nbformat_minor": 5
}
