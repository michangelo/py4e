{
 "cells": [
  {
   "cell_type": "markdown",
   "id": "f54fc0fc",
   "metadata": {},
   "source": [
    "# Lesson 3: Conditionals \n",
    "\n",
    "We look at how Python executes some statements and skips others.\n"
   ]
  },
  {
   "cell_type": "markdown",
   "id": "5e1b5eeb",
   "metadata": {},
   "source": [
    "## Boolean Expressions\n",
    "\n",
    "A **boolean expression** is an expression that is either true or false. The following examples use the operator `==`, which compares two operands and produces `True` if they are equal and `False` otherwise:\n",
    "\n",
    "### [Video: Conditional Execution - Part 1](<https://www.youtube.com/watch?v=2aA3VBdcl6A>)\n",
    "\n",
    "Copyright Creative Commons Attribution 3.0 - Charles R. Severance"
   ]
  },
  {
   "cell_type": "code",
   "execution_count": 1,
   "id": "34e6b17b",
   "metadata": {},
   "outputs": [
    {
     "data": {
      "text/plain": [
       "True"
      ]
     },
     "execution_count": 1,
     "metadata": {},
     "output_type": "execute_result"
    }
   ],
   "source": [
    "5 == 5 "
   ]
  },
  {
   "cell_type": "code",
   "execution_count": 2,
   "id": "843f59f1",
   "metadata": {},
   "outputs": [
    {
     "data": {
      "text/plain": [
       "False"
      ]
     },
     "execution_count": 2,
     "metadata": {},
     "output_type": "execute_result"
    }
   ],
   "source": [
    "5 == 6 "
   ]
  },
  {
   "cell_type": "markdown",
   "id": "09b5e622",
   "metadata": {},
   "source": [
    "`True` and `False` are special values that belong to the class `bool`; they are not strings:"
   ]
  },
  {
   "cell_type": "code",
   "execution_count": 4,
   "id": "793b282b",
   "metadata": {},
   "outputs": [
    {
     "data": {
      "text/plain": [
       "bool"
      ]
     },
     "execution_count": 4,
     "metadata": {},
     "output_type": "execute_result"
    }
   ],
   "source": [
    "type(True)"
   ]
  },
  {
   "cell_type": "code",
   "execution_count": 5,
   "id": "82b1ddfb",
   "metadata": {},
   "outputs": [
    {
     "data": {
      "text/plain": [
       "bool"
      ]
     },
     "execution_count": 5,
     "metadata": {},
     "output_type": "execute_result"
    }
   ],
   "source": [
    "type(False)"
   ]
  },
  {
   "cell_type": "markdown",
   "id": "00029979",
   "metadata": {},
   "source": [
    "The `==` operator is one of the *comparison operators*; the others are:\n",
    "\n",
    "``` py\n",
    "x != y               # x is not equal to y\n",
    "x > y                # x is greater than y\n",
    "x < y                # x is less than y\n",
    "x >= y               # x is greater than or equal to y\n",
    "x <= y               # x is less than or equal to y\n",
    "x is y               # x is the same as y\n",
    "x is not y           # x is not the same as y\n",
    "```\n",
    "\n",
    "Although these operations are probably familiar to you, the Python symbols are different from the mathematical symbols for the same operations. A common error is to use a single equal sign (`=`) instead of a double equal sign (`==`). Remember that = is an assignment operator and `==` is a comparison operator. There is no such thing as `=<` or `=>`.\n"
   ]
  },
  {
   "cell_type": "markdown",
   "id": "e80aae24",
   "metadata": {},
   "source": [
    "## Logical Operators \n",
    "\n",
    "There are three logical operators: `and`, `or`, and `not`. The semantics (meaning) of these operators is similar to their meaning in English. For example,\n",
    "\n",
    "`x > 0 and x < 10`\n",
    "\n",
    "is true only if `x` is greater than 0 *and less* than 10.\n",
    "\n",
    "`n%2 == 0 or n%3 == 0` is true if *either* of the conditions is true, that is, if the number is divisible by 2 or 3.\n",
    "\n",
    "Finally, the `not` operator negates a boolean expression, so `not (x > y)` is true if `x > y` is false; that is, if `x` is less than or equal to `y`.\n",
    "\n",
    "Strictly speaking, the operands of the logical operators should be boolean expressions, but Python is not very strict. Any nonzero number is interpreted as \"true.\"\n"
   ]
  },
  {
   "cell_type": "code",
   "execution_count": 7,
   "id": "8c64069f",
   "metadata": {},
   "outputs": [
    {
     "data": {
      "text/plain": [
       "True"
      ]
     },
     "execution_count": 7,
     "metadata": {},
     "output_type": "execute_result"
    }
   ],
   "source": [
    "17 and True "
   ]
  },
  {
   "cell_type": "markdown",
   "id": "48721b3c",
   "metadata": {},
   "source": [
    "This flexibility can be useful, but there are some subtleties to it that might be confusing. You might want to avoid it until you are sure you know what you are doing."
   ]
  },
  {
   "cell_type": "markdown",
   "id": "a25531bc",
   "metadata": {},
   "source": [
    "## Conditional Execution \n",
    "\n",
    "In order to write useful programs, we almost always need the ability to check conditions and change the behavior of the program accordingly. *Conditional statements* give us this ability. The simplest form is the `if` statement:\n",
    "\n",
    "``` py\n",
    "if x > 0 :\n",
    "    print('x is positive')\n",
    "```\n",
    "\n",
    "The boolean expression after the `if` statement is called the condition. We end the `if` statement with a colon character (:) and the line(s) after the if statement are indented.\n",
    "\n",
    "![Alt text](image.png)\n",
    "If Logic\n",
    "\n",
    "If the logical condition is true, then the indented statement gets executed. If the logical condition is false, the indented statement is skipped.\n",
    "\n",
    "`if` statements have the same structure as function definitions or `for` loops^[We will learn about functions in Chapter 4 and loops in Chapter 5.]. The statement consists of a header line that ends with the colon character (:) followed by an indented block. Statements like this are called *compound statements* because they stretch across more than one line.\n",
    "\n",
    "There is no limit on the number of statements that can appear in the body, but there must be at least one. Occasionally, it is useful to have a body with no statements (usually as a place holder for code you haven't written yet). In that case, you can use the `pass` statement, which does nothing.\n",
    "\n",
    "``` py\n",
    "if x < 0 :\n",
    "    pass          # need to handle negative values!\n",
    "```\n",
    "\n",
    "If you enter an `if` statement in the Python interpreter, the prompt will change from three chevrons to three dots to indicate you are in the middle of a block of statements, as shown below:\n",
    "\n",
    "``` py\n",
    ">>> x = 3\n",
    ">>> if x < 10:\n",
    "...    print('Small')\n",
    "...\n",
    "Small\n",
    ">>>\n",
    "```\n",
    "\n",
    "When using the Python interpreter, you must leave a blank line at the end of a block, otherwise Python will return an error:\n",
    "\n",
    "```py\n",
    ">>> x = 3\n",
    ">>> if x < 10:\n",
    "...    print('Small')\n",
    "... print('Done')\n",
    "  File \"<stdin>\", line 3\n",
    "    print('Done')\n",
    "        ^\n",
    "SyntaxError: invalid syntax\n",
    "```\n",
    "\n",
    "A blank line at the end of a block of statements is not necessary when writing and executing a script, but it may improve readability of your code."
   ]
  },
  {
   "cell_type": "markdown",
   "id": "c4000795",
   "metadata": {},
   "source": [
    "# Alternative Execution \n",
    "\n",
    "A second form of the `if` statement is alternative execution, in which there are two possibilities and the condition determines which one gets executed. The syntax looks like this:\n",
    "\n",
    "```py\n",
    "if x%2 == 0 :\n",
    "    print('x is even')\n",
    "else :\n",
    "    print('x is odd')\n",
    "```\n",
    "\n",
    "If the remainder when x is divided by 2 is 0, then we know that x is even, and the program displays a message to that effect. If the condition is false, the second set of statements is executed.\n",
    "\n",
    "![Alt text](image-1.png)\n",
    "If-Then-Else Logic\n",
    "\n",
    "Since the condition must either be true or false, exactly one of the alternatives will be executed. The alternatives are called *branches*, because they are branches in the flow of execution."
   ]
  },
  {
   "cell_type": "markdown",
   "id": "7fb44db7",
   "metadata": {},
   "source": [
    "## Chained Conditionals\n",
    "\n",
    "### [Video: Conditional Execution - Part 2](<https://www.youtube.com/watch?v=OczkNrHPBps>)\n",
    "\n",
    "Sometimes there are more than two possibilities and we need more than two branches. One way to express a computation like that is a *chained conditional*:\n",
    "\n",
    "```py\n",
    "if x < y:\n",
    "    print('x is less than y')\n",
    "elif x > y:\n",
    "    print('x is greater than y')\n",
    "else:\n",
    "    print('x and y are equal')\n",
    "```\n",
    "\n",
    "`elif` is an abbreviation of \"else if.\" Again, exactly one branch will be executed.\n",
    "\n",
    "![Alt text](image-2.png)\n",
    "If-Then-ElseIf Logic\n",
    "\n",
    "There is no limit on the number of `elif` statements. If there is an `else` clause, it has to be at the end, but there doesn't have to be one.\n",
    "\n",
    "```py\n",
    "if choice == 'a':\n",
    "    print('Bad guess')\n",
    "elif choice == 'b':\n",
    "    print('Good guess')\n",
    "elif choice == 'c':\n",
    "    print('Close, but not correct')\n",
    "```\n",
    "\n",
    "Each condition is checked in order. If the first is false, the next is checked, and so on. If one of them is true, the corresponding branch executes, and the statement ends. Even if more than one condition is true, only the first true branch executes.\n"
   ]
  },
  {
   "cell_type": "markdown",
   "id": "88d4e160",
   "metadata": {},
   "source": [
    "## Nested Conditionals \n",
    "\n",
    "One conditional can also be nested within another. We could have written the three-branch example like this:\n",
    "\n",
    "```py\n",
    "if x == y:\n",
    "    print('x and y are equal')\n",
    "else:\n",
    "    if x < y:\n",
    "        print('x is less than y')\n",
    "    else:\n",
    "        print('x is greater than y')\n",
    "```\n",
    "\n",
    "The outer conditional contains two branches. The first branch contains a simple statement. The second branch contains another `if` statement, which has two branches of its own. Those two branches are both simple statements, although they could have been conditional statements as well.\n",
    "\n",
    "![Alt text](image-3.png)\n",
    "Nested If Statements\n",
    "\n",
    "Although the indentation of the statements makes the structure apparent, nested *conditionals* become difficult to read very quickly. In general, it is a good idea to avoid them when you can.\n",
    "\n",
    "Logical operators often provide a way to simplify nested conditional statements. For example, we can rewrite the following code using a single conditional:\n",
    "\n",
    "```py \n",
    "if 0 < x:\n",
    "    if x < 10:\n",
    "        print('x is a positive single-digit number.')\n",
    "```\n",
    "\n",
    "The `print` statement is executed only if we make it past both conditionals, so we can get the same effect with the and operator:\n",
    "\n",
    "```py\n",
    "if 0 < x and x < 10:\n",
    "    print('x is a positive single-digit number.')\n",
    "```"
   ]
  },
  {
   "cell_type": "markdown",
   "id": "abcabc53",
   "metadata": {},
   "source": [
    "## Catching Exceptions Using Try and Except\n",
    "\n",
    "Earlier we saw a code segment where we used the `input` and `int` functions to read and parse an integer number entered by the user. We also saw how treacherous doing this could be:\n",
    "\n",
    "```py\n",
    ">>> prompt = \"What is the air velocity of an unladen swallow?\\n\"\n",
    ">>> speed = input(prompt)\n",
    "What is the air velocity of an unladen swallow?\n",
    "What do you mean, an African or a European swallow?\n",
    ">>> int(speed)\n",
    "ValueError: invalid literal for int() with base 10:\n",
    ">>>\n",
    "```\n",
    "\n",
    "When we are executing these statements in the Python interpreter, we get a new prompt from the interpreter, think \"oops\", and move on to our next statement.\n",
    "\n",
    "However if you place this code in a Python script and this error occurs, your script immediately stops in its tracks with a traceback. It does not execute the following statement.\n",
    "\n",
    "Here is a sample program to convert a Fahrenheit temperature to a Celsius temperature:\n",
    "\n",
    "```py\n",
    "inp = input('Enter Fahrenheit Temperature: ')\n",
    "fahr = float(inp)\n",
    "cel = (fahr - 32.0) * 5.0 / 9.0\n",
    "print(cel)\n",
    "```\n",
    "\n",
    "If we execute this code and give it invalid input, it simply fails with an unfriendly error message:\n",
    "\n",
    "```py\n",
    "python fahren.py\n",
    "Enter Fahrenheit Temperature:72\n",
    "22.22222222222222\n",
    "```\n",
    "\n",
    "There is a conditional execution structure built into Python to handle these types of expected and unexpected errors called \"try / except\". The idea of `try` and `except` is that you know that some sequence of instruction(s) may have a problem and you want to add some statements to be executed if an error occurs. These extra statements (the except block) are ignored if there is no error.\n",
    "\n",
    "You can think of the `try` and `except` feature in Python as an \"insurance policy\" on a sequence of statements.\n",
    "\n",
    "We can rewrite our temperature converter as follows:\n",
    "\n",
    "```py\n",
    "inp = input('Enter Fahrenheit Temperature:')\n",
    "try:\n",
    "    fahr = float(inp)\n",
    "    cel = (fahr - 32.0) * 5.0 / 9.0\n",
    "    print(cel)\n",
    "except:\n",
    "    print('Please enter a number')\n",
    "\n",
    "```\n",
    "\n",
    "Python starts by executing the sequence of statements in the `try` block. If all goes well, it skips the `except` block and proceeds. If an exception occurs in the try block, Python jumps out of the `try` block and executes the sequence of statements in the `except` block.\n",
    "\n",
    "```py\n",
    "python fahren2.py\n",
    "Enter Fahrenheit Temperature:72\n",
    "22.22222222222222\n",
    "```\n",
    "\n",
    "```py\n",
    "python fahren2.py\n",
    "Enter Fahrenheit Temperature:fred\n",
    "Please enter a number\n",
    "```\n",
    "\n",
    "Handling an exception with a `try` statement is called *catching* an exception. In this example, the `except` clause prints an error message. In general, catching an exception gives you a chance to fix the problem, or try again, or at least end the pr]ogram gracefully.\n"
   ]
  },
  {
   "cell_type": "markdown",
   "id": "90a2dcf6",
   "metadata": {},
   "source": [
    "## Short-Circuit Evaluation of Logical Expressions\n",
    "\n",
    "When Python is processing a logical expression such as `x >= 2 and (x/y) > 2`, it evaluates the expression from left to right. Because of the definition of `and`, if `x` is less than 2, the expression `x >= 2` is `False` and so the whole expression is `False` regardless of whether `(x/y) > 2` evaluates to `True` or `False`.\n",
    "\n",
    "When Python detects that there is nothing to be gained by evaluating the rest of a logical expression, it stops its evaluation and does not do the computations in the rest of the logical expression. When the evaluation of a logical expression stops because the overall value is already known, it is called *short-circuiting* the evaluation.\n",
    "\n",
    "While this may seem like a fine point, the short-circuit behavior leads to a clever technique called the *guardian pattern*. Consider the following code sequence in the Python interpreter:\n",
    "\n",
    "```py\n",
    ">>> x = 6\n",
    ">>> y = 2\n",
    ">>> x >= 2 and (x/y) > 2\n",
    "True\n",
    ">>> x = 1\n",
    ">>> y = 0\n",
    ">>> x >= 2 and (x/y) > 2\n",
    "False\n",
    ">>> x = 6\n",
    ">>> y = 0\n",
    ">>> x >= 2 and (x/y) > 2\n",
    "Traceback (most recent call last):\n",
    "  File \"<stdin>\", line 1, in <module>\n",
    "ZeroDivisionError: division by zero\n",
    ">>>\n",
    "```\n",
    "\n",
    "The third calculation failed because Python was evaluating (`x/y`) and `y` was zero, which causes a runtime error. But the first and the second examples *did not* fail because in the first calculation `y` was non zero and in the second one the first part of these expressions `x >= 2` evaluated to `False` so the (`x/y`) was not ever executed due to the *short-circuit* rule and there was no error.\n",
    "\n",
    "We can construct the logical expression to strategically place a *guard* evaluation just before the evaluation that might cause an error as follows:\n",
    "\n",
    "```py\n",
    ">>> x = 1\n",
    ">>> y = 0\n",
    ">>> x >= 2 and y != 0 and (x/y) > 2\n",
    "False\n",
    ">>> x = 6\n",
    ">>> y = 0\n",
    ">>> x >= 2 and y != 0 and (x/y) > 2\n",
    "False\n",
    ">>> x >= 2 and (x/y) > 2 and y != 0\n",
    "Traceback (most recent call last):\n",
    "  File \"<stdin>\", line 1, in <module>\n",
    "ZeroDivisionError: division by zero\n",
    ">>>\n",
    "```\n",
    "\n",
    "In the first logical expression, `x >= 2` is `False` so the evaluation stops at the `and`. In the second logical expression, x `>= 2` is `True` but `y != 0` is `False` so we never reach (`x/y`).\n",
    "\n",
    "In the third logical expression, the `y != 0` is after the (`x/y`) calculation so the expression fails with an error.\n",
    "\n",
    "In the second expression, we say that `y != 0` acts as a *guard* to insure that we only execute (`x/y`) if y is non-zero."
   ]
  },
  {
   "cell_type": "markdown",
   "id": "4d801787",
   "metadata": {},
   "source": [
    "## Debugging \n",
    "\n",
    "The traceback Python displays when an error occurs contains a lot of information, but it can be overwhelming. The most useful parts are usually:\n",
    "\n",
    "- What kind of error it was, and\n",
    "\n",
    "- Where it occurred.\n",
    "\n",
    "Syntax errors are usually easy to find, but there are a few gotchas. Whitespace errors can be tricky because spaces and tabs are invisible and we are used to ignoring them.\n",
    "\n",
    "```py\n",
    ">>> x = 5\n",
    ">>>  y = 6\n",
    "  File \"<stdin>\", line 1\n",
    "    y = 6\n",
    "    ^\n",
    "IndentationError: unexpected indent\n",
    "```\n",
    "\n",
    "In this example, the problem is that the second line is indented by one space. But the error message points to `y`, which is misleading. In general, error messages indicate where the problem was discovered, but the actual error might be earlier in the code, sometimes on a previous line.\n",
    "\n",
    "In general, error messages tell you where the problem was discovered, but that is often not where it was caused.\n"
   ]
  },
  {
   "cell_type": "markdown",
   "id": "6438a2bf",
   "metadata": {},
   "source": [
    "## Glossary\n",
    "\n",
    "**body**: The sequence of statements within a compound statement.\n",
    "\n",
    "**boolean expression**: An expression whose value is either True or False.\n",
    "\n",
    "**branch**: One of the alternative sequences of statements in a conditional statement.\n",
    "\n",
    "**chained conditional**: A conditional statement with a series of alternative branches.\n",
    "\n",
    "**comparison operator**: One of the operators that compares its operands: `==`, `!=`, `>`, `<`, `>=`, and `<=`.\n",
    "\n",
    "**conditional statement**: A statement that controls the flow of execution depending on some condition.\n",
    "\n",
    "**condition**: The boolean expression in a conditional statement that determines which branch is executed.\n",
    "\n",
    "**compound statement**: A statement that consists of a header and a body. The header ends with a colon (`:`). The body is indented relative to the header.\n",
    "\n",
    "**guardian pattern**: Where we construct a logical expression with additional comparisons to take advantage of the short-circuit behavior.\n",
    "\n",
    "**logical operator**: One of the operators that combines boolean expressions: and, or, and not.\n",
    "\n",
    "**nested conditional**: A conditional statement that appears in one of the branches of another conditional statement.\n",
    "\n",
    "**traceback**: A list of the functions that are executing, printed when an exception occurs.\n",
    "\n",
    "**short circuit**: When Python is part-way through evaluating a logical expression and stops the evaluation because Python knows the final value for the expression without needing to evaluate the rest of the expression."
   ]
  },
  {
   "cell_type": "markdown",
   "id": "79790d4a",
   "metadata": {},
   "source": [
    "## Exercises "
   ]
  },
  {
   "cell_type": "markdown",
   "id": "76f78233",
   "metadata": {},
   "source": [
    "### [Graded Assignment] Exercise 1  \n",
    "\n",
    "Accept and complete the assignment in the Github Classroom. Rewrite your pay computation to give the employee 1.5 times the hourly rate for hours worked above 40 hours.\n",
    "\n",
    "```py\n",
    "Enter Hours: 45\n",
    "Enter Rate: 10\n",
    "Pay: 475.0\n",
    "```\n",
    "\n",
    "### [Video: Exercise 3.1](<https://www.youtube.com/watch?v=oUMQbZ4SBuM>)"
   ]
  },
  {
   "cell_type": "code",
   "execution_count": 11,
   "id": "78681f4b",
   "metadata": {},
   "outputs": [
    {
     "name": "stdout",
     "output_type": "stream",
     "text": [
      "Enter Hours: 45\n",
      "Enter Rate: 10.5\n",
      "498.75\n"
     ]
    }
   ],
   "source": [
    "def exercise_03_01():\n",
    "    \"\"\" Write a program to prompt the user for hours and rate per hour using input to compute gross pay. \n",
    "    Pay the hourly rate for the hours up to 40 and 1.5 times the hourly rate for all hours worked above 40 hours. \n",
    "    Use 45 hours and a rate of 10.50 per hour to test the program (the pay should be 498.75). \n",
    "    You should use input to read a string and float() to convert the string to a number. \n",
    "    Do not worry about error checking the user input - assume the user types numbers properly.\n",
    "    \n",
    "    Parameters\n",
    "    ----------\n",
    "    45, 10.50\n",
    "    You should use input to read a string and float() to convert the string to a number.\n",
    "\n",
    "    Returns\n",
    "    -------\n",
    "    498.75\n",
    "    \"\"\"\n",
    "\n",
    "    hrs = float(input(\"Enter Hours: \"))  \n",
    "    rate = float(input(\"Enter Rate: \"))\n",
    "\n",
    "    if hrs > 40:\n",
    "        pay = rate * 40 + (hrs - 40) * rate * 1.5\n",
    "    else:\n",
    "        pay = hrs * rate\n",
    "    print(pay)\n",
    "    \n",
    "exercise_03_01()"
   ]
  },
  {
   "cell_type": "markdown",
   "id": "a9759082",
   "metadata": {},
   "source": [
    "### Exercise 2\n",
    "\n",
    "Rewrite your pay program using `try` and `except` so that your program handles non-numeric input gracefully by printing a message and exiting the program. The following shows two executions of the program:\n",
    "\n",
    "```py\n",
    "Enter Hours: 20\n",
    "Enter Rate: nine\n",
    "Error, please enter numeric input\n",
    "```\n",
    "\n",
    "```py\n",
    "Enter Hours: forty\n",
    "Error, please enter numeric input\n",
    "```\n",
    "\n",
    "### [Video: Ex 3.2](<https://www.youtube.com/watch?v=-iUA4cCKRlM>)"
   ]
  },
  {
   "cell_type": "code",
   "execution_count": 25,
   "id": "5c7786c8",
   "metadata": {},
   "outputs": [
    {
     "name": "stdout",
     "output_type": "stream",
     "text": [
      "Enter Hours: 45\n",
      "Enter Rate: 10.5\n",
      "498.75\n"
     ]
    }
   ],
   "source": [
    "def exercise_03_02():\n",
    "    hrs = input(\"Enter Hours: \")  \n",
    "    rate = input(\"Enter Rate: \")\n",
    "    \n",
    "    try:\n",
    "        hrs = float(hrs)\n",
    "        rate = float(rate)\n",
    "        if hrs > 40:\n",
    "            pay = rate * 40 + (hrs - 40) * rate * 1.5\n",
    "            print(pay)\n",
    "        else:\n",
    "            pay = hrs * rate\n",
    "            print(pay)\n",
    "    except:\n",
    "        print('Error, please enter numeric input')\n",
    "\n",
    "    \n",
    "exercise_03_02()"
   ]
  },
  {
   "cell_type": "markdown",
   "id": "99b4b55d",
   "metadata": {},
   "source": [
    "## [Graded Assignment] Exercise 3\n",
    "\n",
    "Accept and complete the assignment in the Github Classroom. Write a program to prompt for a score between 0.0 and 1.0. If the score is out of range, print an error message. If the score is between 0.0 and 1.0, print a grade using the following table.\n",
    "\n",
    "```py\n",
    " Score   Grade\n",
    ">= 0.9     A\n",
    ">= 0.8     B\n",
    ">= 0.7     C\n",
    ">= 0.6     D\n",
    " < 0.6     F\n",
    "```\n",
    "\n",
    "```py\n",
    "Enter score: 0.95\n",
    "A\n",
    "```\n",
    "\n",
    "```py\n",
    "Enter score: perfect\n",
    "Bad score\n",
    "```\n",
    "\n",
    "```py\n",
    "Enter score: 10.0\n",
    "Bad score\n",
    "```\n",
    "\n",
    "```py\n",
    "Enter score: 0.75\n",
    "C\n",
    "```\n",
    "\n",
    "```py\n",
    "Enter score: 0.5\n",
    "F\n",
    "```\n",
    "\n",
    "Run the program repeatedly as shown above to test the various different values for input.\n"
   ]
  },
  {
   "cell_type": "code",
   "execution_count": 28,
   "id": "e32a6f67",
   "metadata": {},
   "outputs": [
    {
     "name": "stdout",
     "output_type": "stream",
     "text": [
      "Enter score:0.67\n",
      "D\n"
     ]
    }
   ],
   "source": [
    "def exercise_03_03():\n",
    "    \n",
    "    # prompt score\n",
    "    score = input('Enter score:')\n",
    "    score = float(score)\n",
    "    \n",
    "    # if score isn't between 0.0 and 1.0, print error message and exit.\n",
    "    if score < 0.0 or score > 1.0:\n",
    "        print(\"Error: Please try again.\")\n",
    "        exit()\n",
    "        \n",
    "    # assign grade letters \n",
    "    elif score >= 0.9:\n",
    "        print(\"A\")\n",
    "    elif score >= 0.8:\n",
    "        print(\"B\")\n",
    "    elif score >= 0.7:\n",
    "        print(\"C\")\n",
    "    elif score >= 0.6:\n",
    "        print(\"D\")\n",
    "    elif score < 0.6:\n",
    "        print(\"F\")\n",
    "\n",
    "exercise_03_03()"
   ]
  }
 ],
 "metadata": {
  "kernelspec": {
   "display_name": "Python 3 (ipykernel)",
   "language": "python",
   "name": "python3"
  },
  "language_info": {
   "codemirror_mode": {
    "name": "ipython",
    "version": 3
   },
   "file_extension": ".py",
   "mimetype": "text/x-python",
   "name": "python",
   "nbconvert_exporter": "python",
   "pygments_lexer": "ipython3",
   "version": "3.9.17"
  }
 },
 "nbformat": 4,
 "nbformat_minor": 5
}
