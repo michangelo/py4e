{
 "cells": [
  {
   "cell_type": "markdown",
   "metadata": {},
   "source": [
    "## PY4E Lesson 1 Exercises"
   ]
  },
  {
   "cell_type": "markdown",
   "metadata": {},
   "source": [
    "[Graded Assignement] Hello World \n",
    "- Write a program that uses a `print` function to say 'hello world' as shown in 'Desired Output'.\n",
    "\n",
    "- Adjust the code in `assignment.py` to make the tests in `assignment_test.py` pass."
   ]
  },
  {
   "cell_type": "code",
   "execution_count": 10,
   "metadata": {},
   "outputs": [
    {
     "ename": "NameError",
     "evalue": "name 'prinq' is not defined",
     "output_type": "error",
     "traceback": [
      "\u001b[1;31m---------------------------------------------------------------------------\u001b[0m",
      "\u001b[1;31mNameError\u001b[0m                                 Traceback (most recent call last)",
      "Cell \u001b[1;32mIn[10], line 5\u001b[0m\n\u001b[0;32m      2\u001b[0m \u001b[39mdef\u001b[39;00m \u001b[39mexercise_hello\u001b[39m():\n\u001b[0;32m      3\u001b[0m     prinq(\u001b[39m\"\u001b[39m\u001b[39mhello world\u001b[39m\u001b[39m\"\u001b[39m)\n\u001b[1;32m----> 5\u001b[0m exercise_hello()\n",
      "Cell \u001b[1;32mIn[10], line 3\u001b[0m, in \u001b[0;36mexercise_hello\u001b[1;34m()\u001b[0m\n\u001b[0;32m      2\u001b[0m \u001b[39mdef\u001b[39;00m \u001b[39mexercise_hello\u001b[39m():\n\u001b[1;32m----> 3\u001b[0m     prinq(\u001b[39m\"\u001b[39m\u001b[39mhello world\u001b[39m\u001b[39m\"\u001b[39m)\n",
      "\u001b[1;31mNameError\u001b[0m: name 'prinq' is not defined"
     ]
    }
   ],
   "source": [
    "# initial\n",
    "def exercise_hello():\n",
    "    prinq(\"hello world\")\n",
    "\n",
    "exercise_hello()"
   ]
  },
  {
   "cell_type": "code",
   "execution_count": 8,
   "metadata": {},
   "outputs": [
    {
     "name": "stdout",
     "output_type": "stream",
     "text": [
      "hello world\n"
     ]
    }
   ],
   "source": [
    "# fixed\n",
    "def exercise_hello():\n",
    "    print(a\"hello world\")\n",
    "\n",
    "exercise_hello()"
   ]
  },
  {
   "cell_type": "markdown",
   "metadata": {},
   "source": [
    "Exercise 1"
   ]
  },
  {
   "cell_type": "markdown",
   "metadata": {},
   "source": [
    "Q. What is the function of the secondary memory in a computer? \n",
    "- a) Execute all of the computation and logic of the program\n",
    "- b) Retrieve web pages over the Internet\n",
    "- **c) Store information for the long term, even beyond a power cycle**\n",
    "- d) Take input from the user"
   ]
  },
  {
   "cell_type": "markdown",
   "metadata": {},
   "source": [
    "Exercise 2"
   ]
  },
  {
   "cell_type": "markdown",
   "metadata": {},
   "source": [
    "Q. What is a program? \n",
    "\n",
    "A. A program is at its most basic a sequence of Python statements that have been crafted to do something."
   ]
  },
  {
   "cell_type": "markdown",
   "metadata": {},
   "source": [
    "Exercise 3. \n",
    "\n",
    "Q. What is the difference between a compiler and an interpreter?\n",
    "\n",
    "A. A compiler takes high-level programming languages from the source and compiles them into machine language such as binaries and outputs the code from that machine language. An interpreter takes the source code and interprets it as is, and then outputs that interpretation. "
   ]
  },
  {
   "cell_type": "markdown",
   "metadata": {},
   "source": [
    "Exercise 4. \n",
    "\n",
    "Q. Which of the following contains \"machine code\"?\n",
    "\n",
    "- a) The Python interpreter\n",
    "- **b) The keyboard**\n",
    "- c) Python source file\n",
    "- d) A word processing document"
   ]
  },
  {
   "cell_type": "markdown",
   "metadata": {},
   "source": [
    "Exercise 5. \n",
    "\n",
    "Q. What is wrong with the following code:"
   ]
  },
  {
   "cell_type": "code",
   "execution_count": 11,
   "metadata": {},
   "outputs": [
    {
     "ename": "SyntaxError",
     "evalue": "invalid syntax (913953478.py, line 1)",
     "output_type": "error",
     "traceback": [
      "\u001b[1;36m  Cell \u001b[1;32mIn[11], line 1\u001b[1;36m\u001b[0m\n\u001b[1;33m    primt 'Hello world!'\u001b[0m\n\u001b[1;37m          ^\u001b[0m\n\u001b[1;31mSyntaxError\u001b[0m\u001b[1;31m:\u001b[0m invalid syntax\n"
     ]
    }
   ],
   "source": [
    "primt 'Hello world!'"
   ]
  },
  {
   "cell_type": "markdown",
   "metadata": {},
   "source": [
    "A. A SyntaxError is given by python due to invalid syntax, not recognizing print or parentheses. "
   ]
  },
  {
   "cell_type": "markdown",
   "metadata": {},
   "source": [
    "Exercise 6. \n",
    "\n",
    "Where in the computer is a variable such as \"x\" stored after the following Python line finishes?"
   ]
  },
  {
   "cell_type": "code",
   "execution_count": 12,
   "metadata": {},
   "outputs": [],
   "source": [
    "x = 123"
   ]
  },
  {
   "cell_type": "markdown",
   "metadata": {},
   "source": [
    "- a) Central processing unit\n",
    "- **b) Main Memory**\n",
    "- c) Secondary Memory\n",
    "- d) Input Devices\n",
    "- e) Output Devices"
   ]
  },
  {
   "cell_type": "markdown",
   "metadata": {},
   "source": [
    "Exercise 7. \n",
    "\n",
    "What will the following program print out:"
   ]
  },
  {
   "cell_type": "code",
   "execution_count": 14,
   "metadata": {},
   "outputs": [
    {
     "name": "stdout",
     "output_type": "stream",
     "text": [
      "42\n"
     ]
    }
   ],
   "source": [
    "x = 43\n",
    "x = x - 1 \n",
    "print(x)"
   ]
  },
  {
   "cell_type": "markdown",
   "metadata": {},
   "source": [
    "- a) 43\n",
    "- **b) 42**\n",
    "- c) x + 1\n",
    "- d) Error because x = x + 1 is not possible mathematically"
   ]
  },
  {
   "cell_type": "markdown",
   "metadata": {},
   "source": [
    "Exercise 8. \n",
    "\n",
    "Q. Explain each of the following using an example of a human capability: (1) Central processing unit, (2) Main Memory, (3) Secondary Memory, (4) Input Device, and (5) Output Device. For example, \"What is the human equivalent to a Central Processing Unit\"?\n",
    "\n",
    "A. \n",
    "- The Central Processing Unit (CPU) is equivelant to the human brain with cache. \n",
    "- The Main Memory is equivelant to the human \n",
    "- The Secondary Memory is equivelant to the human \n",
    "- The Input Memory is equivelant to the human senses such as eye sight and ear sound. \n",
    "- The Output Memory is equivelant to the human speaking. \n",
    "\n",
    "From https://www.reddit.com/r/hardware/comments/41f5mw/for_sake_of_simple_explanation_how_would_you/\n",
    "\n",
    "My go-to simple explanation likens computers to kitchens.\n",
    "\n",
    "The CPU is the chef. The chef receives orders and makes something happen.\n",
    "\n",
    "RAM is like counter space. It's quick and easy to access if the chef has to put something down for a moment.\n",
    "\n",
    "Storage space can either be cabinets or refrigerators/freezers. It's where the chef puts the things he's not using right now and it takes longer to access than the counter.\n",
    "\n",
    "The GPU can be assistant chefs or extra helping hands. The chef can do one good thing at a time (preparing a roast, etc) while the assistants can do a lot of small things, but simultaneously (For example, rendering. GPUs can draw a million triangles much faster than the CPU can).\n",
    "\n",
    "The motherboard is essentially the kitchen floor. This is where all the ingredients come together.\n",
    "\n",
    "The power supply is sort of omitted... I mean, food powers the chef, obviously... maybe. Maybe the chef is a mutant, but I digress.\n",
    "\n",
    "So, once an order is done (program is executed) it winds up on a plate, in front of a patron (or on your monitor).\n",
    "\n",
    "TL:DR - Computer is Kitchen. Program is food order. Pixels are roast beef.\n"
   ]
  },
  {
   "cell_type": "markdown",
   "metadata": {},
   "source": [
    "Exercise 9. \n",
    "\n",
    "Q. How do you fix a \"Syntax Error?\n",
    "\n",
    "A. A Syntax Error can be fixed by investigating the line number given by python and using systematical debugging techniques such as checking the variables, keywords, and other things for spelling mistakes or missing certain punctuation marks, and keep trying until you get it right. "
   ]
  },
  {
   "cell_type": "markdown",
   "metadata": {},
   "source": []
  }
 ],
 "metadata": {
  "kernelspec": {
   "display_name": "Python 3",
   "language": "python",
   "name": "python3"
  },
  "language_info": {
   "codemirror_mode": {
    "name": "ipython",
    "version": 3
   },
   "file_extension": ".py",
   "mimetype": "text/x-python",
   "name": "python",
   "nbconvert_exporter": "python",
   "pygments_lexer": "ipython3",
   "version": "3.11.4"
  },
  "orig_nbformat": 4
 },
 "nbformat": 4,
 "nbformat_minor": 2
}
