{
 "cells": [
  {
   "cell_type": "markdown",
   "metadata": {},
   "source": [
    "# Lesson 9: Dictionary\n",
    "\n",
    "The dictionary data structures allows us to store multiple values in an object and look up the values by their key."
   ]
  },
  {
   "cell_type": "markdown",
   "metadata": {},
   "source": [
    "**TOC HERE** "
   ]
  },
  {
   "cell_type": "markdown",
   "metadata": {},
   "source": [
    "## What is a Dictionary?\n",
    "\n",
    "A *dictionary* is like a list, but more general. In a list, the index positions have to be integers; in a dictionary, the indices can be (almost) any type.\n",
    "\n",
    "You can think of a dictionary as a mapping between a set of indices (which are called *keys*) and a set of *values*. *Each key maps to a value*. The association of a key and a value is called a *key-value pair* or sometimes an *item*.\n",
    "\n",
    "As an example, we'll build a dictionary that maps from English to Spanish words, so the keys and the values are all strings.\n",
    "\n",
    "The function `dict` creates a new dictionary with no items. Because `dict` is the name of a built-in function, you should avoid using it as a variable name."
   ]
  },
  {
   "cell_type": "markdown",
   "metadata": {},
   "source": [
    "Video: Dictionaries - Part 1 \n",
    "\n",
    "### <https://www.youtube.com/embed/yDDRMb-1cxI>"
   ]
  },
  {
   "cell_type": "code",
   "execution_count": 1,
   "metadata": {},
   "outputs": [
    {
     "name": "stdout",
     "output_type": "stream",
     "text": [
      "{}\n"
     ]
    }
   ],
   "source": [
    "eng2sp = dict()\n",
    "print(eng2sp)"
   ]
  },
  {
   "cell_type": "code",
   "execution_count": 2,
   "metadata": {},
   "outputs": [
    {
     "name": "stdout",
     "output_type": "stream",
     "text": [
      "{}\n"
     ]
    }
   ],
   "source": [
    "eng2sp = {}\n",
    "print(eng2sp)"
   ]
  },
  {
   "cell_type": "markdown",
   "metadata": {},
   "source": [
    "The curly brackets, `{}`, represent an empty dictionary. To add items to the dictionary, you can use square brackets:"
   ]
  },
  {
   "cell_type": "code",
   "execution_count": 3,
   "metadata": {},
   "outputs": [
    {
     "name": "stdout",
     "output_type": "stream",
     "text": [
      "{'one': 'uno'}\n"
     ]
    }
   ],
   "source": [
    "eng2sp['one'] = 'uno'\n",
    "print(eng2sp)"
   ]
  },
  {
   "cell_type": "markdown",
   "metadata": {},
   "source": [
    "This output format is also an input format. For example, you can create a new dictionary with three items."
   ]
  },
  {
   "cell_type": "code",
   "execution_count": 6,
   "metadata": {},
   "outputs": [
    {
     "name": "stdout",
     "output_type": "stream",
     "text": [
      "{'one': 'uno', 'two': 'dos', 'three': 'tres'}\n"
     ]
    }
   ],
   "source": [
    "eng2sp = {'one': 'uno', 'two': 'dos', 'three': 'tres'}\n",
    "print(eng2sp)"
   ]
  },
  {
   "cell_type": "markdown",
   "metadata": {},
   "source": [
    "Since Python 3.7x the order of key-value pairs is the same as their input order, i.e. dictionaries are now ordered structures.\n",
    "\n",
    "But that doesn't really matter because the elements of a dictionary are never indexed with integer indices. Instead, you use the keys to look up the corresponding values:"
   ]
  },
  {
   "cell_type": "code",
   "execution_count": 7,
   "metadata": {},
   "outputs": [
    {
     "name": "stdout",
     "output_type": "stream",
     "text": [
      "dos\n"
     ]
    }
   ],
   "source": [
    "print(eng2sp['two'])"
   ]
  },
  {
   "cell_type": "markdown",
   "metadata": {},
   "source": [
    "The key `'two'` always maps to the value \"dos\" so the order of the items doesn't matter.\n",
    "\n",
    "If the key isn't in the dictionary, you get an exception:"
   ]
  },
  {
   "cell_type": "code",
   "execution_count": 6,
   "metadata": {},
   "outputs": [
    {
     "ename": "KeyError",
     "evalue": "'four'",
     "output_type": "error",
     "traceback": [
      "\u001b[1;31m---------------------------------------------------------------------------\u001b[0m",
      "\u001b[1;31mKeyError\u001b[0m                                  Traceback (most recent call last)",
      "Cell \u001b[1;32mIn[6], line 1\u001b[0m\n\u001b[1;32m----> 1\u001b[0m \u001b[39mprint\u001b[39m(eng2sp[\u001b[39m'\u001b[39;49m\u001b[39mfour\u001b[39;49m\u001b[39m'\u001b[39;49m])\n",
      "\u001b[1;31mKeyError\u001b[0m: 'four'"
     ]
    }
   ],
   "source": [
    "print(eng2sp['four'])"
   ]
  },
  {
   "cell_type": "markdown",
   "metadata": {},
   "source": [
    "The `len` function works on dictionaries; it returns the number of key-value pairs:"
   ]
  },
  {
   "cell_type": "code",
   "execution_count": 8,
   "metadata": {},
   "outputs": [
    {
     "data": {
      "text/plain": [
       "3"
      ]
     },
     "execution_count": 8,
     "metadata": {},
     "output_type": "execute_result"
    }
   ],
   "source": [
    "# number of key:value pairs inside our dictionary\n",
    "len(eng2sp)"
   ]
  },
  {
   "cell_type": "markdown",
   "metadata": {},
   "source": [
    "The `in` operator works on dictionaries; it tells you whether something appears as a key in the dictionary (appearing as a value is not good enough)."
   ]
  },
  {
   "cell_type": "code",
   "execution_count": 11,
   "metadata": {},
   "outputs": [
    {
     "data": {
      "text/plain": [
       "False"
      ]
     },
     "execution_count": 11,
     "metadata": {},
     "output_type": "execute_result"
    }
   ],
   "source": [
    "'one' in eng2sp # True\n",
    "'uno' in eng2sp"
   ]
  },
  {
   "cell_type": "markdown",
   "metadata": {},
   "source": [
    "To see whether something appears as a value in a dictionary, you can use the method `values`, which returns the values as a type that can be converted to a list, and then use the `in` operator:"
   ]
  },
  {
   "cell_type": "code",
   "execution_count": 12,
   "metadata": {},
   "outputs": [
    {
     "data": {
      "text/plain": [
       "True"
      ]
     },
     "execution_count": 12,
     "metadata": {},
     "output_type": "execute_result"
    }
   ],
   "source": [
    "vals = list(eng2sp.values())\n",
    "'uno' in vals"
   ]
  },
  {
   "cell_type": "markdown",
   "metadata": {},
   "source": [
    "The `in` operator uses different algorithms for lists and dictionaries. For lists, it uses a linear search algorithm. As the list gets longer, the search time gets longer in direct proportion to the length of the list. For dictionaries, Python uses an algorithm called a hash table that has a remarkable property: the `in` operator takes about the same amount of time no matter how many items there are in a dictionary. I won't explain why hash functions are so magical, but you can read more about it at <https://wikipedia.org/wiki/Hash_table>"
   ]
  },
  {
   "cell_type": "markdown",
   "metadata": {},
   "source": [
    "### Exercise 1\n",
    "Download a copy of the file <http://www.py4e.com/code3/words.txt>\n",
    "\n",
    "Write a program that reads the words in *words.txt* and stores them as keys in a dictionary. It doesn't matter what the values are. Then you can use the `in` operator as a fast way to check whether a string is in the dictionary. "
   ]
  },
  {
   "cell_type": "code",
   "execution_count": 19,
   "metadata": {},
   "outputs": [
    {
     "name": "stdout",
     "output_type": "stream",
     "text": [
      "{'Writing': 1, 'programs': 2, 'or': 3, 'programming': 4, 'is': 5, 'a': 6, 'very': 7, 'creative': 8, 'and': 9, 'rewarding': 10, 'activity': 11, 'You': 12, 'can': 13, 'write': 14, 'for': 16, 'many': 17, 'reasons': 18, 'ranging': 19, 'from': 20, 'making': 21, 'your': 22, 'living': 23, 'to': 24, 'solving': 25, 'difficult': 27, 'data': 28, 'analysis': 29, 'problem': 30, 'having': 32, 'fun': 33, 'helping': 35, 'someone': 36, 'else': 37, 'solve': 38, 'This': 41, 'book': 42, 'assumes': 43, 'that': 44, '{\\\\em': 45, 'everyone}': 46, 'needs': 47, 'know': 49, 'how': 50, 'program': 52, 'once': 55, 'you': 56, 'program,': 60, 'will': 62, 'figure': 63, 'out': 64, 'what': 65, 'want': 67, 'do': 69, 'with': 70, 'newfound': 72, 'skills': 73, 'We': 74, 'are': 75, 'surrounded': 76, 'in': 77, 'our': 78, 'daily': 79, 'lives': 80, 'computers': 82, 'laptops': 85, 'cell': 87, 'phones': 88, 'think': 91, 'of': 92, 'these': 93, 'as': 95, 'personal': 97, 'assistants': 98, 'who': 99, 'take': 101, 'care': 102, 'things': 105, 'on': 106, 'behalf': 108, 'The': 109, 'hardware': 110, 'current-day': 113, 'essentially': 116, 'built': 117, 'continuously': 119, 'ask': 120, 'us': 121, 'the': 122, 'question': 123, 'What': 124, 'would': 125, 'like': 127, 'me': 128, 'next': 131, 'Our': 132, 'fast': 135, 'have': 137, 'vasts': 138, 'amounts': 139, 'memory': 141, 'could': 143, 'be': 144, 'helpful': 146, 'if': 149, 'we': 150, 'only': 151, 'knew': 152, 'language': 154, 'speak': 156, 'explain': 158, 'computer': 161, 'it': 166, 'If': 170, 'this': 173, 'tell': 177, 'tasks': 182, 'were': 187, 'reptitive': 188, 'Interestingly,': 189, 'kinds': 191, 'best': 197, 'often': 199, 'humans': 206, 'find': 207, 'boring': 208, 'mind-numbing': 210}\n",
      "True\n"
     ]
    }
   ],
   "source": [
    "def ex_09_01():\n",
    "    count = 0 \n",
    "    word_dict = {}\n",
    "    fhand = open(\"words.txt\")\n",
    "    for line in fhand:\n",
    "            words = line.split()\n",
    "            for word in words:\n",
    "                  count += 1 \n",
    "                  if word in word_dict: continue\n",
    "                  word_dict[word] = count\n",
    "    print(word_dict)\n",
    "\n",
    "    if \"Writing\" in word_dict:\n",
    "          print(\"True\")\n",
    "    else: \n",
    "          print(\"False\")\n",
    "        \n",
    "ex_09_01()"
   ]
  },
  {
   "cell_type": "code",
   "execution_count": 5,
   "metadata": {},
   "outputs": [
    {
     "name": "stdout",
     "output_type": "stream",
     "text": [
      "{'Writing': 1, 'programs': 2, 'or': 1, 'programming': 1, 'is': 2, 'a': 3, 'very': 2, 'creative': 1, 'and': 5, 'rewarding': 1, 'activity': 1, 'You': 1, 'can': 4, 'write': 1, 'for': 1, 'many': 2, 'reasons': 1, 'ranging': 2, 'from': 2, 'making': 1, 'your': 2, 'living': 1, 'to': 16, 'solving': 1, 'difficult': 1, 'data': 1, 'analysis': 1, 'problem': 2, 'having': 1, 'fun': 1, 'helping': 1, 'someone': 1, 'else': 1, 'solve': 1, 'This': 1, 'book': 1, 'assumes': 1, 'that': 4, '{\\\\em': 1, 'everyone}': 1, 'needs': 1, 'know': 2, 'how': 2, 'program': 1, 'once': 1, 'you': 4, 'program,': 1, 'will': 1, 'figure': 1, 'out': 1, 'what': 2, 'want': 1, 'do': 5, 'with': 2, 'newfound': 1, 'skills': 1, 'We': 2, 'are': 3, 'surrounded': 1, 'in': 2, 'our': 5, 'daily': 1, 'lives': 1, 'computers': 5, 'laptops': 1, 'cell': 1, 'phones': 1, 'think': 1, 'of': 5, 'these': 1, 'as': 1, 'personal': 1, 'assistants': 1, 'who': 1, 'take': 1, 'care': 1, 'things': 3, 'on': 2, 'behalf': 2, 'The': 1, 'hardware': 1, 'current-day': 1, 'essentially': 1, 'built': 1, 'continuously': 1, 'ask': 1, 'us': 2, 'the': 6, 'question': 1, 'What': 1, 'would': 2, 'like': 2, 'me': 1, 'next': 2, 'Our': 1, 'fast': 1, 'have': 1, 'vasts': 1, 'amounts': 1, 'memory': 1, 'could': 2, 'be': 1, 'helpful': 1, 'if': 1, 'we': 5, 'only': 1, 'knew': 2, 'language': 2, 'speak': 1, 'explain': 1, 'computer': 2, 'it': 1, 'If': 1, 'this': 1, 'tell': 1, 'tasks': 1, 'were': 1, 'reptitive': 1, 'Interestingly,': 1, 'kinds': 2, 'best': 1, 'often': 1, 'humans': 1, 'find': 1, 'boring': 1, 'mind-numbing': 1}\n",
      "True\n"
     ]
    }
   ],
   "source": [
    "# Counting words using idiom \n",
    "def ex_09_01(): \n",
    "    word_dict = {}\n",
    "    fhand = open(\"words.txt\")\n",
    "    for line in fhand:\n",
    "            words = line.split()\n",
    "            for word in words:\n",
    "                  word_dict[word] = word_dict.get(word, 0) + 1 \n",
    "    print(word_dict)\n",
    "\n",
    "    if \"Writing\" in word_dict:\n",
    "          print(\"True\")\n",
    "    else: \n",
    "          print(\"False\")\n",
    "        \n",
    "ex_09_01()"
   ]
  },
  {
   "cell_type": "markdown",
   "metadata": {},
   "source": [
    "## Dictionary as a set of counters "
   ]
  },
  {
   "cell_type": "markdown",
   "metadata": {},
   "source": [
    "Video: Dictionaries Part 2 \n",
    "### <https://youtu.be/LRSIuH94XM4>"
   ]
  },
  {
   "cell_type": "markdown",
   "metadata": {},
   "source": [
    "Suppose you are given a string and you want to count how many times each letter appears. There are several ways you could do it:\n",
    "\n",
    "1. You could create 26 variables, one for each letter of the alphabet. Then you could traverse the string and, for each character, increment the corresponding counter, probably using a chained conditional.\n",
    "\n",
    "2. You could create a list with 26 elements. Then you could convert each character to a number (using the built-in function `ord`), use the number as an index into the list, and increment the appropriate counter.\n",
    "\n",
    "3. You could create a dictionary with characters as keys and counters as the corresponding values. The first time you see a character, you would add an item to the dictionary. After that you would increment the value of an existing item.\n",
    "\n",
    "Each of these options performs the same computation, but each of them implements that computation in a different way.\n",
    "\n",
    "An *implementation* is a way of performing a computation; some implementations are better than others. For example, an advantage of the dictionary implementation is that we don’t have to know ahead of time which letters appear in the string and we only have to make room for the letters that do appear.\n",
    "\n",
    "Here is what the code might look like:"
   ]
  },
  {
   "cell_type": "code",
   "execution_count": 20,
   "metadata": {},
   "outputs": [
    {
     "name": "stdout",
     "output_type": "stream",
     "text": [
      "{'b': 1, 'r': 2, 'o': 2, 'n': 1, 't': 1, 's': 2, 'a': 1, 'u': 2}\n"
     ]
    }
   ],
   "source": [
    "word = 'brontosaurus'\n",
    "d = dict()\n",
    "for c in word:\n",
    "    if c not in d:\n",
    "        d[c] = 1\n",
    "    else:\n",
    "        d[c] = d[c] + 1\n",
    "print(d)"
   ]
  },
  {
   "cell_type": "markdown",
   "metadata": {},
   "source": [
    "We are effectively computing a *histogram*, which is a statistical term for a set of counters (or frequencies).\n",
    "\n",
    "The `for` loop traverses the string. Each time through the loop, if the character `c` is not in the dictionary, we create a new item with key `c` and the initial value 1 (since we have seen this letter once). If `c` is already in the dictionary we increment `d[c]`.\n",
    "\n",
    "Here’s the output of the program:\n",
    "\n",
    "The histogram indicates that the letters “a” and “b” appear once; “o” appears twice, and so on.\n",
    "\n",
    "Dictionaries have a method called `get` that takes a key and a default value. If the key appears in the dictionary, `get` returns the corresponding value; otherwise it returns the default value. For example:"
   ]
  },
  {
   "cell_type": "code",
   "execution_count": 24,
   "metadata": {},
   "outputs": [
    {
     "name": "stdout",
     "output_type": "stream",
     "text": [
      "100\n",
      "0\n"
     ]
    }
   ],
   "source": [
    "counts = {'chuck': 1, 'annie': 42, 'jan': 100}\n",
    "print(counts.get('jan', 0))\n",
    "print(counts.get('tim', 0))"
   ]
  },
  {
   "cell_type": "markdown",
   "metadata": {},
   "source": [
    "We can use `get` to write our histogram loop more concisely. Because the `get` method automatically handles the case where a key is not in a dictionary, we can reduce four lines down to one and eliminate the `if` statement."
   ]
  },
  {
   "cell_type": "code",
   "execution_count": 26,
   "metadata": {},
   "outputs": [
    {
     "name": "stdout",
     "output_type": "stream",
     "text": [
      "{'b': 1, 'r': 2, 'o': 2, 'n': 1, 't': 1, 's': 2, 'a': 1, 'u': 2}\n"
     ]
    }
   ],
   "source": [
    "word = 'brontosaurus'\n",
    "d = dict()\n",
    "for c in word:\n",
    "    d[c] = d.get(c,0) + 1 \n",
    "print(d)"
   ]
  },
  {
   "cell_type": "markdown",
   "metadata": {},
   "source": [
    "The use of the `get` method to simplify this counting loop ends up being a very commonly used “idiom” in Python and we will use it many times in the rest of the book. So you should take a moment and compare the loop using the `if` statement and `in` operator with the loop using the `get` method. They do exactly the same thing, but one is more succinct."
   ]
  },
  {
   "cell_type": "markdown",
   "metadata": {},
   "source": [
    "## Dictionaries in files "
   ]
  },
  {
   "cell_type": "markdown",
   "metadata": {},
   "source": [
    "One of the common uses of a dictionary is to count the occurrence of words in a file with some written text. Let's start with a very simple file of words taken from the text of *Romeo and Juliet*. \n",
    "\n",
    "For the first set of examples, we will use a shortened and simplified version of the text with no punctuation. Later we will work with the text of the scene with punctuation included. "
   ]
  },
  {
   "cell_type": "markdown",
   "metadata": {},
   "source": [
    "```\n",
    "But soft what light through yonder window breaks\n",
    "It is the east and Juliet is the sun\n",
    "Arise fair sun and kill the envious moon\n",
    "Who is already sick and pale with grief\n",
    "```"
   ]
  },
  {
   "cell_type": "markdown",
   "metadata": {},
   "source": [
    "We will write a Python program to read through the lines of the file, break each line into a list of words, and then loop through each of the words in the line and count each word using a dictionary.\n",
    "\n",
    "You will see that we have two `for` loops. The outer loop is reading the lines of the file and the inner loop is iterating through each of the words on that particular line. This is an example of a pattern called *nested loops* because one of the loops is the outer loop and the other loop is the inner loop.\n",
    "\n",
    "Because the inner loop executes all of its iterations each time the outer loop makes a single iteration, we think of the inner loop as iterating “more quickly” and the outer loop as iterating more slowly.\n",
    "\n",
    "The combination of the two nested loops ensures that we will count every word on every line of the input file."
   ]
  },
  {
   "cell_type": "code",
   "execution_count": 1,
   "metadata": {},
   "outputs": [
    {
     "name": "stdout",
     "output_type": "stream",
     "text": [
      "Enter the file name: words.txt\n",
      "{'Writing': 1, 'programs': 2, 'or': 1, 'programming': 1, 'is': 2, 'a': 3, 'very': 2, 'creative': 1, 'and': 5, 'rewarding': 1, 'activity': 1, 'You': 1, 'can': 4, 'write': 1, 'for': 1, 'many': 2, 'reasons': 1, 'ranging': 2, 'from': 2, 'making': 1, 'your': 2, 'living': 1, 'to': 16, 'solving': 1, 'difficult': 1, 'data': 1, 'analysis': 1, 'problem': 2, 'having': 1, 'fun': 1, 'helping': 1, 'someone': 1, 'else': 1, 'solve': 1, 'This': 1, 'book': 1, 'assumes': 1, 'that': 4, '{\\\\em': 1, 'everyone}': 1, 'needs': 1, 'know': 2, 'how': 2, 'program': 1, 'once': 1, 'you': 4, 'program,': 1, 'will': 1, 'figure': 1, 'out': 1, 'what': 2, 'want': 1, 'do': 5, 'with': 2, 'newfound': 1, 'skills': 1, 'We': 2, 'are': 3, 'surrounded': 1, 'in': 2, 'our': 5, 'daily': 1, 'lives': 1, 'computers': 5, 'laptops': 1, 'cell': 1, 'phones': 1, 'think': 1, 'of': 5, 'these': 1, 'as': 1, 'personal': 1, 'assistants': 1, 'who': 1, 'take': 1, 'care': 1, 'things': 3, 'on': 2, 'behalf': 2, 'The': 1, 'hardware': 1, 'current-day': 1, 'essentially': 1, 'built': 1, 'continuously': 1, 'ask': 1, 'us': 2, 'the': 6, 'question': 1, 'What': 1, 'would': 2, 'like': 2, 'me': 1, 'next': 2, 'Our': 1, 'fast': 1, 'have': 1, 'vasts': 1, 'amounts': 1, 'memory': 1, 'could': 2, 'be': 1, 'helpful': 1, 'if': 1, 'we': 5, 'only': 1, 'knew': 2, 'language': 2, 'speak': 1, 'explain': 1, 'computer': 2, 'it': 1, 'If': 1, 'this': 1, 'tell': 1, 'tasks': 1, 'were': 1, 'reptitive': 1, 'Interestingly,': 1, 'kinds': 2, 'best': 1, 'often': 1, 'humans': 1, 'find': 1, 'boring': 1, 'mind-numbing': 1}\n"
     ]
    }
   ],
   "source": [
    "fname = str(input('Enter the file name: '))\n",
    "try: \n",
    "    fhand = open(fname) \n",
    "except:\n",
    "    print('File cannot be opened:', fname)\n",
    "    exit()\n",
    "\n",
    "counts = dict()\n",
    "for line in fhand:\n",
    "    words = line.split()\n",
    "    for word in words:\n",
    "        if word not in counts:\n",
    "            counts[word] = 1 \n",
    "        else:\n",
    "            counts[word] +=1 \n",
    "print(counts)"
   ]
  },
  {
   "cell_type": "markdown",
   "metadata": {},
   "source": [
    "In our `else` statement, we use the more compact alternative for incrementing a variable. `counts[word] += 1` is equivalent to `counts[word] = counts[word] + 1`. Either method can be used to change the value of a variable by any desired amount. Similar alternatives exist for `-=`, `*=`, and `/=`.\n",
    "\n",
    "When we run the program, we see a raw dump of all of the counts in unsorted hash order. (the romeo.txt file is available at <http://www.py4e.com/code3/romeo.txt>"
   ]
  },
  {
   "cell_type": "code",
   "execution_count": 1,
   "metadata": {},
   "outputs": [
    {
     "name": "stdout",
     "output_type": "stream",
     "text": [
      "Enter the file name: romeo.txt\n",
      "{'But': 1, 'soft': 1, 'what': 1, 'light': 1, 'through': 1, 'yonder': 1, 'window': 1, 'breaks': 1, 'It': 1, 'is': 3, 'the': 3, 'east': 1, 'and': 3, 'Juliet': 1, 'sun': 2, 'Arise': 1, 'fair': 1, 'kill': 1, 'envious': 1, 'moon': 1, 'Who': 1, 'already': 1, 'sick': 1, 'pale': 1, 'with': 1, 'grief': 1}\n"
     ]
    }
   ],
   "source": [
    "fname = str(input('Enter the file name: '))\n",
    "try: \n",
    "    fhand = open(fname) \n",
    "except:\n",
    "    print('File cannot be opened:', fname)\n",
    "    exit()\n",
    "\n",
    "counts = dict()\n",
    "for line in fhand:\n",
    "    words = line.split()\n",
    "    for word in words:\n",
    "        if word not in counts:\n",
    "            counts[word] = 1 \n",
    "        else:\n",
    "            counts[word] +=1 \n",
    "print(counts)"
   ]
  },
  {
   "cell_type": "markdown",
   "metadata": {},
   "source": [
    "It is a bit inconvenient to look through the dictionary to find the most common words and their counts, so we need to add some more Python code to get us the output that will be more helpful."
   ]
  },
  {
   "cell_type": "markdown",
   "metadata": {},
   "source": [
    "## Looping and Dictionaries"
   ]
  },
  {
   "cell_type": "markdown",
   "metadata": {},
   "source": [
    "If you use a dictionary as the sequence in a `for` statement, it traverses the keys of the dictionary. This loop prints each key and the corresponding value:"
   ]
  },
  {
   "cell_type": "code",
   "execution_count": 3,
   "metadata": {},
   "outputs": [
    {
     "name": "stdout",
     "output_type": "stream",
     "text": [
      "chuck 1\n",
      "annie 42\n",
      "jan 100\n"
     ]
    }
   ],
   "source": [
    "counts = {'chuck':1, 'annie':42, 'jan':100}\n",
    "for key in counts:\n",
    "    print(key,counts[key])"
   ]
  },
  {
   "cell_type": "markdown",
   "metadata": {},
   "source": [
    "Again, the keys are ordered.\n",
    "\n",
    "We can use this pattern to implement the various loop idioms that we have described earlier. For example if we wanted to find all the entries in a dictionary with a value above ten, we could write the following code:"
   ]
  },
  {
   "cell_type": "code",
   "execution_count": 4,
   "metadata": {},
   "outputs": [
    {
     "name": "stdout",
     "output_type": "stream",
     "text": [
      "annie 42\n",
      "jan 100\n"
     ]
    }
   ],
   "source": [
    "counts = {'chuck':1, 'annie':42, 'jan':100}\n",
    "for key in counts: \n",
    "    if counts[key] > 10:\n",
    "        print(key,counts[key])"
   ]
  },
  {
   "cell_type": "markdown",
   "metadata": {},
   "source": [
    "The `for` loop iterates through the keys of the dictionary, so we must use the index operator to retrieve the corresponding *value* for each key."
   ]
  },
  {
   "cell_type": "markdown",
   "metadata": {},
   "source": [
    "We see only the entries with a value above 10.\n",
    "\n",
    "If you want to print the keys in alphabetical order, you first make a list of the keys in the dictionary using the `keys` method available in dictionary objects, and then sort that list and loop through the sorted list, looking up each key and printing out key-value pairs in sorted order as follows:"
   ]
  },
  {
   "cell_type": "code",
   "execution_count": 9,
   "metadata": {},
   "outputs": [
    {
     "name": "stdout",
     "output_type": "stream",
     "text": [
      "['chuck', 'annie', 'jan'] [1, 42, 100]\n",
      "['annie', 'chuck', 'jan']\n",
      "annie 42\n",
      "chuck 1\n",
      "jan 100\n"
     ]
    }
   ],
   "source": [
    "counts = {'chuck':1, 'annie':42, 'jan':100}\n",
    "lst = list(counts.keys())\n",
    "lstv = list(counts.values())\n",
    "print(lst, lstv)\n",
    "lst.sort()\n",
    "print(lst)\n",
    "for key in lst:\n",
    "    print(key, counts[key])"
   ]
  },
  {
   "cell_type": "markdown",
   "metadata": {},
   "source": [
    "First you see the list of keys in non-alphabetical order that we get from the `keys` method. Then we see the key-value pairs in alphabetical order from the `for` loop."
   ]
  },
  {
   "cell_type": "markdown",
   "metadata": {},
   "source": [
    "## Advanced Text Parsing"
   ]
  },
  {
   "cell_type": "markdown",
   "metadata": {},
   "source": [
    "In the above example using the file romeo.txt, we made the file as simple as possible by removing all punctuation by hand. The actual text has lots of punctuation, as shown below.\n",
    "\n",
    "```\n",
    "But, soft! what light through yonder window breaks?\n",
    "It is the east, and Juliet is the sun.\n",
    "Arise, fair sun, and kill the envious moon,\n",
    "Who is already sick and pale with grief,\n",
    "```"
   ]
  },
  {
   "cell_type": "markdown",
   "metadata": {},
   "source": [
    "Since the Python `split` function looks for spaces and treats words as tokens separated by spaces, we would treat the words \"soft!\" and \"soft\" as *different* words and create a separate dictionary entry for each word.\n",
    "\n",
    "Also since the file has capitalization, we would treat \"who\" and \"Who\" as different words with different counts.\n",
    "\n",
    "We can solve both these problems by using the string methods `lower`, `punctuation`, and `translate`. The `translate` is the most subtle of the methods. Here is the documentation for `translate`:\n",
    "\n",
    "`line.translate(str.maketrans(fromstr, tostr, deletestr))`\n",
    "\n",
    "Replace the characters in `fromstr` with the character in the same position in `tostr` and delete all characters that are in `deletestr`. The `fromstr` and `tostr` can be empty strings and the `eletestr` parameter can be omitted.\n",
    "\n",
    "We will not specify the `tostr` but we will use the `deletestr` parameter to delete all of the punctuation. We will even let Python tell us the list of characters that it considers \"punctuation\":"
   ]
  },
  {
   "cell_type": "code",
   "execution_count": 55,
   "metadata": {},
   "outputs": [
    {
     "name": "stdout",
     "output_type": "stream",
     "text": [
      "Enter the file name: clown.txt\n",
      "{'the': 7, 'clown': 2, 'ran': 2, 'after': 1, 'car': 3, 'and': 3, 'into': 1, 'tent': 2, 'fell': 1, 'down': 1, 'on': 1}\n"
     ]
    }
   ],
   "source": [
    "import string\n",
    "\n",
    "fname = input(\"Enter the file name: \")\n",
    "try: \n",
    "    fhand = open(fname)\n",
    "except:\n",
    "    print('File cannot be opened:', fname)\n",
    "    exit()\n",
    "\n",
    "counts = dict()\n",
    "for line in fhand:\n",
    "    line = line.rstrip()\n",
    "    line = line.translate(line.maketrans('', '', string.punctuation))\n",
    "    line = line.lower()\n",
    "    words = line.split()\n",
    "    for word in words:\n",
    "        if word not in counts:\n",
    "            counts[word] = 1 \n",
    "        else:\n",
    "            counts[word] += 1 \n",
    "print(counts)"
   ]
  },
  {
   "cell_type": "markdown",
   "metadata": {},
   "source": [
    "Part of learning the \"Art of Python\" or \"Thinking Pythonically\" is realizing that Python often has built-in capabilities for many common data analysis problems. Over time, you will see enough example code and read enough of the documentation to know where to look to see if someone has already written something that makes your job much easier.\n",
    "\n",
    "Looking through this output is still unwieldy and we can use Python to give us exactly what we are looking for, but to do so, we need to learn about Python tuples. We will pick up this example once we learn about `tuples`."
   ]
  },
  {
   "cell_type": "markdown",
   "metadata": {},
   "source": [
    "## Debugging"
   ]
  },
  {
   "cell_type": "markdown",
   "metadata": {},
   "source": [
    "As you work with bigger datasets it can become unwieldy to debug by printing and checking data by hand. Here are some suggestions for debugging large datasets:\n",
    "\n",
    "**Scale down the input**: If possible, reduce the size of the dataset. For example if the program reads a text file, start with just the first 10 lines, or with the smallest example you can find. You can either edit the files themselves, or (better) modify the program so it reads only the first n lines.\n",
    "\n",
    "If there is an error, you can reduce n to the smallest value that manifests the error, and then increase it gradually as you find and correct errors.\n",
    "\n",
    "**Check summaries and types**: Instead of printing and checking the entire dataset, consider printing summaries of the data: for example, the number of items in a dictionary or the total of a list of numbers.\n",
    "\n",
    "A common cause of runtime errors is a value that is not the right type. For debugging this kind of error, it is often enough to print the type of a value.\n",
    "\n",
    "**Write self-checks**: Sometimes you can write code to check for errors automatically. For example, if you are computing the average of a list of numbers, you could check that the result is not greater than the largest element in the list or less than the smallest. This is called a \"sanity check\" because it detects results that are \"completely illogical\".\n",
    "\n",
    "Another kind of check compares the results of two different computations to see if they are consistent. This is called a \"consistency check\".\n",
    "\n",
    "**Pretty print the output**: Formatting debugging output can make it easier to spot an error.\n",
    "\n",
    "Again, time you spend building scaffolding can reduce the time you spend debugging."
   ]
  },
  {
   "cell_type": "markdown",
   "metadata": {},
   "source": [
    "## Glossary"
   ]
  },
  {
   "cell_type": "markdown",
   "metadata": {},
   "source": [
    "**dictionary**: A mapping from a set of keys to their corresponding values.\n",
    "\n",
    "**hashtable**: The algorithm used to implement Python dictionaries.\n",
    "\n",
    "**hash function**: A function used by a hashtable to compute the location for a key.\n",
    "\n",
    "**histogram**: A set of counters.\n",
    "\n",
    "**implementation**: A way of performing a computation.\n",
    "\n",
    "**item**: Another name for a key-value pair.\n",
    "\n",
    "**key**: An object that appears in a dictionary as the first part of a key-value pair.\n",
    "\n",
    "**key-value pair**: The representation of the mapping from a key to a value.\n",
    "\n",
    "**lookup**: A dictionary operation that takes a key and finds the corresponding value.\n",
    "\n",
    "**nested loops**: When there are one or more loops \"inside\" of another loop. The inner loop runs to completion each time the outer loop runs once.\n",
    "\n",
    "**value**: An object that appears in a dictionary as the second part of a key-value pair. This is more specific than our previous use of the word \"value\"."
   ]
  },
  {
   "cell_type": "markdown",
   "metadata": {},
   "source": [
    "Video: Counting Word Frequency using a Dictionary\n",
    "\n",
    "### <https://www.youtube.com/watch?v=lLbyEYjU55A>"
   ]
  },
  {
   "cell_type": "code",
   "execution_count": 44,
   "metadata": {},
   "outputs": [
    {
     "name": "stdout",
     "output_type": "stream",
     "text": [
      "Enter file: \n",
      "{'the': 14, 'clown': 4, 'ran': 4, 'after': 2, 'car': 6, 'and': 6, 'into': 2, 'tent': 4, 'fell': 2, 'down': 2, 'on': 2}\n"
     ]
    }
   ],
   "source": [
    "# first method from video \n",
    "fname = input('Enter file: ')\n",
    "if len(fname) < 1: fname = 'clown.txt'\n",
    "hand = open(fname)\n",
    "\n",
    "di = dict()\n",
    "for lin in hand:\n",
    "    lin = lin.rstrip()\n",
    "    #print(lin)\n",
    "    wds = lin.split()\n",
    "    #print(wds)\n",
    "    for w in wds:\n",
    "        #print(w)\n",
    "        #print('**', w, di.get(w,-99))\n",
    "        \n",
    "        if w in di:\n",
    "            di[w] += 1\n",
    "            #print('**EXISTING**')\n",
    "        else:\n",
    "            di[w] = 1\n",
    "            #print('***NEW***')\n",
    "            \n",
    "                    \n",
    "        # if the key is not there, the count is zero\n",
    "        oldcount = di.get(w,0)\n",
    "        #print(w,'old',oldcount)\n",
    "        newcount = oldcount + 1 \n",
    "        di[w] = newcount\n",
    "        #print(w,'new',newcount)\n",
    "    #print(w, di[w])\n",
    "print(di)\n"
   ]
  },
  {
   "cell_type": "code",
   "execution_count": 54,
   "metadata": {},
   "outputs": [
    {
     "name": "stdout",
     "output_type": "stream",
     "text": [
      "Enter file: \n",
      "the 7\n"
     ]
    }
   ],
   "source": [
    "# final method from video - using the idiom \n",
    "fname = input('Enter file: ')\n",
    "if len(fname) < 1: fname = 'clown.txt'\n",
    "hand = open(fname)\n",
    "\n",
    "di = dict()\n",
    "for lin in hand:\n",
    "    lin = lin.rstrip()\n",
    "    wds = lin.split()\n",
    "    for w in wds:\n",
    "        # idiom - retrieve/create/update/counter all in one line\n",
    "        di[w] = di.get(w,0) + 1\n",
    "\n",
    "# now we want to find the most common word\n",
    "largest = -1\n",
    "theWord = None\n",
    "for k,v in di.items() : \n",
    "    if v > largest : \n",
    "        largest = v\n",
    "        theWord = k # capture/remember the word that was largest\n",
    "print(theWord, largest)\n"
   ]
  },
  {
   "cell_type": "markdown",
   "metadata": {},
   "source": [
    "## Exercise 2\n",
    "\n",
    "Write a program that categorizes each mail message by which day of the week the commit was done. To do this look for lines that start with \"From\", then look for the third word and keep a running count of each of the days of the week. At the end of the program print out the contents of your dictionary (order does not matter).\n",
    "\n",
    "Sample Line:\n",
    "\n",
    "    From stephen.marquard@uct.ac.za Sat Jan  5 09:14:16 2008\n",
    "    \n",
    "Sample Execution:\n",
    "\n",
    "    python dow.py\n",
    "    Enter a file name: mbox-short.txt\n",
    "    {'Fri': 20, 'Thu': 6, 'Sat': 1}"
   ]
  },
  {
   "cell_type": "code",
   "execution_count": 74,
   "metadata": {},
   "outputs": [
    {
     "name": "stdout",
     "output_type": "stream",
     "text": [
      "Enter file name: \n",
      "{'Sat': 1, 'Fri': 20, 'Thu': 6}\n"
     ]
    }
   ],
   "source": [
    "fname = input('Enter file name: ')\n",
    "if len(fname) < 1: fname = 'mbox-short.txt'\n",
    "hand = open(fname)\n",
    "\n",
    "try:\n",
    "    hand = open(fname)\n",
    "except:\n",
    "    print('Wrong file name: ', fname)\n",
    "    quit()\n",
    "\n",
    "di = {}\n",
    "for line in hand:\n",
    "    words = line.split()\n",
    "    if len(words) == 0 or words[0] != 'From': continue\n",
    "    days = words[2]\n",
    "    di[days] = di.get(days,0) + 1 \n",
    "print(di)\n",
    "\n",
    "### SAME RESULT FROM CLASS EXAMPLE BELOW"
   ]
  },
  {
   "cell_type": "code",
   "execution_count": 76,
   "metadata": {},
   "outputs": [
    {
     "name": "stdout",
     "output_type": "stream",
     "text": [
      "{'Sat': 1, 'Fri': 20, 'Thu': 6}\n"
     ]
    }
   ],
   "source": [
    "# from class on Saturday 19AUG23 example\n",
    "file = open(\"mbox-short.txt\")\n",
    "days = {}\n",
    "for line in file:\n",
    "    line_split = line.split()\n",
    "    if len(line_split) == 0 or line_split[0] != \"From\": continue\n",
    "    #print(line_split)\n",
    "    day = line_split[2]\n",
    "    days[day] = days.get(day, 0) + 1\n",
    "print(days)"
   ]
  },
  {
   "cell_type": "markdown",
   "metadata": {},
   "source": [
    "## Exercise 3"
   ]
  },
  {
   "cell_type": "markdown",
   "metadata": {},
   "source": [
    "    Write a program to read through a mail log, build a histogram using a dictionary to count how many messages have come from each email address, and print the dictionary."
   ]
  },
  {
   "cell_type": "markdown",
   "metadata": {},
   "source": [
    "```\n",
    "Enter file name: mbox-short.txt\n",
    "{'gopal.ramasammycook@gmail.com': 1, 'louis@media.berkeley.edu': 3,\n",
    "'cwen@iupui.edu': 5, 'antranig@caret.cam.ac.uk': 1,\n",
    "'rjlowe@iupui.edu': 2, 'gsilver@umich.edu': 3,\n",
    "'david.horwitz@uct.ac.za': 4, 'wagnermr@iupui.edu': 1,\n",
    "'zqian@umich.edu': 4, 'stephen.marquard@uct.ac.za': 2,\n",
    "'ray@media.berkeley.edu': 1}\n",
    "```"
   ]
  },
  {
   "cell_type": "code",
   "execution_count": 96,
   "metadata": {},
   "outputs": [
    {
     "name": "stdout",
     "output_type": "stream",
     "text": [
      "{'stephen.marquard@uct.ac.za': 2, 'louis@media.berkeley.edu': 3, 'zqian@umich.edu': 4, 'rjlowe@iupui.edu': 2, 'cwen@iupui.edu': 5, 'gsilver@umich.edu': 3, 'wagnermr@iupui.edu': 1, 'antranig@caret.cam.ac.uk': 1, 'gopal.ramasammycook@gmail.com': 1, 'david.horwitz@uct.ac.za': 4, 'ray@media.berkeley.edu': 1}\n"
     ]
    }
   ],
   "source": [
    "mbox_short = open('mbox-short.txt')\n",
    "emails = {}\n",
    "for e in mbox_short:\n",
    "    e = e.split()\n",
    "    if len(e) == 0 or e[0] != \"From\":\n",
    "        continue\n",
    "    indEmails = e[1]\n",
    "    emails[indEmails] = emails.get(indEmails,0) + 1 \n",
    "print(emails)"
   ]
  },
  {
   "cell_type": "markdown",
   "metadata": {},
   "source": [
    "## Exercise 4"
   ]
  },
  {
   "cell_type": "markdown",
   "metadata": {},
   "source": [
    "Accept and complete the assignment in the Github Classroom. Add code to the above program to figure out who has the most messages in the file. After all the data has been read and the dictionary has been created, look through the dictionary using a maximum loop (see Chapter 5: Maximum and minimum loops) to find who has the most messages and print how many messages the person has.\n",
    "\n",
    "    Enter a file name: mbox-short.txt\n",
    "    cwen@iupui.edu 5\n",
    "\n",
    "    Enter a file name: mbox.txt\n",
    "    zqian@umich.edu 195"
   ]
  },
  {
   "cell_type": "code",
   "execution_count": 101,
   "metadata": {},
   "outputs": [
    {
     "name": "stdout",
     "output_type": "stream",
     "text": [
      "cwen@iupui.edu 5\n"
     ]
    }
   ],
   "source": [
    "def ex_09_04():\n",
    "    file = open('mbox-short.txt')\n",
    "    histogram = {}\n",
    "    for line in file:\n",
    "        lineSp = line.split()\n",
    "        if len(lineSp) > 0 and lineSp[0] == \"From\":\n",
    "            email = lineSp[1]\n",
    "            histogram[email] = histogram.get(email,0) + 1 \n",
    "            \n",
    "    maxCount = max(histogram.values())\n",
    "    for email in histogram:\n",
    "        if histogram[email] == maxCount:\n",
    "            print(email, maxCount)\n",
    "            return\n",
    "            \n",
    "ex_09_04()            "
   ]
  },
  {
   "cell_type": "markdown",
   "metadata": {},
   "source": [
    "## Exercise 5"
   ]
  },
  {
   "cell_type": "markdown",
   "metadata": {},
   "source": [
    "This program records the domain name (instead of the address) where the message was sent from instead of who the mail came from (i.e., the whole email address). At the end of the program, print out the contents of your dictionary.\n",
    "\n",
    "```\n",
    "python schoolcount.py\n",
    "Enter a file name: mbox-short.txt\n",
    "{'media.berkeley.edu': 4, 'uct.ac.za': 6, 'umich.edu': 7,\n",
    "'gmail.com': 1, 'caret.cam.ac.uk': 1, 'iupui.edu': 8}\n",
    "```"
   ]
  },
  {
   "cell_type": "code",
   "execution_count": 114,
   "metadata": {},
   "outputs": [
    {
     "name": "stdout",
     "output_type": "stream",
     "text": [
      "{'@uct.ac.za': 12, '@media.berkeley.edu': 8, '@umich.edu': 14, '@iupui.edu': 16, '@caret.cam.ac.uk': 2, '@gmail.com': 2}\n"
     ]
    }
   ],
   "source": [
    "def ex_09_05():\n",
    "    file = open('mbox-short.txt')\n",
    "    histogram = {}\n",
    "    for line in file:\n",
    "        lineSp = line.split()\n",
    "        if line.startswith(\"From\"):\n",
    "            mail = lineSp[1]\n",
    "            ncount = mail.find(\"@\")\n",
    "            email = mail[ncount:]\n",
    "            histogram[email] = histogram.get(email, 0) + 1 \n",
    "    print(histogram)\n",
    "ex_09_05()"
   ]
  },
  {
   "cell_type": "code",
   "execution_count": 1,
   "metadata": {},
   "outputs": [
    {
     "name": "stdout",
     "output_type": "stream",
     "text": [
      "Enter a file name: mbox-short.txt\n",
      "{'uct.ac.za': 6, 'media.berkeley.edu': 4, 'umich.edu': 7, 'iupui.edu': 8, 'caret.cam.ac.uk': 1, 'gmail.com': 1}\n"
     ]
    }
   ],
   "source": [
    "def ex_09_05():\n",
    "    filename = input(\"Enter a file name: \")\n",
    "    fhand = open(filename, 'r')\n",
    "    \n",
    "    domains = {}\n",
    "    for line in fhand:\n",
    "        if line.startswith(\"From \"):\n",
    "            email = line.split()[1]\n",
    "            domain = email.split('@')[1]\n",
    "            domains[domain] = domains.get(domain, 0) + 1 \n",
    "    print(domains)\n",
    "ex_09_05()"
   ]
  },
  {
   "cell_type": "code",
   "execution_count": null,
   "metadata": {},
   "outputs": [],
   "source": []
  }
 ],
 "metadata": {
  "kernelspec": {
   "display_name": "Python 3 (ipykernel)",
   "language": "python",
   "name": "python3"
  },
  "language_info": {
   "codemirror_mode": {
    "name": "ipython",
    "version": 3
   },
   "file_extension": ".py",
   "mimetype": "text/x-python",
   "name": "python",
   "nbconvert_exporter": "python",
   "pygments_lexer": "ipython3",
   "version": "3.9.17"
  }
 },
 "nbformat": 4,
 "nbformat_minor": 2
}
