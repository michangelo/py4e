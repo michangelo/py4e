{
 "cells": [
  {
   "cell_type": "markdown",
   "id": "1e448238",
   "metadata": {},
   "source": [
    "# Lesson 2: Variables, Expressions, and Statements"
   ]
  },
  {
   "cell_type": "markdown",
   "id": "1a0bf606",
   "metadata": {},
   "source": [
    "## Values and Types\n",
    "\n",
    "### [Video - Values and Types Part 1](<https://www.youtube.com/watch?v=7KHdV6FSpo8>)\n",
    "\n",
    "The `print` statement also works for integers. We use the `python` command to start the interpreter.\n",
    "\n",
    "``` py\n",
    ">>> python\n",
    ">>> print(4)\n",
    "4\n",
    "```"
   ]
  },
  {
   "cell_type": "code",
   "execution_count": 4,
   "id": "eeb70e8e",
   "metadata": {},
   "outputs": [
    {
     "name": "stdout",
     "output_type": "stream",
     "text": [
      "4\n"
     ]
    }
   ],
   "source": [
    "print(4)"
   ]
  },
  {
   "cell_type": "markdown",
   "id": "f45b591c",
   "metadata": {},
   "source": [
    "If you are not sure what type a value has, the interpreter can tell you."
   ]
  },
  {
   "cell_type": "code",
   "execution_count": 5,
   "id": "fe1fba4b",
   "metadata": {},
   "outputs": [
    {
     "data": {
      "text/plain": [
       "str"
      ]
     },
     "execution_count": 5,
     "metadata": {},
     "output_type": "execute_result"
    }
   ],
   "source": [
    "type(\"Hello, World!\")"
   ]
  },
  {
   "cell_type": "code",
   "execution_count": 6,
   "id": "87c1dab7",
   "metadata": {},
   "outputs": [
    {
     "data": {
      "text/plain": [
       "int"
      ]
     },
     "execution_count": 6,
     "metadata": {},
     "output_type": "execute_result"
    }
   ],
   "source": [
    "type(17)"
   ]
  },
  {
   "cell_type": "markdown",
   "id": "b74a10e2",
   "metadata": {},
   "source": [
    "Not surprisingly, strings belong to the type `str` and integers belong to the type `int`. Less obviously, numbers with a decimal point belong to a type called `float`, because these numbers are represented in a format called *floating* point."
   ]
  },
  {
   "cell_type": "code",
   "execution_count": 7,
   "id": "ea631240",
   "metadata": {},
   "outputs": [
    {
     "data": {
      "text/plain": [
       "float"
      ]
     },
     "execution_count": 7,
     "metadata": {},
     "output_type": "execute_result"
    }
   ],
   "source": [
    "type(3.2)"
   ]
  },
  {
   "cell_type": "markdown",
   "id": "3b09820d",
   "metadata": {},
   "source": [
    "What about values like \"17\" and \"3.2\"? They look like numbers, but they are in quotation marks like strings."
   ]
  },
  {
   "cell_type": "code",
   "execution_count": 8,
   "id": "a8e280a4",
   "metadata": {},
   "outputs": [
    {
     "name": "stdout",
     "output_type": "stream",
     "text": [
      "<class 'str'>\n",
      "<class 'str'>\n"
     ]
    }
   ],
   "source": [
    "print(type('17'))\n",
    "print(type('3.2'))"
   ]
  },
  {
   "cell_type": "markdown",
   "id": "f54f74a2",
   "metadata": {},
   "source": [
    "They're strings.\n",
    "\n",
    "When you type a large integer, you might be tempted to use commas between groups of three digits, as in 1,000,000. This is not a legal integer in Python, but it is legal:"
   ]
  },
  {
   "cell_type": "code",
   "execution_count": 9,
   "id": "e907846b",
   "metadata": {},
   "outputs": [
    {
     "name": "stdout",
     "output_type": "stream",
     "text": [
      "1 0 0\n"
     ]
    }
   ],
   "source": [
    "print(1,000,000)"
   ]
  },
  {
   "cell_type": "markdown",
   "id": "fcb8323c",
   "metadata": {},
   "source": [
    "Well, that's not what we expected at all! Python interprets 1,000,000 as a comma-separated sequence of integers, which it prints with spaces between.\n",
    "\n",
    "This is the first example we have seen of a semantic error: the code runs without producing an error message, but it doesn't do the \"right\" thing."
   ]
  },
  {
   "cell_type": "markdown",
   "id": "51f6b979",
   "metadata": {},
   "source": [
    "## Variables\n",
    "\n",
    "One of the most powerful features of a programming language is the ability to manipulate variables. A variable is a name that refers to a value.\n",
    "\n",
    "An *assignment statement* creates new variables and gives them values:"
   ]
  },
  {
   "cell_type": "code",
   "execution_count": 10,
   "id": "78cb71fc",
   "metadata": {},
   "outputs": [
    {
     "name": "stdout",
     "output_type": "stream",
     "text": [
      "n 17\n",
      "Pi 3.141592653589793\n"
     ]
    }
   ],
   "source": [
    "message = 'And now for something completely different'\n",
    "n = 17\n",
    "pi = 3.1415926535897931\n",
    "print('n',n)\n",
    "print('Pi',pi)"
   ]
  },
  {
   "cell_type": "code",
   "execution_count": 15,
   "id": "4b31306d",
   "metadata": {},
   "outputs": [
    {
     "name": "stdout",
     "output_type": "stream",
     "text": [
      "<class 'str'>\n",
      "<class 'int'>\n"
     ]
    },
    {
     "data": {
      "text/plain": [
       "float"
      ]
     },
     "execution_count": 15,
     "metadata": {},
     "output_type": "execute_result"
    }
   ],
   "source": [
    "print(type(message))\n",
    "print(type(n))\n",
    "type(pi)"
   ]
  },
  {
   "cell_type": "markdown",
   "id": "0eeed8ce",
   "metadata": {},
   "source": [
    "## Variable Names and Keywords\n",
    "\n",
    "Programmers generally choose names for their variables that are meaningful and document what the variable is used for.\n",
    "\n",
    "Variable names can be arbitrarily long. They can contain both letters and numbers, but they cannot start with a number. It is legal to use uppercase letters, but it is a good idea to begin variable names with a lowercase letter (you'll see why later).\n",
    "\n",
    "The underscore character ( _ ) can appear in a name. It is often used in names with multiple words, such as `my_name` or `airspeed_of_unladen_swallow`. Variable names can start with an underscore character, but we generally avoid doing this unless we are writing library code for others to use.\n",
    "\n",
    "If you give a variable an illegal name, you get a syntax error:"
   ]
  },
  {
   "cell_type": "code",
   "execution_count": 16,
   "id": "502748b8",
   "metadata": {},
   "outputs": [
    {
     "ename": "SyntaxError",
     "evalue": "invalid syntax (3381618747.py, line 1)",
     "output_type": "error",
     "traceback": [
      "\u001b[1;36m  Cell \u001b[1;32mIn[16], line 1\u001b[1;36m\u001b[0m\n\u001b[1;33m    76trombones = 'big parade'\u001b[0m\n\u001b[1;37m      ^\u001b[0m\n\u001b[1;31mSyntaxError\u001b[0m\u001b[1;31m:\u001b[0m invalid syntax\n"
     ]
    }
   ],
   "source": [
    "76trombones = 'big parade'"
   ]
  },
  {
   "cell_type": "code",
   "execution_count": 18,
   "id": "c78e4c85",
   "metadata": {},
   "outputs": [
    {
     "ename": "SyntaxError",
     "evalue": "invalid syntax (3803549429.py, line 1)",
     "output_type": "error",
     "traceback": [
      "\u001b[1;36m  Cell \u001b[1;32mIn[18], line 1\u001b[1;36m\u001b[0m\n\u001b[1;33m    class = 'Advanced Theoretical Zymurgy'\u001b[0m\n\u001b[1;37m          ^\u001b[0m\n\u001b[1;31mSyntaxError\u001b[0m\u001b[1;31m:\u001b[0m invalid syntax\n"
     ]
    }
   ],
   "source": [
    "class = 'Advanced Theoretical Zymurgy'"
   ]
  },
  {
   "cell_type": "markdown",
   "id": "dbec3750",
   "metadata": {},
   "source": [
    "`76trombones` is illegal because it begins with a number. `more@` is illegal because it contains an illegal character, @. But what's wrong with `class`?\n",
    "\n",
    "It turns out that `class` is one of Python's *keywords*. The interpreter uses keywords to recognize the structure of the program, and they cannot be used as variable names.\n",
    "\n",
    "Python reserves 35 keywords:\n",
    "\n",
    "``` py\n",
    "and     continue  finally  is        raise\n",
    "as      def       for      lambda    return\n",
    "assert  del       from     None      True\n",
    "async   elif      global   nonlocal  try\n",
    "await   else      if       not       while\n",
    "break   except    import   or        with\n",
    "class   False     in       pass      yield\n",
    "```\n",
    "\n",
    "You might want to keep this list handy. If the interpreter complains about one of your variable names and you don't know why, see if it is on this list."
   ]
  },
  {
   "cell_type": "markdown",
   "id": "b9316863",
   "metadata": {},
   "source": [
    "## Statements\n",
    "\n",
    "A *statement* is a unit of code that the Python interpreter can execute. We have seen two kinds of statements: print being an expression statement and assignment.\n",
    "\n",
    "When you type a statement in interactive mode, the interpreter executes it and displays the result, if there is one.\n",
    "\n",
    "A script usually contains a sequence of statements. If there is more than one statement, the results appear one at a time as the statements execute.\n",
    "\n",
    "For example, the script"
   ]
  },
  {
   "cell_type": "code",
   "execution_count": 19,
   "id": "dbf483b2",
   "metadata": {},
   "outputs": [
    {
     "name": "stdout",
     "output_type": "stream",
     "text": [
      "1\n",
      "2\n"
     ]
    }
   ],
   "source": [
    "print(1)\n",
    "x = 2\n",
    "print(x)"
   ]
  },
  {
   "cell_type": "markdown",
   "id": "33f519e3",
   "metadata": {},
   "source": [
    "The assignment statement produces no output."
   ]
  },
  {
   "cell_type": "markdown",
   "id": "6f882389",
   "metadata": {},
   "source": [
    "## Operators and Operands\n",
    "\n",
    "**Operators** are special symbols that represent computations like addition and multiplication. The values the operator is applied to are called *operands*.\n",
    "\n",
    "The operators `+` `-` `*` `/`, and `**` perform addition, subtraction, multiplication, division, and exponentiation, as in the following examples:\n",
    "\n",
    "``` py\n",
    "20+32\n",
    "hour-1\n",
    "hour*60+minute\n",
    "minute/60\n",
    "5**2\n",
    "(5+9)*(15-7)\n",
    "```"
   ]
  },
  {
   "cell_type": "markdown",
   "id": "1f2542af",
   "metadata": {},
   "source": [
    "There has been a change in the division operator between Python 2.x and Python 3.x. In Python 3.x, the result of this division is a floating point result:\n",
    "\n",
    "``` py\n",
    ">>> minute = 59\n",
    ">>> minute/60\n",
    "0.9833333333333333\n",
    "```\n",
    "\n",
    "The division operator in Python 2.0 would divide two integers and truncate the result to an integer:\n",
    "\n",
    "``` py\n",
    ">>> minute = 59\n",
    ">>> minute/60\n",
    "0\n",
    "```\n",
    "\n",
    "To obtain the same answer in Python 3.0 use floored `//` integer division. \n",
    "\n",
    "``` py\n",
    ">>> minute = 59\n",
    ">>> minute//60\n",
    "0\n",
    "```\n",
    "\n",
    "In Python 3.0 integer division functions much more as you would expect if you entered the expression on a calculator."
   ]
  },
  {
   "cell_type": "markdown",
   "id": "3de7d8ca",
   "metadata": {},
   "source": [
    "## Expressions\n",
    "\n",
    "### [Video: Variables, Expressions and Statements - Part 2](<https://www.youtube.com/watch?v=kefrGMAglGs>)\n",
    "\n",
    "An *expression* is a combination of values, variables, and operators. A value all by itself is considered an expression, and so is a variable, so the following are all legal expressions (assuming that the variable `x` has been assigned a value):"
   ]
  },
  {
   "cell_type": "code",
   "execution_count": 22,
   "id": "1aa82b8d",
   "metadata": {},
   "outputs": [
    {
     "data": {
      "text/plain": [
       "19"
      ]
     },
     "execution_count": 22,
     "metadata": {},
     "output_type": "execute_result"
    }
   ],
   "source": [
    "17\n",
    "x \n",
    "x + 17"
   ]
  },
  {
   "cell_type": "markdown",
   "id": "040d4a5b",
   "metadata": {},
   "source": [
    "If you type an expression in interactive mode, the interpreter evaluates it and displays the result:\n"
   ]
  },
  {
   "cell_type": "code",
   "execution_count": 23,
   "id": "2ab747d7",
   "metadata": {},
   "outputs": [
    {
     "data": {
      "text/plain": [
       "2"
      ]
     },
     "execution_count": 23,
     "metadata": {},
     "output_type": "execute_result"
    }
   ],
   "source": [
    "1 + 1 "
   ]
  },
  {
   "cell_type": "markdown",
   "id": "6d59fd09",
   "metadata": {},
   "source": [
    "But in a script, an expression all by itself doesn't do anything! This is a common source of confusion for beginners.\n"
   ]
  },
  {
   "cell_type": "markdown",
   "id": "558b43c7",
   "metadata": {},
   "source": [
    "### Exercise 1\n",
    "\n",
    "Type the following statements in the Python interpreter to see what they do:"
   ]
  },
  {
   "cell_type": "code",
   "execution_count": 24,
   "id": "5ac51fcc",
   "metadata": {},
   "outputs": [
    {
     "data": {
      "text/plain": [
       "6"
      ]
     },
     "execution_count": 24,
     "metadata": {},
     "output_type": "execute_result"
    }
   ],
   "source": [
    "5\n",
    "x = 5\n",
    "x + 1 "
   ]
  },
  {
   "cell_type": "markdown",
   "id": "859aac4a",
   "metadata": {},
   "source": [
    "# Order of Operations\n",
    "\n",
    "When more than one operator appears in an expression, the order of evaluation depends on the *rules of precedence*. For mathematical operators, Python follows mathematical convention. The acronym **PEMDAS** is a useful way to remember the rules:\n",
    "\n",
    "- **Parentheses** have the highest precedence and can be used to force an expression to evaluate in the order you want. Since expressions in parentheses are evaluated first, `2 * (3-1)` is 4, and `(1+1)**(5-2)` is 8. You can also use parentheses to make an expression easier to read, as in `(minute * 100) / 60`, even if it doesn't change the result.\n",
    "\n",
    "- **Exponentiation** has the next highest precedence, so `2**1+1` is 3, not 4, and `3*1**3` is 3, not 27.\n",
    "\n",
    "- **Multiplication and Division** have the same precedence, which is higher than \n",
    "\n",
    "- **Addition and Subtraction**, which also have the same precedence. So `2*3-1` is 5, not 4, and `6+4/2` is 8, not 5.\n",
    "\n",
    "- **Operators** with the same precedence are evaluated from left to right. So the expression `5-3-1` is 1, not 3, because the `5-3` happens first and then `1` is subtracted from 2.\n",
    "\n",
    "When in doubt, always put parentheses in your expressions to make sure the computations are performed in the order you intend.\n"
   ]
  },
  {
   "cell_type": "markdown",
   "id": "dd9b2b49",
   "metadata": {},
   "source": [
    "## The Modulus Operator\n",
    "\n",
    "The *modulus operator* works on integers and yields the remainder when the first operand is divided by the second. In Python, the modulus operator is a percent sign (`%`). The syntax is the same as for other operators:"
   ]
  },
  {
   "cell_type": "code",
   "execution_count": 25,
   "id": "397189d4",
   "metadata": {},
   "outputs": [
    {
     "name": "stdout",
     "output_type": "stream",
     "text": [
      "2\n"
     ]
    }
   ],
   "source": [
    "quotient = 7//3\n",
    "print(quotient)"
   ]
  },
  {
   "cell_type": "code",
   "execution_count": 27,
   "id": "b0319059",
   "metadata": {},
   "outputs": [
    {
     "name": "stdout",
     "output_type": "stream",
     "text": [
      "1\n"
     ]
    }
   ],
   "source": [
    "remainder = 7%3\n",
    "print(remainder)"
   ]
  },
  {
   "cell_type": "markdown",
   "id": "211e6ecd",
   "metadata": {},
   "source": [
    "So 7 divided by 3 is 2 with 1 left over.\n",
    "\n",
    "The modulus operator turns out to be surprisingly useful. For example, you can check whether one number is divisible by another: if `x % y` is zero, then `x` is divisible by `y`.\n",
    "\n",
    "You can also extract the right-most digit or digits from a number. For example, `x % 10` yields the right-most digit of `x` (in base 10). Similarly, `x % 100` yields the last two digits."
   ]
  },
  {
   "cell_type": "markdown",
   "id": "c22cf7d5",
   "metadata": {},
   "source": [
    "## String Operations \n",
    "\n",
    "The `+` operator works with strings, but it is not addition in the mathematical sense. Instead it performs *concatenation*, which means joining the strings by linking them end to end. For example:\n",
    "\n",
    "``` py\n",
    ">>> first = 10\n",
    ">>> second = 15\n",
    ">>> print(first+second)\n",
    "25\n",
    ">>> first = '100'\n",
    ">>> second = '150'\n",
    ">>> print(first + second)\n",
    "100150\n",
    "```\n",
    "\n",
    "The `*` operator also works with strings by multiplying the content of a string by an integer. For example:\n",
    "\n",
    "``` py \n",
    ">>> first = 'Test '\n",
    ">>> second = 3\n",
    ">>> print(first * second)\n",
    "Test Test Test\n",
    "```"
   ]
  },
  {
   "cell_type": "code",
   "execution_count": 28,
   "id": "2422eab0",
   "metadata": {},
   "outputs": [
    {
     "name": "stdout",
     "output_type": "stream",
     "text": [
      "25\n"
     ]
    }
   ],
   "source": [
    "first = 10\n",
    "second = 15\n",
    "print(first+second)"
   ]
  },
  {
   "cell_type": "code",
   "execution_count": 29,
   "id": "382c4ac8",
   "metadata": {},
   "outputs": [
    {
     "name": "stdout",
     "output_type": "stream",
     "text": [
      "100150\n"
     ]
    }
   ],
   "source": [
    "first = '100'\n",
    "second = '150'\n",
    "print(first+second)"
   ]
  },
  {
   "cell_type": "code",
   "execution_count": 33,
   "id": "e8c6ed97",
   "metadata": {},
   "outputs": [
    {
     "name": "stdout",
     "output_type": "stream",
     "text": [
      "Test Test Test \n"
     ]
    }
   ],
   "source": [
    "first = 'Test ' \n",
    "second = 3 \n",
    "print(first*3)"
   ]
  },
  {
   "cell_type": "markdown",
   "id": "54cbfabe",
   "metadata": {},
   "source": [
    "## Asking the User for Input\n",
    "\n",
    "Sometimes we would like to take the value for a variable from the user via their keyboard. Python provides a built-in function called `input` that gets input from the keyboard^[In Python 2.0, this function was named `raw_input`.]. When this function is called, the program stops and waits for the user to type something. When the user presses `Return` or `Enter`, the program resumes and `input` returns what the user typed as a string."
   ]
  },
  {
   "cell_type": "code",
   "execution_count": 2,
   "id": "c430d888",
   "metadata": {},
   "outputs": [
    {
     "name": "stdout",
     "output_type": "stream",
     "text": [
      "some silly stuff\n",
      "some silly stuff\n"
     ]
    }
   ],
   "source": [
    "inp = input()\n",
    "print(inp)"
   ]
  },
  {
   "cell_type": "markdown",
   "id": "941cc307",
   "metadata": {},
   "source": [
    "Before getting input from the user, it is a good idea to print a prompt telling the user what to input. You can pass a string to `input` to be displayed to the user before pausing for input:"
   ]
  },
  {
   "cell_type": "code",
   "execution_count": 3,
   "id": "725e8b70",
   "metadata": {},
   "outputs": [
    {
     "name": "stdout",
     "output_type": "stream",
     "text": [
      "What is your name\n",
      "chuck\n",
      "chuck\n"
     ]
    }
   ],
   "source": [
    "name = input('What is your name\\n')\n",
    "print(name)"
   ]
  },
  {
   "cell_type": "markdown",
   "id": "4f24556f",
   "metadata": {},
   "source": [
    "The sequence `\\n` at the end of the prompt represents a *newline*, which is a special character that causes a line break. That's why the user's input appears below the prompt.\n",
    "\n",
    "If you expect the user to type an integer, you can try to convert the return value to `int` using the `int()` function:"
   ]
  },
  {
   "cell_type": "code",
   "execution_count": 4,
   "id": "f6c447e7",
   "metadata": {},
   "outputs": [
    {
     "name": "stdout",
     "output_type": "stream",
     "text": [
      "What...is the airspeed velocity of an unladen swallow?\n",
      "17\n"
     ]
    },
    {
     "data": {
      "text/plain": [
       "22"
      ]
     },
     "execution_count": 4,
     "metadata": {},
     "output_type": "execute_result"
    }
   ],
   "source": [
    "prompt = 'What...is the airspeed velocity of an unladen swallow?\\n'\n",
    "speed = input(prompt)\n",
    "int(speed)\n",
    "int(speed) + 5"
   ]
  },
  {
   "cell_type": "markdown",
   "id": "dde60aa7",
   "metadata": {},
   "source": [
    "But if the user types something other than a string of digits, you get an error:\n",
    "\n",
    "``` py\n",
    ">>> speed = input(prompt)\n",
    "What...is the airspeed velocity of an unladen swallow?\n",
    "What do you mean, an African or a European swallow?\n",
    ">>> int(speed)\n",
    "ValueError: invalid literal for int() with base 10:\n",
    "```\n",
    "\n",
    "We will see how to handle this kind of error later.\n"
   ]
  },
  {
   "cell_type": "markdown",
   "id": "9a7bdf85",
   "metadata": {},
   "source": [
    "## Comments\n",
    "\n",
    "As programs get bigger and more complicated, they get more difficult to read. Formal languages are dense, and it is often difficult to look at a piece of code and figure out what it is doing, or why.\n",
    "\n",
    "For this reason, it is a good idea to add notes to your programs to explain in natural language what the program is doing. These notes are called *comments*, and in Python they start with the `#` symbol:\n",
    "\n",
    "``` py\n",
    "# compute the percentage of the hour that has elapsed\n",
    "percentage = (minute * 100) / 60\n",
    "```\n",
    "\n",
    "In this case, the comment appears on a line by itself. You can also put comments at the end of a line:\n",
    "\n",
    "``` py \n",
    "percentage = (minute * 100) / 60     # percentage of an hour\n",
    "```\n",
    "\n",
    "Everything from the `#` to the end of the line is ignored; it has no effect on the program.\n",
    "\n",
    "Comments are most useful when they document non-obvious features of the code. It is reasonable to assume that the reader can figure out *what* the code does; it is much more useful to explain *why*.\n",
    "\n",
    "This comment is redundant with the code and useless:\n",
    "\n",
    "``` py\n",
    "v = 5     # assign 5 to v\n",
    "```\n",
    "\n",
    "This comment contains useful information that is not in the code:\n",
    "\n",
    "``` py\n",
    "v = 5     # velocity in meters/second.\n",
    "```\n",
    "\n",
    "Good variable names can reduce the need for comments, but long names can make complex expressions hard to read, so there is a trade-off.\n"
   ]
  },
  {
   "cell_type": "markdown",
   "id": "c0d6034b",
   "metadata": {},
   "source": [
    "## Choosing Mnemonic Variable Names\n",
    "\n",
    "As long as you follow the simple rules of variable naming, and avoid reserved words, you have a lot of choice when you name your variables. In the beginning, this choice can be confusing both when you read a program and when you write your own programs. For example, the following three programs are identical in terms of what they accomplish, but very different when you read them and try to understand them.\n",
    "\n",
    "``` py \n",
    "a = 35.0\n",
    "b = 12.50\n",
    "c = a * b\n",
    "print(c)\n",
    "```\n",
    "\n",
    "``` py\n",
    "hours = 35.0\n",
    "rate = 12.50\n",
    "pay = hours * rate\n",
    "print(pay)\n",
    "```\n",
    "\n",
    "``` py\n",
    "x1q3z9ahd = 35.0\n",
    "x1q3z9afd = 12.50\n",
    "x1q3p9afd = x1q3z9ahd * x1q3z9afd\n",
    "print(x1q3p9afd)\n",
    "```"
   ]
  },
  {
   "cell_type": "markdown",
   "id": "26fe86b8",
   "metadata": {},
   "source": [
    "The Python interpreter sees all three of these programs as *exactly the same* but humans see and understand these programs quite differently. Humans will most quickly understand the intent of the second program because the programmer has chosen variable names that reflect their intent regarding what data will be stored in each variable.\n",
    "\n",
    "We call these wisely chosen variable names \"mnemonic variable names\". The word mnemonic^[See https://en.wikipedia.org/wiki/Mnemonic for an extended description of the word \"mnemonic\".] means \"memory aid\". We choose mnemonic variable names to help us remember why we created the variable in the first place.\n",
    "\n",
    "While this all sounds great, and it is a very good idea to use mnemonic variable names, mnemonic variable names can get in the way of a beginning programmer's ability to parse and understand code. This is because beginning programmers have not yet memorized the reserved words (there are only 35 of them) and sometimes variables with names that are too descriptive start to look like part of the language and not just well-chosen variable names.\n",
    "\n",
    "Take a quick look at the following Python sample code which loops through some data. We will cover loops soon, but for now try to just puzzle through what this means:\n",
    "\n",
    "``` py\n",
    "for word in words:\n",
    "    print(word)\n",
    "```\n",
    "\n",
    "What is happening here? Which of the tokens (for, word, in, etc.) are reserved words and which are just variable names? Does Python understand at a fundamental level the notion of words? Beginning programmers have trouble separating what parts of the code must be the same as this example and what parts of the code are simply choices made by the programmer.\n",
    "\n",
    "The following code is equivalent to the above code:\n",
    "\n",
    "``` py\n",
    "for slice in pizza:\n",
    "    print(slice)\n",
    "```\n",
    "\n",
    "It is easier for the beginning programmer to look at this code and know which parts are reserved words defined by Python and which parts are simply variable names chosen by the programmer. It is pretty clear that Python has no fundamental understanding of pizza and slices and the fact that a pizza consists of a set of one or more slices.\n",
    "\n",
    "But if our program is truly about reading data and looking for words in the data, `pizza` and `slice` are very un-mnemonic variable names. Choosing them as variable names distracts from the meaning of the program.\n",
    "\n",
    "After a pretty short period of time, you will know the most common reserved words and you will start to see the reserved words jumping out at you:\n",
    "\n",
    "``` py\n",
    "for word in words:\n",
    "    print(word)\n",
    "```\n",
    "\n",
    "The parts of the code that are defined by Python (`for`, `in`, `print`, and `:`) are in bold and the programmer-chosen variables (`word` and `words`) are not in bold. Many text editors are aware of Python syntax and will color reserved words differently to give you clues to keep your variables and reserved words separate. After a while you will begin to read Python and quickly determine what is a variable and what is a reserved word.\n"
   ]
  },
  {
   "cell_type": "markdown",
   "id": "79c1ed31",
   "metadata": {},
   "source": [
    "## Debugging\n",
    "\n",
    "At this point, the syntax error you are most likely to make is an illegal variable name, like `class` and `yield`, which are keywords, or `odd~job` and `US$`, which contain illegal characters.\n",
    "\n",
    "If you put a space in a variable name, Python thinks it is two operands without an operator:\n",
    "\n",
    "``` py\n",
    ">>> bad name = 5\n",
    "SyntaxError: invalid syntax\n",
    "```\n",
    "\n",
    "``` py\n",
    ">>> month = 09\n",
    "  File \"<stdin>\", line 1\n",
    "    month = 09\n",
    "             ^\n",
    "SyntaxError: invalid token\n",
    "```\n",
    "\n",
    "For syntax errors, the error messages don't help much. The most common messages are `SyntaxError: invalid syntax` and `SyntaxError: invalid token`, neither of which is very informative.\n",
    "\n",
    "The runtime error you are most likely to make is a \"use before def;\" that is, trying to use a variable before you have assigned a value. This can happen if you spell a variable name wrong:\n",
    "\n",
    "``` py\n",
    ">>> principal = 327.68\n",
    ">>> interest = principle * rate\n",
    "NameError: name 'principle' is not defined\n",
    "```\n",
    "\n",
    "Variables names are case sensitive, so `LaTeX` is not the same as latex.\n",
    "\n",
    "At this point, the most likely cause of a semantic error is the order of operations. For example, to evaluate $1/2\\pi$, you might be tempted to write\n",
    "\n",
    "``` py\n",
    ">>> 1.0 / 2.0 * pi\n",
    "```\n",
    "\n",
    "But the division happens first, so you would get $\\pi / 2$, which is not the same thing! There is no way for Python to know what you meant to write, so in this case you don't get an error message; you just get the wrong answer."
   ]
  },
  {
   "cell_type": "markdown",
   "id": "c49c7080",
   "metadata": {},
   "source": [
    "## Glossary \n",
    "\n",
    "**assignment**: A statement that assigns a value to a variable.\n",
    "\n",
    "**concatenate**: To join two operands end to end.\n",
    "\n",
    "**comment**: Information in a program that is meant for other programmers (or anyone reading the source code) and has no effect on the execution of the program.\n",
    "\n",
    "**evaluate**: To simplify an expression by performing the operations in order to yield a single value.\n",
    "\n",
    "**expression**: A combination of variables, operators, and values that represents a single result value.\n",
    "\n",
    "**floating point**: A type that represents numbers with fractional parts.\n",
    "\n",
    "**integer**: A type that represents whole numbers.\n",
    "\n",
    "**keyword**: A reserved word that is used by the compiler to parse a program; you cannot use keywords like if, def, and while as variable names.\n",
    "\n",
    "**mnemonic**: A memory aid. We often give variables mnemonic names to help us remember what is stored in the variable.\n",
    "\n",
    "**modulus operator**: An operator, denoted with a percent sign (%), that works on integers and yields the remainder when one number is divided by another.\n",
    "\n",
    "**operand**: One of the values on which an operator operates.\n",
    "\n",
    "**operator**: A special symbol that represents a simple computation like addition, multiplication, or string concatenation.\n",
    "\n",
    "**rules of precedence**: The set of rules governing the order in which expressions involving multiple operators and operands are evaluated.\n",
    "\n",
    "**statement**: A section of code that represents a command or action. So far, the statements we have seen are assignments and print expression statement.\n",
    "\n",
    "**string**: A type that represents sequences of characters.\n",
    "\n",
    "**type**: A category of values. The types we have seen so far are integers (type int), floating-point numbers (type float), and strings (type str).\n",
    "\n",
    "**value**: One of the basic units of data, like a number or string, that a program manipulates.\n",
    "\n",
    "**variable**: A name that refers to a value.\n"
   ]
  },
  {
   "cell_type": "markdown",
   "id": "b0596913",
   "metadata": {},
   "source": [
    "## Exercises"
   ]
  },
  {
   "cell_type": "markdown",
   "id": "1db18a2b",
   "metadata": {},
   "source": [
    "### [Graded Assignment] Exercise 2  \n",
    "Accept and complete the assignment in the Github Classroom.Write a program that uses input to prompt a user for their name and then welcomes them."
   ]
  },
  {
   "cell_type": "code",
   "execution_count": 14,
   "id": "e4bf3e6d",
   "metadata": {},
   "outputs": [
    {
     "name": "stdout",
     "output_type": "stream",
     "text": [
      "Enter your name: bob\n",
      "Hello bob\n"
     ]
    }
   ],
   "source": [
    "def exercise_02_02(): \n",
    "    \"\"\"Returns a string greeting the input name from the prompt \"enter your name\".\n",
    "    \n",
    "    Parameters\n",
    "    ----------\n",
    "    none: a prompt is given asking for your name\n",
    "\n",
    "    Returns\n",
    "    -------\n",
    "    Hello ___; followed by the name given at the input prompt\n",
    "    \"\"\"\n",
    "\n",
    "    in_name = input(\"Enter your name: \")\n",
    "    print(\"Hello\",in_name)\n",
    "\n",
    "exercise_02_02()"
   ]
  },
  {
   "cell_type": "markdown",
   "id": "aae4c090",
   "metadata": {},
   "source": [
    "### [Graded Assignment] Exercise 3 \n",
    "\n",
    "Accept and complete the assignment in the Github Classroom. Write a program to prompt the user for hours and rate per hour to compute gross pay.\n",
    "\n",
    "We won't worry about making sure our pay has exactly two digits after the decimal place for now. If you want, you can play with the built-in Python round function to properly round the resulting pay to two decimal places.\n",
    "\n",
    "### [Video: Exercise 2.3](<https://www.youtube.com/watch?v=DVmspDooG2c>)\n"
   ]
  },
  {
   "cell_type": "code",
   "execution_count": 21,
   "id": "a788fc31",
   "metadata": {},
   "outputs": [
    {
     "name": "stdout",
     "output_type": "stream",
     "text": [
      "Enter Hours: 45\n",
      "Enter Rate: 10.5\n",
      "498.75\n"
     ]
    }
   ],
   "source": [
    "# Write a program to prompt the user for hours and rate per hour using input to compute gross pay. \n",
    "# Pay the hourly rate for the hours up to 40 and 1.5 times the hourly rate for all hours worked above 40 hours. \n",
    "# Use 45 hours and a rate of 10.50 per hour to test the program (the pay should be 498.75). \n",
    "# You should use input to read a string and float() to convert the string to a number. \n",
    "# Do not worry about error checking the user input - assume the user types numbers properly.\n",
    "\n",
    "def exercise_02_03():\n",
    "    hrs = float(input(\"Enter Hours: \"))  \n",
    "    rate = float(input(\"Enter Rate: \"))\n",
    "\n",
    "    if hrs > 40:\n",
    "        rate = rate * 40 + rate * 1.5 * (hrs - 40)\n",
    "    else:\n",
    "        rate = hrs * rate \n",
    "    \n",
    "    print(rate)\n",
    "    \n",
    "exercise_02_03()"
   ]
  },
  {
   "cell_type": "markdown",
   "id": "e6d07de1",
   "metadata": {},
   "source": [
    "### Exercise 4\n",
    "Assume that we execute the following assignment statements:\n",
    "\n",
    "``` py\n",
    "width = 17\n",
    "height = 12.0\n",
    "```\n",
    "\n",
    "For each of the following expressions, write the value of the expression and the type (of the value of the expression).\n",
    "\n",
    "`width//2`\n",
    "== 8 \n",
    "\n",
    "`width/2.0` == 8.5\n",
    "\n",
    "`height/3` == 4.0\n",
    "\n",
    "`1 + 2 * 5` == 11\n",
    "\n",
    "Use the Python interpreter to check your answers."
   ]
  },
  {
   "cell_type": "code",
   "execution_count": 26,
   "id": "bfed6d3f",
   "metadata": {},
   "outputs": [
    {
     "name": "stdout",
     "output_type": "stream",
     "text": [
      "8 <class 'int'>\n",
      "4.0 <class 'float'>\n",
      "11 <class 'int'>\n"
     ]
    }
   ],
   "source": [
    "width = 17\n",
    "height = 12.0 \n",
    "\n",
    "print(width//2, type(width//2))\n",
    "print(height/3, type(height/3))\n",
    "print(1+2*5, type(1+2*5))"
   ]
  },
  {
   "cell_type": "markdown",
   "id": "674ce586",
   "metadata": {},
   "source": [
    "### Exercise 5\n",
    "Write a program which prompts the user for a Celsius temperature, convert the temperature to Fahrenheit, and print out the converted temperature."
   ]
  },
  {
   "cell_type": "code",
   "execution_count": 28,
   "id": "65fb02b4",
   "metadata": {},
   "outputs": [
    {
     "name": "stdout",
     "output_type": "stream",
     "text": [
      "Enter celsius:45\n",
      "Fahrenheit = 113.0\n"
     ]
    }
   ],
   "source": [
    "def exercise_02_05():\n",
    "    # prompt user for celsius \n",
    "    cel = float(input('Enter celsius:'))\n",
    "    fahr = cel*(9/5)+32\n",
    "    print('Fahrenheit =', fahr)\n",
    "exercise_02_05()"
   ]
  }
 ],
 "metadata": {
  "kernelspec": {
   "display_name": "Python 3 (ipykernel)",
   "language": "python",
   "name": "python3"
  },
  "language_info": {
   "codemirror_mode": {
    "name": "ipython",
    "version": 3
   },
   "file_extension": ".py",
   "mimetype": "text/x-python",
   "name": "python",
   "nbconvert_exporter": "python",
   "pygments_lexer": "ipython3",
   "version": "3.9.17"
  }
 },
 "nbformat": 4,
 "nbformat_minor": 5
}
