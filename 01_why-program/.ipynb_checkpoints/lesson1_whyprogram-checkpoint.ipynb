{
 "cells": [
  {
   "cell_type": "markdown",
   "id": "74212f61",
   "metadata": {},
   "source": [
    "# Lesson 1: Why Program?"
   ]
  },
  {
   "cell_type": "markdown",
   "id": "b5514096",
   "metadata": {},
   "source": [
    "## Course Objective.\n",
    "The objective of this course is to teach students the basics of the python programming language. By the end of the course, students will be able to: \n",
    "- write simple python programs\n",
    "- use python to manipulate data \n",
    "- work with files and databases\n",
    "- use python to solve problems \n",
    "\n",
    "## Course Goal.\n",
    "The goal of this course is to help students develop the skills they need to be successful in using python for personal and professional use. By the end of the course, students will be able to: \n",
    "- Understand the basics of python syntax \n",
    "- Use python to solve real world problems\n",
    "- Communicate effectively about python programming \n",
    "\n",
    "## Key Terms and Vocabulary.\n",
    "\n",
    "**Python**: general-purpose programming language that is used for a wide variety of tasks, including data analysis, web dev, and machine learning.\n",
    "\n",
    "**Programming language**: set of instructions that tells a computer what to do.\n",
    "\n",
    " **Syntax**: set of rules that govern how a programming language is written.\n",
    "\n",
    " **Variables**: containers that store data.\n",
    "\n",
    "**Data types**: different types of data that can be stored in variables.\n",
    "\n",
    "**Operators**: symbols that are used to perform operations on data.\n",
    "\n",
    "**Statements**: instructions that tell the computer to do something.\n",
    "\n",
    "**Functions**: blocks of code that can be reused.\n",
    "\n",
    "**Modules**: collections of functions and variables.\n",
    "\n",
    "**Libraries**: collections of modules.\n",
    "\n",
    "**Algorithms**: step-by-step procedures for solving problems.\n",
    "\n",
    "**Data Structures**: ways of organizing data.\n",
    "\n",
    "**Graphical user interface (GUI)**: way of interacting with a computer using a mouse and keyboard.\n",
    "\n",
    "**File**: named collection of data that is stored on a computer.\n",
    "\n",
    "**Database**: collection of data that is organized in a way that makes it easy to retrieve and use."
   ]
  },
  {
   "cell_type": "markdown",
   "id": "1f6ee988",
   "metadata": {},
   "source": [
    "## Why should you learn to write programs?\n",
    "\n",
    "### [Video 1: Why program - part 1](<https://youtu.be/fvhNadKjE8g>)"
   ]
  },
  {
   "cell_type": "markdown",
   "id": "d85d4a32",
   "metadata": {},
   "source": [
    "Writing programs (or programming) is a very creative and rewarding activity. You can write programs for many reasons, ranging from making your living to solving a difficult data analysis problem to having fun to helping someone else solve a problem. This book assumes that everyone needs to know how to program, and that once you know how to program you will figure out what you want to do with your newfound skills.\n",
    "\n",
    "We are surrounded in our daily lives with computers ranging from laptops to cell phones. We can think of these computers as our \"personal assistants\" who can take care of many things on our behalf. The hardware in our current-day computers is essentially built to continuously ask us the question, \"What would you like me to do next?\"\n",
    "\n",
    "![Alt text](image.png)\n",
    "Personal Digital Assistant\n",
    "\n",
    "Programmers add an operating system and a set of applications to the hardware and we end up with a Personal Digital Assistant that is quite helpful and capable of helping us do many different things.\n",
    "\n",
    "Our computers are fast and have vast amounts of memory and could be very helpful to us if we only knew the language to speak to explain to the computer what we would like it to \"do next\". If we knew this language, we could tell the computer to do tasks on our behalf that were repetitive. Interestingly, the kinds of things computers can do best are often the kinds of things that we humans find boring and mind-numbing.\n",
    "\n",
    "For example, look at the first three paragraphs of this chapter and tell me the most commonly used word and how many times the word is used. While you were able to read and understand the words in a few seconds, counting them is almost painful because it is not the kind of problem that human minds are designed to solve. For a computer, the opposite is true, reading and understanding text from a piece of paper is hard for a computer to do but counting the words and telling you how many times the most used word was used is very easy for the computer:\n",
    "\n",
    "    python words.py  \n",
    "    Enter file:words.txt  \n",
    "    to 16\n",
    "\n",
    "Our \"personal information analysis assistant\" quickly told us that the word \"to\" was used sixteen times in the first three paragraphs of this chapter.\n",
    "\n",
    "This very fact that computers are good at things that humans are not is why you need to become skilled at talking \"computer language\". Once you learn this new language, you can delegate mundane tasks to your partner (the computer), leaving more time for you to do the things that you are uniquely suited for. You bring creativity, intuition, and inventiveness to this partnership.\n"
   ]
  },
  {
   "cell_type": "markdown",
   "id": "d6d1531f",
   "metadata": {},
   "source": [
    "### [Video 2: Why Program - Part 2](<https://www.youtube.com/watch?v=VQZTZsXk8sA>)"
   ]
  },
  {
   "cell_type": "markdown",
   "id": "9293f0bc",
   "metadata": {},
   "source": []
  },
  {
   "cell_type": "markdown",
   "id": "874e6a64",
   "metadata": {},
   "source": []
  },
  {
   "cell_type": "code",
   "execution_count": null,
   "id": "3e0b411f",
   "metadata": {},
   "outputs": [],
   "source": []
  }
 ],
 "metadata": {
  "kernelspec": {
   "display_name": "Python 3 (ipykernel)",
   "language": "python",
   "name": "python3"
  },
  "language_info": {
   "codemirror_mode": {
    "name": "ipython",
    "version": 3
   },
   "file_extension": ".py",
   "mimetype": "text/x-python",
   "name": "python",
   "nbconvert_exporter": "python",
   "pygments_lexer": "ipython3",
   "version": "3.9.17"
  }
 },
 "nbformat": 4,
 "nbformat_minor": 5
}
