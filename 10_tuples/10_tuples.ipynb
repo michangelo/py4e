{
 "cells": [
  {
   "cell_type": "markdown",
   "id": "3f70e840",
   "metadata": {},
   "source": [
    "# Lesson 10: Tuples"
   ]
  },
  {
   "cell_type": "markdown",
   "id": "50f45949",
   "metadata": {},
   "source": [
    "The tuple is a Python data structure that is like a simple and efficient list."
   ]
  },
  {
   "cell_type": "markdown",
   "id": "d5fc2f45",
   "metadata": {},
   "source": [
    "## Tuples are Immutable"
   ]
  },
  {
   "cell_type": "markdown",
   "id": "399a91b0",
   "metadata": {},
   "source": [
    "Video: Tuples - Part 1\n",
    "\n",
    "### https://www.youtube.com/watch?v=CaVhM65wD6g "
   ]
  },
  {
   "cell_type": "markdown",
   "id": "e55d895b",
   "metadata": {},
   "source": [
    "A tuple\n",
    "\n",
    "- [Fun fact: The word \"tuple\" comes from the names given to sequences of numbers of varying lengths: single, double, triple, quadruple, quintuple, sextuple, septuple, etc.] \n",
    "\n",
    "is a sequence of values much like a list. The values stored in a tuple can be any type, and they are indexed by integers. The important difference is that tuples are *immutable*. Tuples are also *comparable* and *hashable* so we can sort lists of them and use tuples as key values in Python dictionaries.\n",
    "\n",
    "Syntactically, a tuple is a comma-separated list of values:"
   ]
  },
  {
   "cell_type": "code",
   "execution_count": 1,
   "id": "0a446941",
   "metadata": {},
   "outputs": [
    {
     "data": {
      "text/plain": [
       "('a', 'b', 'c', 'd', 'e')"
      ]
     },
     "execution_count": 1,
     "metadata": {},
     "output_type": "execute_result"
    }
   ],
   "source": [
    "t = 'a', 'b', 'c', 'd', 'e'\n",
    "t"
   ]
  },
  {
   "cell_type": "markdown",
   "id": "d2d38f2e",
   "metadata": {},
   "source": [
    "Although it is not necessary, it is common to enclose tuples in parentheses to help us quickly identify tuples when we look at Python code:\n"
   ]
  },
  {
   "cell_type": "code",
   "execution_count": 3,
   "id": "454321cf",
   "metadata": {},
   "outputs": [
    {
     "data": {
      "text/plain": [
       "('a', 'b', 'c', 'd', 'e')"
      ]
     },
     "execution_count": 3,
     "metadata": {},
     "output_type": "execute_result"
    }
   ],
   "source": [
    "t = ('a', 'b', 'c', 'd', 'e')\n",
    "t"
   ]
  },
  {
   "cell_type": "markdown",
   "id": "bc4048bd",
   "metadata": {},
   "source": [
    "To create a tuple with a single element, you have to include the final comma:"
   ]
  },
  {
   "cell_type": "code",
   "execution_count": 5,
   "id": "74757104",
   "metadata": {},
   "outputs": [
    {
     "data": {
      "text/plain": [
       "tuple"
      ]
     },
     "execution_count": 5,
     "metadata": {},
     "output_type": "execute_result"
    }
   ],
   "source": [
    "t1 = ('a',)\n",
    "type(t1)"
   ]
  },
  {
   "cell_type": "code",
   "execution_count": 7,
   "id": "4a636323",
   "metadata": {},
   "outputs": [
    {
     "data": {
      "text/plain": [
       "tuple"
      ]
     },
     "execution_count": 7,
     "metadata": {},
     "output_type": "execute_result"
    }
   ],
   "source": [
    "t1 = 'a',\n",
    "type(t1)"
   ]
  },
  {
   "cell_type": "markdown",
   "id": "12f9dbee",
   "metadata": {},
   "source": [
    "Without the comma Python treats (`'a'`) as an expression with a string in parentheses that evaluates to a string:"
   ]
  },
  {
   "cell_type": "code",
   "execution_count": 9,
   "id": "50457fdc",
   "metadata": {},
   "outputs": [
    {
     "data": {
      "text/plain": [
       "str"
      ]
     },
     "execution_count": 9,
     "metadata": {},
     "output_type": "execute_result"
    }
   ],
   "source": [
    "t2 = ('a')\n",
    "type(t2)"
   ]
  },
  {
   "cell_type": "code",
   "execution_count": 13,
   "id": "956d7ce0",
   "metadata": {},
   "outputs": [
    {
     "name": "stdout",
     "output_type": "stream",
     "text": [
      "<class 'tuple'>\n",
      "()\n"
     ]
    }
   ],
   "source": [
    "t = tuple()\n",
    "print(type(t))\n",
    "print(t)"
   ]
  },
  {
   "cell_type": "markdown",
   "id": "26277820",
   "metadata": {},
   "source": [
    "If the argument is a sequence (string, list, or tuple), the result of the call to `tuple` is a tuple with the elements of the sequence:"
   ]
  },
  {
   "cell_type": "code",
   "execution_count": 15,
   "id": "0366cf34",
   "metadata": {},
   "outputs": [
    {
     "name": "stdout",
     "output_type": "stream",
     "text": [
      "('l', 'u', 'p', 'i', 'n', 's')\n"
     ]
    }
   ],
   "source": [
    "t = tuple('lupins')\n",
    "print(t)"
   ]
  },
  {
   "cell_type": "markdown",
   "id": "97a5da54",
   "metadata": {},
   "source": [
    "Because `tuple` is the name of a constructor, you should avoid using it as a variable name.\n",
    "\n",
    "Most list operators also work on tuples. The bracket operator indexes an element:"
   ]
  },
  {
   "cell_type": "code",
   "execution_count": 18,
   "id": "b513630c",
   "metadata": {},
   "outputs": [
    {
     "name": "stdout",
     "output_type": "stream",
     "text": [
      "a\n"
     ]
    }
   ],
   "source": [
    "t = ('a', 'b', 'c', 'd', 'e')\n",
    "print(t[0])"
   ]
  },
  {
   "cell_type": "markdown",
   "id": "4f8ec7e9",
   "metadata": {},
   "source": [
    "And the slice operator selects a range of elements."
   ]
  },
  {
   "cell_type": "code",
   "execution_count": 19,
   "id": "0c7358d2",
   "metadata": {},
   "outputs": [
    {
     "name": "stdout",
     "output_type": "stream",
     "text": [
      "('b', 'c')\n"
     ]
    }
   ],
   "source": [
    "print(t[1:3])"
   ]
  },
  {
   "cell_type": "markdown",
   "id": "08b952c0",
   "metadata": {},
   "source": [
    "But if you try to modify one of the elements of the tuple, you get an error:"
   ]
  },
  {
   "cell_type": "code",
   "execution_count": 21,
   "id": "63146db7",
   "metadata": {},
   "outputs": [
    {
     "ename": "TypeError",
     "evalue": "'tuple' object does not support item assignment",
     "output_type": "error",
     "traceback": [
      "\u001b[1;31m---------------------------------------------------------------------------\u001b[0m",
      "\u001b[1;31mTypeError\u001b[0m                                 Traceback (most recent call last)",
      "Cell \u001b[1;32mIn[21], line 1\u001b[0m\n\u001b[1;32m----> 1\u001b[0m t[\u001b[38;5;241m0\u001b[39m] \u001b[38;5;241m=\u001b[39m \u001b[38;5;124m'\u001b[39m\u001b[38;5;124mA\u001b[39m\u001b[38;5;124m'\u001b[39m\n\u001b[0;32m      2\u001b[0m t\n",
      "\u001b[1;31mTypeError\u001b[0m: 'tuple' object does not support item assignment"
     ]
    }
   ],
   "source": [
    "t[0] = 'A'\n",
    "t"
   ]
  },
  {
   "cell_type": "markdown",
   "id": "a22b9a8e",
   "metadata": {},
   "source": [
    "You can't modify the elements of a tuple, but you can replace one tuple with another:"
   ]
  },
  {
   "cell_type": "code",
   "execution_count": 23,
   "id": "09890847",
   "metadata": {},
   "outputs": [
    {
     "name": "stdout",
     "output_type": "stream",
     "text": [
      "('A', 'b', 'c', 'd', 'e')\n"
     ]
    },
    {
     "data": {
      "text/plain": [
       "('A', 'b', 'c', 'd', 'e')"
      ]
     },
     "execution_count": 23,
     "metadata": {},
     "output_type": "execute_result"
    }
   ],
   "source": [
    ">>> t = ('A',) + t[1:]\n",
    ">>> print(t)\n",
    "('A', 'b', 'c', 'd', 'e')"
   ]
  },
  {
   "cell_type": "markdown",
   "id": "d45125f2",
   "metadata": {},
   "source": [
    "## Comparing Tuples"
   ]
  },
  {
   "cell_type": "markdown",
   "id": "293bb846",
   "metadata": {},
   "source": [
    "Video Tuples part 2 \n",
    "\n",
    "### <https://www.youtube.com/watch?v=FdUdA6o0Ij0>"
   ]
  },
  {
   "cell_type": "markdown",
   "id": "bba0c00a",
   "metadata": {},
   "source": [
    "The comparison operators work with tuples and other sequences. Python starts by comparing the first element from each sequence. If they are equal, it goes on to the next element, and so on, until it finds elements that differ. Subsequent elements are not considered (even if they are really big)."
   ]
  },
  {
   "cell_type": "code",
   "execution_count": 27,
   "id": "b14facf3",
   "metadata": {},
   "outputs": [
    {
     "data": {
      "text/plain": [
       "True"
      ]
     },
     "execution_count": 27,
     "metadata": {},
     "output_type": "execute_result"
    }
   ],
   "source": [
    "(0, 1, 2) < (0, 3, 4)"
   ]
  },
  {
   "cell_type": "code",
   "execution_count": 30,
   "id": "b23eec1e",
   "metadata": {},
   "outputs": [
    {
     "data": {
      "text/plain": [
       "True"
      ]
     },
     "execution_count": 30,
     "metadata": {},
     "output_type": "execute_result"
    }
   ],
   "source": [
    "(0, 1, 2000000) < (0, 3, 4)"
   ]
  },
  {
   "cell_type": "markdown",
   "id": "586b408e",
   "metadata": {},
   "source": [
    "The `sort` function works the same way. It sorts primarily by first element, but in the case of a tie, it sorts by second element, and so on.\n",
    "\n",
    "This feature lends itself to a pattern called **DSU** for\n",
    "\n",
    "**Decorate**: a sequence by building a list of tuples with one or more sort keys preceding the elements from the sequence,\n",
    "\n",
    "**Sort**: the list of tuples using the Python built-in sort, and\n",
    "\n",
    "**Undecorate**: by extracting the sorted elements of the sequence.\n",
    "\n",
    "For example, suppose you have a list of words and you want to sort them from longest to shortest:"
   ]
  },
  {
   "cell_type": "code",
   "execution_count": 31,
   "id": "2db28b68",
   "metadata": {},
   "outputs": [
    {
     "name": "stdout",
     "output_type": "stream",
     "text": [
      "['yonder', 'window', 'breaks', 'light', 'what', 'soft', 'but', 'in']\n"
     ]
    }
   ],
   "source": [
    "txt = 'but soft what light in yonder window breaks'\n",
    "words = txt.split()\n",
    "t = list()\n",
    "for word in words:\n",
    "    t.append((len(word), word))\n",
    "\n",
    "t.sort(reverse=True)\n",
    "\n",
    "res = list()\n",
    "for length, word in t:\n",
    "    res.append(word)\n",
    "\n",
    "print(res)"
   ]
  },
  {
   "cell_type": "markdown",
   "id": "33c9cc74",
   "metadata": {},
   "source": [
    "The first loop builds a list of tuples, where each tuple is a word preceded by its length.\n",
    "\n",
    "`sort` compares the first element, length, first, and only considers the second element to break ties. The keyword argument `reverse=True` tells `sort` to go in decreasing order.\n",
    "\n",
    "The second loop traverses the list of tuples and builds a list of words in descending order of length. The four-character words are sorted in reverse alphabetical order, so \"what\" appears before \"soft\" in the following list.\n",
    "\n",
    "The output of the program is as follows:"
   ]
  },
  {
   "cell_type": "code",
   "execution_count": 32,
   "id": "21554ab6",
   "metadata": {},
   "outputs": [
    {
     "data": {
      "text/plain": [
       "['yonder', 'window', 'breaks', 'light', 'what', 'soft', 'but', 'in']"
      ]
     },
     "execution_count": 32,
     "metadata": {},
     "output_type": "execute_result"
    }
   ],
   "source": [
    "['yonder', 'window', 'breaks', 'light', 'what',\n",
    "'soft', 'but', 'in']"
   ]
  },
  {
   "cell_type": "markdown",
   "id": "2b1087a8",
   "metadata": {},
   "source": [
    "Of course the line loses much of its poetic impact when turned into a Python list and sorted in descending word length order."
   ]
  },
  {
   "cell_type": "markdown",
   "id": "1beed929",
   "metadata": {},
   "source": [
    "## Tuple Assignment"
   ]
  },
  {
   "cell_type": "markdown",
   "id": "73fbb8d7",
   "metadata": {},
   "source": [
    "One of the unique syntactic features of the Python language is the ability to have a tuple on the left side and a sequence on the right side of an assignment statement. This allows you to assign more than one variable at a time to the given sequence.\n",
    "\n",
    "In this example we have a two-element list (which is a sequence) and assign the first and second elements of the sequence to the variables `x` and `y` in a single statement."
   ]
  },
  {
   "cell_type": "code",
   "execution_count": 34,
   "id": "7056b3d3",
   "metadata": {},
   "outputs": [
    {
     "data": {
      "text/plain": [
       "'have'"
      ]
     },
     "execution_count": 34,
     "metadata": {},
     "output_type": "execute_result"
    }
   ],
   "source": [
    "m = [ 'have', 'fun' ]\n",
    "x, y = m\n",
    "x"
   ]
  },
  {
   "cell_type": "code",
   "execution_count": 35,
   "id": "2773088e",
   "metadata": {},
   "outputs": [
    {
     "data": {
      "text/plain": [
       "'fun'"
      ]
     },
     "execution_count": 35,
     "metadata": {},
     "output_type": "execute_result"
    }
   ],
   "source": [
    "y"
   ]
  },
  {
   "cell_type": "markdown",
   "id": "4593e9d0",
   "metadata": {},
   "source": [
    "It is not magic, Python *roughly* translates the tuple assignment syntax to be the following:^[Python does not translate the syntax literally. For example, if you try this with a dictionary, it will not work as you might expect.]"
   ]
  },
  {
   "cell_type": "code",
   "execution_count": 36,
   "id": "95e79a02",
   "metadata": {},
   "outputs": [
    {
     "data": {
      "text/plain": [
       "'fun'"
      ]
     },
     "execution_count": 36,
     "metadata": {},
     "output_type": "execute_result"
    }
   ],
   "source": [
    ">>> m = [ 'have', 'fun' ]\n",
    ">>> x = m[0]\n",
    ">>> y = m[1]\n",
    ">>> x\n",
    "'have'\n",
    ">>> y\n",
    "'fun'\n",
    ">>>\n"
   ]
  },
  {
   "cell_type": "markdown",
   "id": "9cb87d0c",
   "metadata": {},
   "source": [
    "Stylistically when we use a tuple on the left side of the assignment statement, we omit the parentheses, but the following is an equally valid syntax:"
   ]
  },
  {
   "cell_type": "markdown",
   "id": "eeb8b890",
   "metadata": {},
   "source": [
    "A particularly clever application of tuple assignment allows us to swap the values of two variables in a single statement:"
   ]
  },
  {
   "cell_type": "code",
   "execution_count": 37,
   "id": "6da672dc",
   "metadata": {},
   "outputs": [
    {
     "ename": "NameError",
     "evalue": "name 'b' is not defined",
     "output_type": "error",
     "traceback": [
      "\u001b[1;31m---------------------------------------------------------------------------\u001b[0m",
      "\u001b[1;31mNameError\u001b[0m                                 Traceback (most recent call last)",
      "Cell \u001b[1;32mIn[37], line 1\u001b[0m\n\u001b[1;32m----> 1\u001b[0m a, b \u001b[38;5;241m=\u001b[39m \u001b[43mb\u001b[49m, a\n",
      "\u001b[1;31mNameError\u001b[0m: name 'b' is not defined"
     ]
    }
   ],
   "source": [
    ">>> a, b = b, a"
   ]
  },
  {
   "cell_type": "markdown",
   "id": "fc4e00d6",
   "metadata": {},
   "source": [
    "Both sides of this statement are tuples, but the left side is a tuple of variables; the right side is a tuple of expressions. Each value on the right side is assigned to its respective variable on the left side. All the expressions on the right side are evaluated before any of the assignments.\n",
    "\n",
    "The number of variables on the left and the number of values on the right must be the same:"
   ]
  },
  {
   "cell_type": "code",
   "execution_count": 39,
   "id": "86cf0d31",
   "metadata": {},
   "outputs": [
    {
     "ename": "ValueError",
     "evalue": "too many values to unpack (expected 2)",
     "output_type": "error",
     "traceback": [
      "\u001b[1;31m---------------------------------------------------------------------------\u001b[0m",
      "\u001b[1;31mValueError\u001b[0m                                Traceback (most recent call last)",
      "Cell \u001b[1;32mIn[39], line 1\u001b[0m\n\u001b[1;32m----> 1\u001b[0m a, b \u001b[38;5;241m=\u001b[39m \u001b[38;5;241m1\u001b[39m, \u001b[38;5;241m2\u001b[39m, \u001b[38;5;241m3\u001b[39m\n",
      "\u001b[1;31mValueError\u001b[0m: too many values to unpack (expected 2)"
     ]
    }
   ],
   "source": [
    ">>> a, b = 1, 2, 3"
   ]
  },
  {
   "cell_type": "markdown",
   "id": "4c274ad5",
   "metadata": {},
   "source": [
    "More generally, the right side can be any kind of sequence (string, list, or tuple). For example, to split an email address into a user name and a domain, you could write:"
   ]
  },
  {
   "cell_type": "code",
   "execution_count": 40,
   "id": "6735692c",
   "metadata": {},
   "outputs": [],
   "source": [
    ">>> addr = 'monty@python.org'\n",
    ">>> uname, domain = addr.split('@')"
   ]
  },
  {
   "cell_type": "markdown",
   "id": "b810be9b",
   "metadata": {},
   "source": [
    "The return value from `split` is a list with two elements; the first element is assigned to uname, the second to domain."
   ]
  },
  {
   "cell_type": "code",
   "execution_count": 42,
   "id": "a8b44534",
   "metadata": {},
   "outputs": [
    {
     "name": "stdout",
     "output_type": "stream",
     "text": [
      "monty\n",
      "python.org\n"
     ]
    }
   ],
   "source": [
    "print(uname)\n",
    "print(domain)"
   ]
  },
  {
   "cell_type": "markdown",
   "id": "a377a9d6",
   "metadata": {},
   "source": [
    "## Dictionaries and Tuples"
   ]
  },
  {
   "cell_type": "markdown",
   "id": "06868d8a",
   "metadata": {},
   "source": [
    "Dictionaries have a method called `items` that returns a list of tuples, where each tuple is a key-value pair:\n",
    "\n"
   ]
  },
  {
   "cell_type": "code",
   "execution_count": 45,
   "id": "f1238b33",
   "metadata": {},
   "outputs": [
    {
     "name": "stdout",
     "output_type": "stream",
     "text": [
      "[('b', 1), ('a', 10), ('c', 22)]\n"
     ]
    }
   ],
   "source": [
    "d = {'b':1, 'a':10, 'c':22}\n",
    "t = list(d.items())\n",
    "print(t)\n"
   ]
  },
  {
   "cell_type": "markdown",
   "id": "816ed387",
   "metadata": {},
   "source": [
    "As you should expect from a dictionary, the items are in non-alphabetical order.\n",
    "\n",
    "However, since the list of tuples is a list, and tuples are comparable, we can now sort the list of tuples. Converting a dictionary to a list of tuples is a way for us to output the contents of a dictionary sorted by key:"
   ]
  },
  {
   "cell_type": "code",
   "execution_count": 46,
   "id": "173375d1",
   "metadata": {},
   "outputs": [
    {
     "data": {
      "text/plain": [
       "[('b', 1), ('a', 10), ('c', 22)]"
      ]
     },
     "execution_count": 46,
     "metadata": {},
     "output_type": "execute_result"
    }
   ],
   "source": [
    "d = {'b':1, 'a':10, 'c':22}\n",
    "t = list(d.items())\n",
    "t"
   ]
  },
  {
   "cell_type": "code",
   "execution_count": 48,
   "id": "cb0ffe72",
   "metadata": {},
   "outputs": [
    {
     "data": {
      "text/plain": [
       "[('a', 10), ('b', 1), ('c', 22)]"
      ]
     },
     "execution_count": 48,
     "metadata": {},
     "output_type": "execute_result"
    }
   ],
   "source": [
    "t.sort()\n",
    "t"
   ]
  },
  {
   "cell_type": "markdown",
   "id": "044d49dc",
   "metadata": {},
   "source": [
    "The new list is sorted in ascending alphabetical order by the key value."
   ]
  },
  {
   "cell_type": "markdown",
   "id": "99c31851",
   "metadata": {},
   "source": [
    "## Multiple Assignments with Dictionaries\n"
   ]
  },
  {
   "cell_type": "markdown",
   "id": "cc845eef",
   "metadata": {},
   "source": [
    "Combining `items`, tuple assignment, and `for`, you can see a nice code pattern for traversing the keys and values of a dictionary in a single loop:\n",
    "\n"
   ]
  },
  {
   "cell_type": "code",
   "execution_count": 49,
   "id": "6cf8ad09",
   "metadata": {},
   "outputs": [
    {
     "name": "stdout",
     "output_type": "stream",
     "text": [
      "10 a\n",
      "1 b\n",
      "22 c\n"
     ]
    }
   ],
   "source": [
    "d = {'a':10, 'b':1, 'c':22}\n",
    "for key, val in list(d.items()):\n",
    "    print(val, key)"
   ]
  },
  {
   "cell_type": "markdown",
   "id": "fbe7a42f",
   "metadata": {},
   "source": [
    "This loop has two iteration variables because `items` returns a list of tuples and `key, val` is a tuple assignment that successively iterates through each of the key-value pairs in the dictionary.\n",
    "\n",
    "For each iteration through the loop, both `key` and `value` are advanced to the next key-value pair in the dictionary (still in hash order)."
   ]
  },
  {
   "cell_type": "markdown",
   "id": "fede4464",
   "metadata": {},
   "source": [
    "Again, it is in hash key order (i.e., no particular order).\n",
    "\n",
    "If we combine these two techniques, we can print out the contents of a dictionary sorted by the value stored in each key-value pair.\n",
    "\n",
    "To do this, we first make a list of tuples where each tuple is (`value, key`). The `items` method would give us a list of (`key, value`) tuples, but this time we want to sort by value, not key. Once we have constructed the list with the value-key tuples, it is a simple matter to sort the list in reverse order and print out the new, sorted list."
   ]
  },
  {
   "cell_type": "code",
   "execution_count": 54,
   "id": "b7a27703",
   "metadata": {},
   "outputs": [
    {
     "data": {
      "text/plain": [
       "[(22, 'c'), (10, 'a'), (1, 'b')]"
      ]
     },
     "execution_count": 54,
     "metadata": {},
     "output_type": "execute_result"
    }
   ],
   "source": [
    "d = {'a':10, 'b':1, 'c':22}\n",
    "l = list()\n",
    "for key, val in d.items() :\n",
    "    l.append( (val, key) )\n",
    "    l.sort(reverse=True)\n",
    "l"
   ]
  },
  {
   "cell_type": "markdown",
   "id": "9279c116",
   "metadata": {},
   "source": [
    "By carefully constructing the list of tuples to have the value as the first element of each tuple, we can sort the list of tuples and get our dictionary contents sorted by value."
   ]
  },
  {
   "cell_type": "markdown",
   "id": "16891ed9",
   "metadata": {},
   "source": [
    "## The Most Common Words\n"
   ]
  },
  {
   "cell_type": "markdown",
   "id": "158df08c",
   "metadata": {},
   "source": [
    "Coming back to our running example of the text from Romeo and Juliet Act 2, Scene 2, we can augment our program to use this technique to print the ten most common words in the text as follows:"
   ]
  },
  {
   "cell_type": "code",
   "execution_count": 2,
   "id": "498fd478",
   "metadata": {},
   "outputs": [
    {
     "name": "stdout",
     "output_type": "stream",
     "text": [
      "61 i\n",
      "42 and\n",
      "40 romeo\n",
      "34 to\n",
      "34 the\n",
      "32 thou\n",
      "32 juliet\n",
      "30 that\n",
      "29 my\n",
      "24 thee\n"
     ]
    }
   ],
   "source": [
    "import string\n",
    "fhand = open('romeo-full.txt')\n",
    "counts = dict()\n",
    "for line in fhand:\n",
    "    line = line.translate(str.maketrans('', '', string.punctuation))\n",
    "    line = line.lower()\n",
    "    words = line.split()\n",
    "    for word in words:\n",
    "        if word not in counts:\n",
    "            counts[word] = 1\n",
    "        else:\n",
    "            counts[word] += 1\n",
    "\n",
    "# Sort the dictionary by value\n",
    "lst = list()\n",
    "for key, val in list(counts.items()):\n",
    "    lst.append((val, key))\n",
    "\n",
    "lst.sort(reverse=True)\n",
    "\n",
    "for key, val in lst[:10]:\n",
    "    print(key, val)"
   ]
  },
  {
   "cell_type": "markdown",
   "id": "494e347f",
   "metadata": {},
   "source": [
    "The first part of the program which reads the file and computes the dictionary that maps each word to the count of words in the document is unchanged. But instead of simply printing out counts and ending the program, we construct a list of (`val, key`) tuples and then sort the list in reverse order.\n",
    "\n",
    "Since the value is first, it will be used for the comparisons. If there is more than one tuple with the same value, it will look at the second element (the key), so tuples where the value is the same will be further sorted by the alphabetical order of the key.\n",
    "\n",
    "At the end we write a nice `for` loop which does a multiple assignment iteration and prints out the ten most common words by iterating through a slice of the list (`lst[:10]`).\n",
    "\n",
    "So now the output finally looks like what we want for our word frequency analysis."
   ]
  },
  {
   "cell_type": "markdown",
   "id": "b226d108",
   "metadata": {},
   "source": [
    "The fact that this complex data parsing and analysis can be done with an easy-to-understand 19-line Python program is one reason why Python is a good choice as a language for exploring information."
   ]
  },
  {
   "cell_type": "markdown",
   "id": "f07147be",
   "metadata": {},
   "source": [
    "## Using Tuples as Keys in Dictionaries"
   ]
  },
  {
   "cell_type": "markdown",
   "id": "7684a4c5",
   "metadata": {},
   "source": [
    "Because tuples are hashable and lists are not, if we want to create a composite key to use in a dictionary we must use a tuple as the key.\n",
    "\n",
    "We would encounter a composite key if we wanted to create a telephone directory that maps from last-name, first-name pairs to telephone numbers. Assuming that we have defined the variables `last`, `first`, and `number`, we could write a dictionary assignment statement as follows:"
   ]
  },
  {
   "cell_type": "code",
   "execution_count": 7,
   "id": "1a814366",
   "metadata": {},
   "outputs": [
    {
     "ename": "NameError",
     "evalue": "name 'directory' is not defined",
     "output_type": "error",
     "traceback": [
      "\u001b[1;31m---------------------------------------------------------------------------\u001b[0m",
      "\u001b[1;31mNameError\u001b[0m                                 Traceback (most recent call last)",
      "Cell \u001b[1;32mIn[7], line 1\u001b[0m\n\u001b[1;32m----> 1\u001b[0m number \u001b[38;5;241m=\u001b[39m \u001b[43mdirectory\u001b[49m[last,first]\n",
      "\u001b[1;31mNameError\u001b[0m: name 'directory' is not defined"
     ]
    }
   ],
   "source": [
    "number = directory[last,first]\n"
   ]
  },
  {
   "cell_type": "markdown",
   "id": "e0927364",
   "metadata": {},
   "source": [
    "The expression in brackets is a tuple. We could use tuple assignment in a `for` loop to traverse this dictionary."
   ]
  },
  {
   "cell_type": "code",
   "execution_count": 6,
   "id": "cc9b3c0f",
   "metadata": {},
   "outputs": [
    {
     "ename": "NameError",
     "evalue": "name 'directory' is not defined",
     "output_type": "error",
     "traceback": [
      "\u001b[1;31m---------------------------------------------------------------------------\u001b[0m",
      "\u001b[1;31mNameError\u001b[0m                                 Traceback (most recent call last)",
      "Cell \u001b[1;32mIn[6], line 1\u001b[0m\n\u001b[1;32m----> 1\u001b[0m \u001b[38;5;28;01mfor\u001b[39;00m last, first \u001b[38;5;129;01min\u001b[39;00m \u001b[43mdirectory\u001b[49m:\n\u001b[0;32m      2\u001b[0m     \u001b[38;5;28mprint\u001b[39m(first, last, directory[last,first])\n",
      "\u001b[1;31mNameError\u001b[0m: name 'directory' is not defined"
     ]
    }
   ],
   "source": [
    "for last, first in directory:\n",
    "    print(first, last, directory[last,first])\n"
   ]
  },
  {
   "cell_type": "markdown",
   "id": "f78cbc86",
   "metadata": {},
   "source": [
    "This loop traverses the keys in directory, which are tuples. It assigns the elements of each tuple to last and first, then prints the name and corresponding telephone number."
   ]
  },
  {
   "cell_type": "markdown",
   "id": "f0ec8070",
   "metadata": {},
   "source": [
    "## Sequences: Strings, Lists, and Tuples"
   ]
  },
  {
   "cell_type": "markdown",
   "id": "3bd4615a",
   "metadata": {},
   "source": [
    "I have focused on lists of tuples, but almost all of the examples in this chapter also work with lists of lists, tuples of tuples, and tuples of lists. To avoid enumerating the possible combinations, it is sometimes easier to talk about sequences of sequences.\n",
    "\n",
    "In many contexts, the different kinds of sequences (strings, lists, and tuples) can be used interchangeably. So how and why do you choose one over the others?\n",
    "\n",
    "To start with the obvious, strings are more limited than other sequences because the elements have to be characters. They are also immutable. If you need the ability to change the characters in a string (as opposed to creating a new string), you might want to use a list of characters instead.\n",
    "\n",
    "Lists are more common than tuples, mostly because they are mutable. But there are a few cases where you might prefer tuples:\n",
    "\n",
    "In some contexts, like a `return` statement, it is syntactically simpler to create a tuple than a list. In other contexts, you might prefer a list.\n",
    "\n",
    "If you want to use a sequence as a dictionary key, you have to use an immutable type like a tuple or string.\n",
    "\n",
    "If you are passing a sequence as an argument to a function, using tuples reduces the potential for unexpected behavior due to aliasing.\n",
    "\n",
    "Because tuples are immutable, they don't provide methods like `sort` and `reverse`, which modify existing lists. However Python provides the built-in functions `sorted` and `reversed`, which take any sequence as a parameter and return a new sequence with the same elements in a different order."
   ]
  },
  {
   "cell_type": "markdown",
   "id": "00f540c7",
   "metadata": {},
   "source": [
    "## List Comprehension"
   ]
  },
  {
   "cell_type": "code",
   "execution_count": 9,
   "id": "a0c98e94",
   "metadata": {},
   "outputs": [
    {
     "name": "stdout",
     "output_type": "stream",
     "text": [
      "119\n"
     ]
    }
   ],
   "source": [
    "list_of_ints_in_strings = ['42', '65', '12']\n",
    "list_of_ints = []\n",
    "for x in list_of_ints_in_strings:\n",
    "    list_of_ints.append(int(x))\n",
    "\n",
    "print(sum(list_of_ints))"
   ]
  },
  {
   "cell_type": "markdown",
   "id": "1614dd8f",
   "metadata": {},
   "source": [
    "With list comprehension, the above code can be written in a more compact manner:"
   ]
  },
  {
   "cell_type": "code",
   "execution_count": 10,
   "id": "b0ca0084",
   "metadata": {},
   "outputs": [
    {
     "name": "stdout",
     "output_type": "stream",
     "text": [
      "119\n"
     ]
    }
   ],
   "source": [
    "list_of_ints_in_strings = ['42', '65', '12']\n",
    "list_of_ints = [ int(x) for x in list_of_ints_in_strings ]\n",
    "print(sum(list_of_ints))"
   ]
  },
  {
   "cell_type": "markdown",
   "id": "edbe344a",
   "metadata": {},
   "source": [
    "## Debugging"
   ]
  },
  {
   "cell_type": "markdown",
   "id": "e8052b05",
   "metadata": {},
   "source": [
    "Lists, dictionaries and tuples are known generically as *data structures*; in this chapter we are starting to see compound data structures, like lists of tuples, and dictionaries that contain tuples as keys and lists as values. Compound data structures are useful, but they are prone to what I call *shape errors*; that is, errors caused when a data structure has the wrong type, size, or composition, or perhaps you write some code and forget the shape of your data and introduce an error. For example, if you are expecting a list with one integer and I give you a plain old integer (not in a list), it won't work."
   ]
  },
  {
   "cell_type": "markdown",
   "id": "d121ced7",
   "metadata": {},
   "source": [
    "## Glossary"
   ]
  },
  {
   "cell_type": "markdown",
   "id": "346ad5f3",
   "metadata": {},
   "source": [
    "**comparable**: A type where one value can be checked to see if it is greater than, less than, or equal to another value of the same type. Types which are comparable can be put in a list and sorted.\n",
    "\n",
    "**data structure**: A collection of related values, often organized in lists, dictionaries, tuples, etc.\n",
    "\n",
    "**DSU**: Abbreviation of \"decorate-sort-undecorate\", a pattern that involves building a list of tuples, sorting, and extracting part of the result.\n",
    "\n",
    "**gather**: The operation of assembling a variable-length argument tuple.\n",
    "\n",
    "**hashable**: A type that has a hash function. Immutable types like integers, floats, and strings are hashable; mutable types like lists and dictionaries are not.\n",
    "\n",
    "**scatter**: The operation of treating a sequence as a list of arguments.\n",
    "\n",
    "**shape (of a data structure)**: A summary of the type, size, and composition of a data structure.\n",
    "\n",
    "**singleton**: A list (or other sequence) with a single element.\n",
    "\n",
    "**tuple**: An immutable sequence of elements.\n",
    "\n",
    "**tuple assignment**: An assignment with a sequence on the right side and a tuple of variables on the left. The right side is evaluated and then its elements are assigned to the variables on the left."
   ]
  },
  {
   "cell_type": "markdown",
   "id": "9476d92f",
   "metadata": {},
   "source": [
    "## Exercise 1 "
   ]
  },
  {
   "cell_type": "markdown",
   "id": "59001f08",
   "metadata": {},
   "source": [
    "Video: Sorting a Dictionary Using Tuples\n",
    "\n",
    "### <https://www.youtube.com/watch?v=hMJpet-gtc0>\n",
    "\n",
    "Revise a previous program as follows: Read and parse the \"From \" lines and pull out the addresses from the line. Count the number of messages from each person using a dictionary.\n",
    "\n",
    "After all the data has been read, print the person with the most commits by creating a list of (count, email) tuples from the dictionary. Then sort the list in reverse order and print out the person who has the most commits.\n",
    "\n",
    "```\n",
    "Sample Line:\n",
    "From stephen.marquard@uct.ac.za Sat Jan  5 09:14:16 2008\n",
    "\n",
    "Enter a file name: mbox-short.txt\n",
    "cwen@iupui.edu 5\n",
    "\n",
    "Enter a file name: mbox.txt\n",
    "zqian@umich.edu 195\n",
    "```"
   ]
  },
  {
   "cell_type": "code",
   "execution_count": 29,
   "id": "737380b9",
   "metadata": {},
   "outputs": [
    {
     "name": "stdout",
     "output_type": "stream",
     "text": [
      "Enter file name: mbox-short.txt\n",
      "cwen@iupui.edu 5\n"
     ]
    }
   ],
   "source": [
    "def ex_10_01():\n",
    "    filename = input(\"Enter file name: \")\n",
    "    fhand = open(filename, 'r')\n",
    "    email_addresses = {}\n",
    "    \n",
    "    for line in fhand:\n",
    "        if line.startswith(\"From \"):\n",
    "            email = line.split()[1]\n",
    "            email_addresses[email] = email_addresses.get(email, 0) + 1 \n",
    "    \n",
    "    lst = []\n",
    "    for key, value in email_addresses.items(): #\n",
    "        lst.append((value,key))\n",
    "        \n",
    "    lst.sort(reverse=True) # largest first with reverse=True\n",
    "    person_tuple = lst[0]  # set email person to be 1st item in lst\n",
    "    print(person_tuple[1], person_tuple[0]) # print in the order of the exercise\n",
    "        \n",
    "    \n",
    "ex_10_01()           "
   ]
  },
  {
   "cell_type": "code",
   "execution_count": 60,
   "id": "476193e3",
   "metadata": {},
   "outputs": [
    {
     "name": "stdout",
     "output_type": "stream",
     "text": [
      "Enter file name: mbox-short.txt\n",
      "cwen@iupui.edu 5\n"
     ]
    }
   ],
   "source": [
    "# class example\n",
    "def ex_10_01():\n",
    "    handle = open(input(\"Enter file name: \"))\n",
    "    histogram = dict()\n",
    "    \n",
    "    for line in handle:\n",
    "        line_split = line.split()\n",
    "        if len(line_split) > 0 and line_split [0] == \"From\":\n",
    "            # print(line_split)\n",
    "            email = line_split[1]\n",
    "            histogram[email] = histogram.get(email, 0) + 1\n",
    "\n",
    "    reverse_tuples = histogram.items()\n",
    "    tuples = []\n",
    "\n",
    "    for email, count in reverse_tuples:\n",
    "        tuples.append((count, email))\n",
    "\n",
    "    tuples.sort(reverse=True)\n",
    "    maxCount, maxEmail = tuples[0]\n",
    "    print(maxEmail, maxCount)\n",
    "\n",
    "ex_10_01()"
   ]
  },
  {
   "cell_type": "markdown",
   "id": "f8478897",
   "metadata": {},
   "source": [
    "## Exercise 2 "
   ]
  },
  {
   "cell_type": "markdown",
   "id": "8a7d05b2",
   "metadata": {},
   "source": [
    "This program counts the distribution of the hour of the day for each of the messages. You can pull the hour from the \"From \" line by finding the time string and then splitting that string into parts using the colon character. Once you have accumulated the counts for each hour, print out the counts, one per line, sorted by hour as shown below. Accept and complete the assignment in the Github Classroom\n",
    "\n",
    "```\n",
    "python timeofday.py\n",
    "Enter a file name: mbox-short.txt\n",
    "04 3\n",
    "06 1\n",
    "07 1\n",
    "09 2\n",
    "10 3\n",
    "11 6\n",
    "14 1\n",
    "15 2\n",
    "16 4\n",
    "17 2\n",
    "18 1\n",
    "19 1\n",
    "```"
   ]
  },
  {
   "cell_type": "code",
   "execution_count": 40,
   "id": "40a23e1a",
   "metadata": {},
   "outputs": [
    {
     "name": "stdout",
     "output_type": "stream",
     "text": [
      "Enter file name: mbox-short.txt\n",
      "04 3\n",
      "06 1\n",
      "07 1\n",
      "09 2\n",
      "10 3\n",
      "11 6\n",
      "14 1\n",
      "15 2\n",
      "16 4\n",
      "17 2\n",
      "18 1\n",
      "19 1\n",
      "[('04', 3), ('06', 1), ('07', 1), ('09', 2), ('10', 3), ('11', 6), ('14', 1), ('15', 2), ('16', 4), ('17', 2), ('18', 1), ('19', 1)]\n"
     ]
    }
   ],
   "source": [
    "def ex_10_02():\n",
    "    \"\"\"\n",
    "    This program counts the distribution of the hour of the day for each of \n",
    "    the messages. You can pull the hour from the \"From \" line by finding the \n",
    "    time string and then splitting that string into parts using the colon \n",
    "    character. Once you have accumulated the counts for each hour, print out\n",
    "    the counts, one per line, sorted by hour as shown below.\n",
    "    \n",
    "    python timeofday.py\n",
    "    Enter a file name: mbox-short.txt\n",
    "    04 3\n",
    "    06 1\n",
    "    07 1\n",
    "    09 2\n",
    "    10 3\n",
    "    11 6\n",
    "    14 1\n",
    "    15 2\n",
    "    16 4\n",
    "    17 2\n",
    "    18 1\n",
    "    19 1\n",
    "    \"\"\"\n",
    "    \n",
    "    filename = input(\"Enter file name: \")\n",
    "    fhand = open(filename, 'r')\n",
    "    hours_of_day = {}\n",
    "    \n",
    "    for line in fhand:\n",
    "        if line.startswith(\"From \"):\n",
    "            time = line.split()[5]\n",
    "            hour = time.split(\":\")[0]\n",
    "            hours_of_day[hour] = hours_of_day.get(hour, 0) + 1 \n",
    "    #print(hours_of_day)\n",
    "    \n",
    "    \n",
    "    lst = list(hours_of_day.items())\n",
    "#     for key, value in hours_of_day.items(): #\n",
    "#         lst.append((key, value))\n",
    "        \n",
    "    lst.sort()\n",
    "    for l in lst:\n",
    "        print(l[0], l[1])\n",
    "    print(lst)\n",
    "        \n",
    "#     lst.sort(reverse=True) # largest first with reverse=True\n",
    "#     person_tuple = lst[0]  # set email person to be 1st item in lst\n",
    "#     print(person_tuple[1], person_tuple[0]) # print in the order of the exercise\n",
    "        \n",
    "    \n",
    "ex_10_02()   "
   ]
  },
  {
   "cell_type": "code",
   "execution_count": 62,
   "id": "87b89b19",
   "metadata": {},
   "outputs": [],
   "source": [
    "# submitted\n",
    "def exercise_10_2():\n",
    "    \"\"\"\n",
    "    This program counts the distribution of the hour of the day for each of \n",
    "    the messages. You can pull the hour from the \"From \" line by finding the \n",
    "    time string and then splitting that string into parts using the colon \n",
    "    character. Once you have accumulated the counts for each hour, print out\n",
    "    the counts, one per line, sorted by hour as shown below.\n",
    "    \n",
    "    python timeofday.py\n",
    "    Enter a file name: mbox-short.txt\n",
    "    04 3\n",
    "    06 1\n",
    "    07 1\n",
    "    09 2\n",
    "    10 3\n",
    "    11 6\n",
    "    14 1\n",
    "    15 2\n",
    "    16 4\n",
    "    17 2\n",
    "    18 1\n",
    "    19 1\n",
    "    \"\"\"\n",
    "    # first, set conditional to open file and shortcut if file is 'mbox-short.txt'\n",
    "    name = input(\"Enter file:\")\n",
    "    if len(name) < 1:\n",
    "        name = \"mbox-short.txt\"\n",
    "    handle = open(name)\n",
    "    # second, set empty dictionary to store hours of day \n",
    "    hours_dict = {}\n",
    "    # pull hour from each day and use .get() idiom\n",
    "    for line in handle:\n",
    "        if line.startswith(\"From \"):\n",
    "            time = line.split()[5]\n",
    "            hour = time.split(\":\")[0]\n",
    "            hours_dict[hour] = hours_dict.get(hour, 0) + 1\n",
    "            #print(hours_dict)\n",
    "        tup_lst = list(hours_dict.items()) # create tuple list with .items()\n",
    "        #print(tup_lst)\n",
    "    tup_lst.sort()  # sort the list of tuples\n",
    "    # clean up the print to match exercise by using another for loop\n",
    "    for l in tup_lst:\n",
    "        print(l[0], l[1])\n",
    "    #print(tup_lst)\n",
    "\n",
    "# exercise_10_2()"
   ]
  },
  {
   "cell_type": "markdown",
   "id": "7196c259",
   "metadata": {},
   "source": [
    "## Exercise 3\n",
    "\n",
    "Write a program that reads a file and prints the letters in decreasing order of frequency. Your program should convert all the input to lower case and only count the letters a-z. Your program should not count spaces, digits, punctuation, or anything other than the letters a-z. Find text samples from several different languages and see how letter frequency varies between languages. Compare your results with the tables at https://wikipedia.org/wiki/Letter_frequencies."
   ]
  },
  {
   "cell_type": "code",
   "execution_count": 58,
   "id": "403499f8",
   "metadata": {},
   "outputs": [
    {
     "name": "stdout",
     "output_type": "stream",
     "text": [
      "Enter file name: mbox-short.txt\n",
      "e 5436\n",
      "a 5223\n",
      "i 4494\n",
      "o 4174\n",
      "r 4064\n",
      "t 4050\n",
      "s 3738\n",
      "u 3123\n",
      "c 3088\n",
      "n 2575\n",
      "p 2497\n",
      "m 2436\n",
      "d 2004\n",
      "l 1832\n",
      "h 1392\n",
      "f 1257\n",
      "k 1167\n",
      "b 1134\n",
      "g 1027\n",
      "v 997\n",
      "j 959\n",
      "y 643\n",
      "w 586\n",
      "x 482\n",
      "z 78\n",
      "q 57\n"
     ]
    }
   ],
   "source": [
    "def ex_10_03():\n",
    "    \"\"\"\n",
    "    Write a program that reads a file and prints the letters in decreasing \n",
    "    order of frequency. Your program should convert all the input to lower \n",
    "    case and only count the letters a-z. Your program should not count spaces,\n",
    "    digits, punctuation, or anything other than the letters a-z. Find text \n",
    "    samples from several different languages and see how letter frequency \n",
    "    varies between languages. Compare your results with the tables at \n",
    "    https://wikipedia.org/wiki/Letter_frequencies.\n",
    "    \"\"\"\n",
    "    \n",
    "    alphabet = 'abcdefghijklmnopqrstuvwxyz'\n",
    "    \n",
    "    filename = input(\"Enter file name: \")\n",
    "    fhand = open(filename, 'r')\n",
    "    text = fhand.read()\n",
    "    # print(text)\n",
    "    \n",
    "    freq_dict = {}\n",
    "    for ch in text.lower():\n",
    "        if ch in alphabet:\n",
    "            freq_dict[ch] = freq_dict.get(ch, 0) + 1\n",
    "            \n",
    "    # now to order it using tuples\n",
    "    lst = []\n",
    "    for key,value in freq_dict.items():\n",
    "        lst.append((value,key)) # set as tuple\n",
    "    lst.sort(reverse=True)\n",
    "    \n",
    "    # print better\n",
    "    for freq, letter in lst:\n",
    "        print(letter, freq)\n",
    "        \n",
    "ex_10_03()"
   ]
  },
  {
   "cell_type": "code",
   "execution_count": null,
   "id": "a0c445e1",
   "metadata": {},
   "outputs": [],
   "source": []
  }
 ],
 "metadata": {
  "kernelspec": {
   "display_name": "Python 3 (ipykernel)",
   "language": "python",
   "name": "python3"
  },
  "language_info": {
   "codemirror_mode": {
    "name": "ipython",
    "version": 3
   },
   "file_extension": ".py",
   "mimetype": "text/x-python",
   "name": "python",
   "nbconvert_exporter": "python",
   "pygments_lexer": "ipython3",
   "version": "3.9.17"
  }
 },
 "nbformat": 4,
 "nbformat_minor": 5
}
